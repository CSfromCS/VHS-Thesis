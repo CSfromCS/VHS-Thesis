{
 "cells": [
  {
   "cell_type": "code",
   "execution_count": null,
   "metadata": {},
   "outputs": [],
   "source": [
    "import pandas as pd\n",
    "import time\n",
    "import numpy as np\n",
    "import datetime"
   ]
  },
  {
   "cell_type": "code",
   "execution_count": null,
   "metadata": {},
   "outputs": [],
   "source": [
    "df = pd.read_csv('../Data Preprocessing/Train_Out.csv')\n",
    "df.tail(10)\n",
    "df.columns = ['Series', 'Datetime', 'Day', 'Day_of_Week', 'Time', 'Hour_of_Day', 'IsEJeep1',\n",
    "       'IsEJeep2', 'Altitude', 'Humidity', 'Temperature',\n",
    "       'Latitude', 'Longitude', 'Lat Diff', 'Long Diff', 'Distance',\n",
    "       'Cum Distance', 'Abs Distance', 'Percent Distance', 'Encoded Station',\n",
    "       'IsStation', 'IsCharging', 'Encoded Prev Station', 'Prev Station Lat',\n",
    "       'Prev Station Long', 'Prev Abs Distance', 'Prev Cum Distance',\n",
    "       'Previous Time to Xavier Hall', 'Previous Time to Fine Arts Annex',\n",
    "       'Previous Time to Loyola House of Studies',\n",
    "       'Previous Time to Grade School', 'Previous Time to Gate 2.5',\n",
    "       'Previous Time to Leong Hall', 'Encoded Next Station',\n",
    "       'Next Station Lat', 'Next Station Long', 'Next Time to Xavier Hall',\n",
    "       'Next Time to Fine Arts Annex', 'Next Time to Loyola House of Studies',\n",
    "       'Next Time to Grade School', 'Next Time to Gate 2.5',\n",
    "       'Next Time to Leong Hall']\n",
    "df.drop(columns=['Datetime'], inplace=True)\n",
    "\n",
    "df['Series'] = df.index + 1\n",
    "df"
   ]
  },
  {
   "cell_type": "code",
   "execution_count": null,
   "metadata": {},
   "outputs": [],
   "source": [
    "# encoding the timestamp data cyclically. See Medium Article.\n",
    "def process_data(source):\n",
    "\n",
    "    df = pd.read_csv(source)\n",
    "        \n",
    "    timestamps = [ts.split('+')[0] for ts in  df['timestamp']]\n",
    "    timestamps_hour = np.array([float(datetime.datetime.strptime(t, '%Y-%m-%d %H:%M:%S').hour) for t in timestamps])\n",
    "    timestamps_day = np.array([float(datetime.datetime.strptime(t, '%Y-%m-%d %H:%M:%S').day) for t in timestamps])\n",
    "    timestamps_month = np.array([float(datetime.datetime.strptime(t, '%Y-%m-%d %H:%M:%S').month) for t in timestamps])\n",
    "\n",
    "    hours_in_day = 24\n",
    "    days_in_month = 30\n",
    "    month_in_year = 12\n",
    "\n",
    "    df['sin_hour'] = np.sin(2*np.pi*timestamps_hour/hours_in_day)\n",
    "    df['cos_hour'] = np.cos(2*np.pi*timestamps_hour/hours_in_day)\n",
    "    df['sin_day'] = np.sin(2*np.pi*timestamps_day/days_in_month)\n",
    "    df['cos_day'] = np.cos(2*np.pi*timestamps_day/days_in_month)\n",
    "    df['sin_month'] = np.sin(2*np.pi*timestamps_month/month_in_year)\n",
    "    df['cos_month'] = np.cos(2*np.pi*timestamps_month/month_in_year)\n",
    "\n",
    "    return df"
   ]
  },
  {
   "cell_type": "code",
   "execution_count": null,
   "metadata": {},
   "outputs": [],
   "source": [
    "train_dataset = process_data('Data/train_raw.csv')\n",
    "test_dataset = process_data('Data/test_raw.csv')\n",
    "\n",
    "train_dataset.to_csv(r'Data/train_dataset.csv', index=False)\n",
    "test_dataset.to_csv(r'Data/test_dataset.csv', index=False)"
   ]
  }
 ],
 "metadata": {
  "language_info": {
   "name": "python"
  }
 },
 "nbformat": 4,
 "nbformat_minor": 2
}
