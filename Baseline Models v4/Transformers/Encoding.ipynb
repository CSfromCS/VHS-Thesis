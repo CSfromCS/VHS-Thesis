{
 "cells": [
  {
   "cell_type": "code",
   "execution_count": null,
   "metadata": {},
   "outputs": [],
   "source": [
    "import pandas as pd\n",
    "import time\n",
    "import numpy as np\n",
    "import datetime"
   ]
  },
  {
   "cell_type": "code",
   "execution_count": null,
   "metadata": {},
   "outputs": [],
   "source": [
    "import numpy as np\n",
    "import pandas as pd\n",
    "\n",
    "def positional_encoding(df, time_col='datetime_seconds', period=1.0, embedding_dim=64):\n",
    "    \"\"\"\n",
    "    Apply positional encoding to a time series stored in a pandas DataFrame.\n",
    "\n",
    "    Parameters:\n",
    "    - df: pandas DataFrame containing time series data\n",
    "    - time_col: name of the column containing datetime information in seconds\n",
    "    - period: the duration of one period in the time series (e.g., 1 month)\n",
    "    - embedding_dim: the dimensionality of the positional encoding\n",
    "\n",
    "    Returns:\n",
    "    - pandas DataFrame with positional encoding added\n",
    "    \"\"\"\n",
    "    time_steps = df[time_col].values\n",
    "    angle_rads = 2 * np.pi * time_steps / period\n",
    "    position = np.arange(embedding_dim)[:, np.newaxis]\n",
    "    pos_enc_matrix = np.sin(angle_rads * position / embedding_dim) + np.cos(angle_rads * position / embedding_dim)\n",
    "\n",
    "    # Add positional encoding columns to the original DataFrame\n",
    "    pos_enc_columns = [f'pos_enc_{i}' for i in range(embedding_dim)]\n",
    "    df[pos_enc_columns] = pos_enc_matrix\n",
    "\n",
    "    return df\n",
    "\n",
    "# Example usage:\n",
    "# Assuming df is your DataFrame with a 'datetime_seconds' column\n",
    "# and you want to add positional encoding for a 1-month period with an embedding dimension of 64\n",
    "df = pd.DataFrame({'datetime_seconds': np.arange(0, 30 * 24 * 60 * 60, 60 * 60)})\n",
    "df_with_pos_enc = positional_encoding(df, period=30 * 24 * 60 * 60, embedding_dim=64)\n",
    "\n",
    "# Display the DataFrame with positional encoding\n",
    "print(df_with_pos_enc.head())"
   ]
  },
  {
   "cell_type": "code",
   "execution_count": null,
   "metadata": {},
   "outputs": [],
   "source": [
    "train_dataset = process_data('Data/train_raw.csv')\n",
    "test_dataset = process_data('Data/test_raw.csv')\n",
    "\n",
    "train_dataset.to_csv(r'Data/train_dataset.csv', index=False)\n",
    "test_dataset.to_csv(r'Data/test_dataset.csv', index=False)"
   ]
  }
 ],
 "metadata": {
  "language_info": {
   "name": "python"
  }
 },
 "nbformat": 4,
 "nbformat_minor": 2
}
