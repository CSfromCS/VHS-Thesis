{
 "cells": [
  {
   "cell_type": "code",
   "execution_count": null,
   "metadata": {},
   "outputs": [],
   "source": [
    "import matplotlib.pyplot as plt\n",
    "\n",
    "# Assuming you have the actual arrival time values in a list called 'y_actual'\n",
    "# and the predicted arrival time values in a list called 'y_predicted'\n",
    "\n",
    "# Create a scatter plot\n",
    "plt.scatter(y_actual, y_predicted)\n",
    "\n",
    "# Add labels and title\n",
    "plt.xlabel('Actual Arrival Time')\n",
    "plt.ylabel('Predicted Arrival Time')\n",
    "plt.title('Actual vs Predicted Arrival Time')\n",
    "\n",
    "# Show the plot\n",
    "plt.show()\n"
   ]
  }
 ],
 "metadata": {
  "language_info": {
   "name": "python"
  }
 },
 "nbformat": 4,
 "nbformat_minor": 2
}
