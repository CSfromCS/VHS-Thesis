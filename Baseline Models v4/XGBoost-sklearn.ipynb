{
  "cells": [
    {
      "cell_type": "code",
      "execution_count": 20,
      "metadata": {
        "id": "2jnTMpQ3vRJx"
      },
      "outputs": [],
      "source": [
        "import numpy as np\n",
        "\n",
        "from scipy.stats import uniform, randint\n",
        "\n",
        "from sklearn.datasets import load_breast_cancer, load_diabetes, load_wine\n",
        "from sklearn.metrics import auc, accuracy_score, confusion_matrix, mean_squared_error\n",
        "from sklearn.model_selection import cross_val_score, GridSearchCV, KFold, RandomizedSearchCV, train_test_split\n",
        "\n",
        "import xgboost as xgb"
      ]
    },
    {
      "cell_type": "markdown",
      "metadata": {
        "id": "CSxDX0jMvpjZ"
      },
      "source": [
        "# E-jeep Data Set\n",
        "\n",
        "This dataset contains chronological data with regards to the location of the E-Jeep on Line A."
      ]
    },
    {
      "cell_type": "code",
      "execution_count": 6,
      "metadata": {
        "colab": {
          "base_uri": "https://localhost:8080/"
        },
        "id": "KARZgZI-v5vv",
        "outputId": "30cadc85-7284-43ac-9f53-31f2168b5eb9"
      },
      "outputs": [
        {
          "data": {
            "text/html": [
              "<div>\n",
              "<style scoped>\n",
              "    .dataframe tbody tr th:only-of-type {\n",
              "        vertical-align: middle;\n",
              "    }\n",
              "\n",
              "    .dataframe tbody tr th {\n",
              "        vertical-align: top;\n",
              "    }\n",
              "\n",
              "    .dataframe thead th {\n",
              "        text-align: right;\n",
              "    }\n",
              "</style>\n",
              "<table border=\"1\" class=\"dataframe\">\n",
              "  <thead>\n",
              "    <tr style=\"text-align: right;\">\n",
              "      <th></th>\n",
              "      <th>Date(GMT)</th>\n",
              "      <th>Date(Local)</th>\n",
              "      <th>Time(sec)</th>\n",
              "      <th>Latitude</th>\n",
              "      <th>Longitude</th>\n",
              "      <th>Horizontal Accuracy(m)</th>\n",
              "      <th>Altitude(m)</th>\n",
              "      <th>Vertical Accuracy(m)</th>\n",
              "      <th>Distance(m)</th>\n",
              "      <th>Speed(m/s)</th>\n",
              "      <th>...</th>\n",
              "      <th>Heading Accuracy(deg)</th>\n",
              "      <th>Glide Ratio</th>\n",
              "      <th>Heart Rate (bpm)</th>\n",
              "      <th>Year</th>\n",
              "      <th>Month</th>\n",
              "      <th>Day</th>\n",
              "      <th>Hour</th>\n",
              "      <th>Minute</th>\n",
              "      <th>Second</th>\n",
              "      <th>Millisecond</th>\n",
              "    </tr>\n",
              "  </thead>\n",
              "  <tbody>\n",
              "    <tr>\n",
              "      <th>0</th>\n",
              "      <td>2023-09-18 04:52:44.00</td>\n",
              "      <td>2023-09-18 12:52:44.00</td>\n",
              "      <td>0.0003160238265991211</td>\n",
              "      <td>14.634736</td>\n",
              "      <td>121.076293</td>\n",
              "      <td>3.535533905932737</td>\n",
              "      <td>60.64281845092773</td>\n",
              "      <td>3</td>\n",
              "      <td>0</td>\n",
              "      <td>0</td>\n",
              "      <td>...</td>\n",
              "      <td>11.94986534118652</td>\n",
              "      <td>1018.12073776826</td>\n",
              "      <td>0</td>\n",
              "      <td>2023</td>\n",
              "      <td>9</td>\n",
              "      <td>18</td>\n",
              "      <td>12</td>\n",
              "      <td>52</td>\n",
              "      <td>44</td>\n",
              "      <td>0</td>\n",
              "    </tr>\n",
              "    <tr>\n",
              "      <th>1</th>\n",
              "      <td>2023-09-18 04:52:45.00</td>\n",
              "      <td>2023-09-18 12:52:45.00</td>\n",
              "      <td>0.5302410125732422</td>\n",
              "      <td>14.634736</td>\n",
              "      <td>121.076293</td>\n",
              "      <td>4.612905477116144</td>\n",
              "      <td>60.64281840994954</td>\n",
              "      <td>3.541982508706206</td>\n",
              "      <td>0</td>\n",
              "      <td>0</td>\n",
              "      <td>...</td>\n",
              "      <td>11.94986534118652</td>\n",
              "      <td>296.1881525974027</td>\n",
              "      <td>0</td>\n",
              "      <td>2023</td>\n",
              "      <td>9</td>\n",
              "      <td>18</td>\n",
              "      <td>12</td>\n",
              "      <td>52</td>\n",
              "      <td>45</td>\n",
              "      <td>0</td>\n",
              "    </tr>\n",
              "    <tr>\n",
              "      <th>2</th>\n",
              "      <td>2023-09-18 04:52:46.00</td>\n",
              "      <td>2023-09-18 12:52:46.00</td>\n",
              "      <td>1.522344946861267</td>\n",
              "      <td>14.634737</td>\n",
              "      <td>121.076293</td>\n",
              "      <td>4.612905477623176</td>\n",
              "      <td>61.00182719901204</td>\n",
              "      <td>3.541982508045873</td>\n",
              "      <td>0.04856229260522659</td>\n",
              "      <td>0</td>\n",
              "      <td>...</td>\n",
              "      <td>11.94986534118652</td>\n",
              "      <td>-171.6421289682452</td>\n",
              "      <td>0</td>\n",
              "      <td>2023</td>\n",
              "      <td>9</td>\n",
              "      <td>18</td>\n",
              "      <td>12</td>\n",
              "      <td>52</td>\n",
              "      <td>46</td>\n",
              "      <td>0</td>\n",
              "    </tr>\n",
              "    <tr>\n",
              "      <th>3</th>\n",
              "      <td>2023-09-18 04:52:47.00</td>\n",
              "      <td>2023-09-18 12:52:47.00</td>\n",
              "      <td>2.522934913635254</td>\n",
              "      <td>14.634726</td>\n",
              "      <td>121.076292</td>\n",
              "      <td>4.612905509348495</td>\n",
              "      <td>60.74187846761197</td>\n",
              "      <td>3.541982466728363</td>\n",
              "      <td>1.215731137435719</td>\n",
              "      <td>0</td>\n",
              "      <td>...</td>\n",
              "      <td>11.94986534118652</td>\n",
              "      <td>12.49411691942023</td>\n",
              "      <td>0</td>\n",
              "      <td>2023</td>\n",
              "      <td>9</td>\n",
              "      <td>18</td>\n",
              "      <td>12</td>\n",
              "      <td>52</td>\n",
              "      <td>47</td>\n",
              "      <td>0</td>\n",
              "    </tr>\n",
              "    <tr>\n",
              "      <th>4</th>\n",
              "      <td>2023-09-18 04:52:48.00</td>\n",
              "      <td>2023-09-18 12:52:48.00</td>\n",
              "      <td>3.522957921028137</td>\n",
              "      <td>14.634731</td>\n",
              "      <td>121.076293</td>\n",
              "      <td>4.612905492281161</td>\n",
              "      <td>61.36095805745572</td>\n",
              "      <td>3.541982488956028</td>\n",
              "      <td>1.796300261823075</td>\n",
              "      <td>0</td>\n",
              "      <td>...</td>\n",
              "      <td>11.91374492645264</td>\n",
              "      <td>3.42105642573424</td>\n",
              "      <td>0</td>\n",
              "      <td>2023</td>\n",
              "      <td>9</td>\n",
              "      <td>18</td>\n",
              "      <td>12</td>\n",
              "      <td>52</td>\n",
              "      <td>48</td>\n",
              "      <td>0</td>\n",
              "    </tr>\n",
              "    <tr>\n",
              "      <th>5</th>\n",
              "      <td>2023-09-18 04:52:49.00</td>\n",
              "      <td>2023-09-18 12:52:49.00</td>\n",
              "      <td>4.522933006286621</td>\n",
              "      <td>14.634732</td>\n",
              "      <td>121.076295</td>\n",
              "      <td>4.612905484480541</td>\n",
              "      <td>61.51488872151822</td>\n",
              "      <td>3.541982499115176</td>\n",
              "      <td>2.005280110045816</td>\n",
              "      <td>0</td>\n",
              "      <td>...</td>\n",
              "      <td>11.91004085540771</td>\n",
              "      <td>1.07442003648176</td>\n",
              "      <td>0</td>\n",
              "      <td>2023</td>\n",
              "      <td>9</td>\n",
              "      <td>18</td>\n",
              "      <td>12</td>\n",
              "      <td>52</td>\n",
              "      <td>49</td>\n",
              "      <td>0</td>\n",
              "    </tr>\n",
              "    <tr>\n",
              "      <th>6</th>\n",
              "      <td>2023-09-18 04:52:50.00</td>\n",
              "      <td>2023-09-18 12:52:50.00</td>\n",
              "      <td>5.522817015647888</td>\n",
              "      <td>14.634723</td>\n",
              "      <td>121.076296</td>\n",
              "      <td>4.612905503255921</td>\n",
              "      <td>61.07604594808072</td>\n",
              "      <td>3.541982474663035</td>\n",
              "      <td>2.980479474989021</td>\n",
              "      <td>0</td>\n",
              "      <td>...</td>\n",
              "      <td>11.91004085540771</td>\n",
              "      <td>1.310678106902141</td>\n",
              "      <td>0</td>\n",
              "      <td>2023</td>\n",
              "      <td>9</td>\n",
              "      <td>18</td>\n",
              "      <td>12</td>\n",
              "      <td>52</td>\n",
              "      <td>50</td>\n",
              "      <td>0</td>\n",
              "    </tr>\n",
              "    <tr>\n",
              "      <th>7</th>\n",
              "      <td>2023-09-18 04:52:51.00</td>\n",
              "      <td>2023-09-18 12:52:51.00</td>\n",
              "      <td>6.522790908813477</td>\n",
              "      <td>14.634720</td>\n",
              "      <td>121.076298</td>\n",
              "      <td>4.612905504615512</td>\n",
              "      <td>61.28716655354947</td>\n",
              "      <td>3.54198247289237</td>\n",
              "      <td>3.372537853205944</td>\n",
              "      <td>0</td>\n",
              "      <td>...</td>\n",
              "      <td>11.90593814849854</td>\n",
              "      <td>1.197349547133804</td>\n",
              "      <td>0</td>\n",
              "      <td>2023</td>\n",
              "      <td>9</td>\n",
              "      <td>18</td>\n",
              "      <td>12</td>\n",
              "      <td>52</td>\n",
              "      <td>51</td>\n",
              "      <td>0</td>\n",
              "    </tr>\n",
              "    <tr>\n",
              "      <th>8</th>\n",
              "      <td>2023-09-18 04:52:52.00</td>\n",
              "      <td>2023-09-18 12:52:52.00</td>\n",
              "      <td>7.522742986679077</td>\n",
              "      <td>14.634720</td>\n",
              "      <td>121.076298</td>\n",
              "      <td>4.612905502314121</td>\n",
              "      <td>61.66930766776204</td>\n",
              "      <td>3.54198247588959</td>\n",
              "      <td>3.457050379974796</td>\n",
              "      <td>0</td>\n",
              "      <td>...</td>\n",
              "      <td>11.90456295013428</td>\n",
              "      <td>1.401959559558112</td>\n",
              "      <td>0</td>\n",
              "      <td>2023</td>\n",
              "      <td>9</td>\n",
              "      <td>18</td>\n",
              "      <td>12</td>\n",
              "      <td>52</td>\n",
              "      <td>52</td>\n",
              "      <td>0</td>\n",
              "    </tr>\n",
              "    <tr>\n",
              "      <th>9</th>\n",
              "      <td>2023-09-18 04:52:53.00</td>\n",
              "      <td>2023-09-18 12:52:53.00</td>\n",
              "      <td>8.023118019104004</td>\n",
              "      <td>14.634718</td>\n",
              "      <td>121.076300</td>\n",
              "      <td>4.612905498615977</td>\n",
              "      <td>61.98272319417447</td>\n",
              "      <td>3.541982480705871</td>\n",
              "      <td>3.715026664938944</td>\n",
              "      <td>0</td>\n",
              "      <td>...</td>\n",
              "      <td>11.90456295013428</td>\n",
              "      <td>1.606592499835722</td>\n",
              "      <td>0</td>\n",
              "      <td>2023</td>\n",
              "      <td>9</td>\n",
              "      <td>18</td>\n",
              "      <td>12</td>\n",
              "      <td>52</td>\n",
              "      <td>53</td>\n",
              "      <td>0</td>\n",
              "    </tr>\n",
              "  </tbody>\n",
              "</table>\n",
              "<p>10 rows × 24 columns</p>\n",
              "</div>"
            ],
            "text/plain": [
              "                Date(GMT)             Date(Local)              Time(sec)  \\\n",
              "0  2023-09-18 04:52:44.00  2023-09-18 12:52:44.00  0.0003160238265991211   \n",
              "1  2023-09-18 04:52:45.00  2023-09-18 12:52:45.00     0.5302410125732422   \n",
              "2  2023-09-18 04:52:46.00  2023-09-18 12:52:46.00      1.522344946861267   \n",
              "3  2023-09-18 04:52:47.00  2023-09-18 12:52:47.00      2.522934913635254   \n",
              "4  2023-09-18 04:52:48.00  2023-09-18 12:52:48.00      3.522957921028137   \n",
              "5  2023-09-18 04:52:49.00  2023-09-18 12:52:49.00      4.522933006286621   \n",
              "6  2023-09-18 04:52:50.00  2023-09-18 12:52:50.00      5.522817015647888   \n",
              "7  2023-09-18 04:52:51.00  2023-09-18 12:52:51.00      6.522790908813477   \n",
              "8  2023-09-18 04:52:52.00  2023-09-18 12:52:52.00      7.522742986679077   \n",
              "9  2023-09-18 04:52:53.00  2023-09-18 12:52:53.00      8.023118019104004   \n",
              "\n",
              "    Latitude   Longitude Horizontal Accuracy(m)        Altitude(m)  \\\n",
              "0  14.634736  121.076293      3.535533905932737  60.64281845092773   \n",
              "1  14.634736  121.076293      4.612905477116144  60.64281840994954   \n",
              "2  14.634737  121.076293      4.612905477623176  61.00182719901204   \n",
              "3  14.634726  121.076292      4.612905509348495  60.74187846761197   \n",
              "4  14.634731  121.076293      4.612905492281161  61.36095805745572   \n",
              "5  14.634732  121.076295      4.612905484480541  61.51488872151822   \n",
              "6  14.634723  121.076296      4.612905503255921  61.07604594808072   \n",
              "7  14.634720  121.076298      4.612905504615512  61.28716655354947   \n",
              "8  14.634720  121.076298      4.612905502314121  61.66930766776204   \n",
              "9  14.634718  121.076300      4.612905498615977  61.98272319417447   \n",
              "\n",
              "  Vertical Accuracy(m)          Distance(m) Speed(m/s)  ...  \\\n",
              "0                    3                    0          0  ...   \n",
              "1    3.541982508706206                    0          0  ...   \n",
              "2    3.541982508045873  0.04856229260522659          0  ...   \n",
              "3    3.541982466728363    1.215731137435719          0  ...   \n",
              "4    3.541982488956028    1.796300261823075          0  ...   \n",
              "5    3.541982499115176    2.005280110045816          0  ...   \n",
              "6    3.541982474663035    2.980479474989021          0  ...   \n",
              "7     3.54198247289237    3.372537853205944          0  ...   \n",
              "8     3.54198247588959    3.457050379974796          0  ...   \n",
              "9    3.541982480705871    3.715026664938944          0  ...   \n",
              "\n",
              "  Heading Accuracy(deg)         Glide Ratio Heart Rate (bpm)  Year Month Day  \\\n",
              "0     11.94986534118652    1018.12073776826                0  2023     9  18   \n",
              "1     11.94986534118652   296.1881525974027                0  2023     9  18   \n",
              "2     11.94986534118652  -171.6421289682452                0  2023     9  18   \n",
              "3     11.94986534118652   12.49411691942023                0  2023     9  18   \n",
              "4     11.91374492645264    3.42105642573424                0  2023     9  18   \n",
              "5     11.91004085540771    1.07442003648176                0  2023     9  18   \n",
              "6     11.91004085540771   1.310678106902141                0  2023     9  18   \n",
              "7     11.90593814849854   1.197349547133804                0  2023     9  18   \n",
              "8     11.90456295013428   1.401959559558112                0  2023     9  18   \n",
              "9     11.90456295013428   1.606592499835722                0  2023     9  18   \n",
              "\n",
              "  Hour  Minute  Second  Millisecond  \n",
              "0   12      52      44            0  \n",
              "1   12      52      45            0  \n",
              "2   12      52      46            0  \n",
              "3   12      52      47            0  \n",
              "4   12      52      48            0  \n",
              "5   12      52      49            0  \n",
              "6   12      52      50            0  \n",
              "7   12      52      51            0  \n",
              "8   12      52      52            0  \n",
              "9   12      52      53            0  \n",
              "\n",
              "[10 rows x 24 columns]"
            ]
          },
          "execution_count": 6,
          "metadata": {},
          "output_type": "execute_result"
        }
      ],
      "source": [
        "import csv \n",
        "import pandas as pd\n",
        "\n",
        "# convert to array\n",
        "with open('../E-Jeep Data/Ejeep Sept 18.csv', 'r') as csv_file:\n",
        "    csv_reader = csv.reader(csv_file)\n",
        "    data = list(csv_reader)\n",
        "    \n",
        "# get track data and remove waypoints\n",
        "for i,row in enumerate(data):\n",
        "    if(len(row) > 0 and row[0] == 'Track'):\n",
        "        data = data[i+1:]\n",
        "        break\n",
        "\n",
        "# remove header\n",
        "header = data[0]\n",
        "data = data[1:]\n",
        "\n",
        "# convert to float and breakdown time data\n",
        "for i in range(len(data)):\n",
        "    data[i][3] = float(data[i][3])\n",
        "    data[i][4] = float(data[i][4])\n",
        "    \n",
        "    # print(data[i]+data[i][1].replace('/', ' ').replace(':', ' ').replace('-', ' ').replace('.', ' ').split())\n",
        "    \n",
        "    # hack to get individual time data\n",
        "    timelog = [int(x) for x in data[i][1].replace('/', ' ').replace(':', ' ').replace('-', ' ').replace('.', ' ').split()]\n",
        "    data[i] += timelog\n",
        "\n",
        "header += ['Year', 'Month', 'Day', 'Hour', 'Minute', 'Second', 'Millisecond']   \n",
        "\n",
        "# convert to dataframe\n",
        "df = pd.DataFrame(data, columns=header)\n",
        "\n",
        "df.head(10)"
      ]
    },
    {
      "cell_type": "markdown",
      "metadata": {
        "id": "Jz4c1S2ww5mx"
      },
      "source": [
        "## Plot Time Series\n",
        "\n",
        "We use the \"Latitude\" and \"Longitude\" values to filter to data frame `df` and plot the graph using `.plot()`."
      ]
    },
    {
      "cell_type": "code",
      "execution_count": 7,
      "metadata": {
        "colab": {
          "base_uri": "https://localhost:8080/"
        },
        "id": "LdoezkmhxF4_",
        "outputId": "4783a8d9-21c7-47db-fb42-fc050543f268"
      },
      "outputs": [
        {
          "data": {
            "text/plain": [
              "<Axes: >"
            ]
          },
          "execution_count": 7,
          "metadata": {},
          "output_type": "execute_result"
        },
        {
          "data": {
            "image/png": "[encoded data removed]",
            "text/plain": [
              "<Figure size 640x480 with 1 Axes>"
            ]
          },
          "metadata": {},
          "output_type": "display_data"
        }
      ],
      "source": [
        "df[\"Latitude\"].plot()"
      ]
    },
    {
      "cell_type": "code",
      "execution_count": 8,
      "metadata": {},
      "outputs": [
        {
          "data": {
            "text/plain": [
              "<Axes: >"
            ]
          },
          "execution_count": 8,
          "metadata": {},
          "output_type": "execute_result"
        },
        {
          "data": {
            "image/png": "[encoded data removed]",
            "text/plain": [
              "<Figure size 640x480 with 1 Axes>"
            ]
          },
          "metadata": {},
          "output_type": "display_data"
        }
      ],
      "source": [
        "df[\"Longitude\"].plot()"
      ]
    },
    {
      "cell_type": "markdown",
      "metadata": {
        "id": "IcCWNY4pxaEi"
      },
      "source": [
        "# Extracting `X` and `Y`\n",
        "\n",
        "To define our `X` dataset and labels `Y`, we first need to define a sequence length (given by variable `sequence_length`) to define the length of a single observation / pattern. For example, if `sequence_length = 5` then a single `x` observation is `5` consecutive measurements. We also define a function `sliding_window()` which accepts the entire chronological data as an array and the `sequence_length` to return two values: An array of `x` observations with length `sequence_length` and an array of `y` corresponding to the next values of each `x` observation. We would also maintain a ratio to represent how much of the `x` observations and `y` labels will belong to the training set and which ones will belong to the test set."
      ]
    },
    {
      "cell_type": "code",
      "execution_count": 9,
      "metadata": {
        "id": "ISumQy_ox4M3"
      },
      "outputs": [],
      "source": [
        "def sliding_window(data, seq_length):\n",
        "    x = []\n",
        "    y = []\n",
        "\n",
        "    for i in range(len(data) - seq_length):\n",
        "        _x = data[i:(i+seq_length)]\n",
        "        _y = data[i+seq_length]\n",
        "\n",
        "        x.append(_x)\n",
        "        y.append([_y])\n",
        "\n",
        "    return np.array(x), np.array(y)"
      ]
    },
    {
      "cell_type": "code",
      "execution_count": 10,
      "metadata": {
        "id": "KD2xK8zVyWAR"
      },
      "outputs": [],
      "source": [
        "# Change this value to change the sequence length. Initially set to 5\n",
        "sequence_length = 5\n",
        "\n",
        "# Change this value to change how much training data we would allocate. Initially set to 0.67\n",
        "ratio = 0.67"
      ]
    },
    {
      "cell_type": "markdown",
      "metadata": {
        "id": "0ZRMhenbya2X"
      },
      "source": [
        "## Prepare Training and Testing Data\n",
        "\n",
        "This splits the data into the following:\n",
        "\n",
        "\n",
        "* `train_x`: The set of observations\n",
        "* `train_y`: The predicted value of each observation\n",
        "* `test_x`: The set of test observations for prediction after training\n",
        "* `test_y`: The predicted value of each test observation for validation\n",
        "\n"
      ]
    },
    {
      "cell_type": "code",
      "execution_count": 11,
      "metadata": {
        "id": "qlhYrm6vzMvb"
      },
      "outputs": [],
      "source": [
        "lat_data = df[\"Latitude\"].values\n",
        "long_data = df[\"Longitude\"].values\n",
        "\n",
        "lat_x, lat_y = sliding_window(lat_data, sequence_length)\n",
        "lat_x, lat_y = sliding_window(lat_data, sequence_length)\n",
        "long_x, long_y = sliding_window(long_data, sequence_length)\n",
        "long_x, long_y = sliding_window(long_data, sequence_length)\n",
        "\n",
        "train_size = int(len(lat_y) * ratio)\n",
        "test_size = len(lat_y) - train_size\n",
        "\n",
        "# Turn them into tensors for computation later on\n",
        "lat_data_x = Variable(torch.Tensor(np.array(lat_x)))\n",
        "lat_data_y = Variable(torch.Tensor(np.array(lat_y)))\n",
        "long_data_x = Variable(torch.Tensor(np.array(long_x)))\n",
        "long_data_y = Variable(torch.Tensor(np.array(long_y)))\n",
        "\n",
        "lat_train_x = Variable(torch.Tensor(np.array(lat_x[0:train_size])))\n",
        "lat_train_y = Variable(torch.Tensor(np.array(lat_y[0:train_size])))\n",
        "long_train_x = Variable(torch.Tensor(np.array(long_x[0:train_size])))\n",
        "long_train_y = Variable(torch.Tensor(np.array(long_y[0:train_size])))\n",
        "\n",
        "lat_test_x = Variable(torch.Tensor(np.array(lat_x[train_size:len(lat_x)])))\n",
        "lat_test_y = Variable(torch.Tensor(np.array(lat_y[train_size:len(lat_y)])))\n",
        "long_test_x = Variable(torch.Tensor(np.array(long_x[train_size:len(long_x)])))\n",
        "long_test_y = Variable(torch.Tensor(np.array(long_y[train_size:len(long_y)])))"
      ]
    },
    {
      "cell_type": "markdown",
      "metadata": {},
      "source": [
        "# Feature Engineering\n",
        "\n",
        "Since MLP is sensitive to feature scaling, it will be carried out as such using MinMaxScaler."
      ]
    },
    {
      "cell_type": "code",
      "execution_count": 27,
      "metadata": {},
      "outputs": [],
      "source": [
        "scaler = MinMaxScaler(feature_range=(-1,1))\n",
        "\n",
        "scaler.fit(lat_train_x)\n",
        "scaler.fit(long_train_x)\n",
        "\n",
        "lat_train_x = Variable(torch.Tensor(scaler.transform(lat_train_x)))\n",
        "long_train_x = Variable(torch.Tensor(scaler.transform(long_train_x)))\n",
        "\n",
        "lat_test_x = Variable(torch.Tensor(scaler.transform(lat_test_x)))\n",
        "long_test_x = Variable(torch.Tensor(scaler.transform(long_test_x)))"
      ]
    },
    {
      "cell_type": "markdown",
      "metadata": {
        "id": "KgpkGHtlzwIq"
      },
      "source": [
        "# Multilayer Perceptron\n",
        "\n",
        "This algorithm is an example of a fully connected neural network implemented in Pytorch. It is a rather simple implementation with only a set of neurons for the input layer, another set of neurons for the hidden layer and another set for the output layer. To configure the network, define the following parameters:\n",
        "* `input_size`: The dimensionality of the input layer\n",
        "* `hidden_size`: The dimensionality of the hidden layer\n",
        "* `output_size`: The dimensionality of `y` in the output layer\n",
        "\n",
        "To change the activation functions of the model, you can refer to this documentation:\n",
        "\n",
        "https://pytorch.org/docs/stable/nn.functional.html\n",
        "\n",
        "For more information about how `nn.Linear` works, check the following documentation:\n",
        "\n",
        "https://pytorch.org/docs/stable/generated/torch.nn.Linear.html"
      ]
    },
    {
      "cell_type": "code",
      "execution_count": 12,
      "metadata": {
        "id": "jGhR38-80NCr"
      },
      "outputs": [],
      "source": [
        "class MultiLayerPerceptron(nn.Module):\n",
        "    def __init__(self, input_size, hidden_size, output_size):\n",
        "        super().__init__()\n",
        "\n",
        "        self.hidden = nn.Linear(input_size, hidden_size)\n",
        "        self.output = nn.Linear(hidden_size, output_size)\n",
        "\n",
        "    def forward(self, x):\n",
        "        # f(x) = a(f(x))\n",
        "        x = F.relu(self.hidden(x))\n",
        "        y = F.relu(self.output(x))\n",
        "\n",
        "        return y"
      ]
    },
    {
      "cell_type": "markdown",
      "metadata": {
        "id": "4KLIjEW43B2C"
      },
      "source": [
        "# Model Configuration\n",
        "\n",
        "Change these values before instantiating the multilayer perceptron model."
      ]
    },
    {
      "cell_type": "code",
      "execution_count": 13,
      "metadata": {
        "id": "rSwxTaD43IfM"
      },
      "outputs": [],
      "source": [
        "# Since each observation's dimensionality is defined by seequence_length, let's use that value\n",
        "input_size = sequence_length\n",
        "\n",
        "# Hidden size\n",
        "hidden_size = 25\n",
        "\n",
        "# Output size (number of classes)\n",
        "output_size = 1\n",
        "\n",
        "# Instantiate the model\n",
        "model = MultiLayerPerceptron(input_size, hidden_size, output_size)"
      ]
    },
    {
      "cell_type": "markdown",
      "metadata": {
        "id": "rOUQIgib2AaQ"
      },
      "source": [
        "# Training\n",
        "\n",
        "To train an instance of the `MultilayerPerceptron`, we'll first have to define some training parameters:\n",
        "* `epochs`: How many times it would iterate against the dataset to optimize `W`\n",
        "* `learning_rate`: How aggressive we want to look for a local minimum value.\n",
        "* `criterion`: The loss function for training\n",
        "* `optimizer`: Our problem solver to minimize `W`"
      ]
    },
    {
      "cell_type": "code",
      "execution_count": 22,
      "metadata": {
        "id": "IeP8eWwg26WR"
      },
      "outputs": [],
      "source": [
        "# Change this to shorted or lengthen training time\n",
        "epochs = 100\n",
        "\n",
        "# Change this to modify the learning rate of the optimizer\n",
        "learning_rate = 0.001\n",
        "\n",
        "# Change this to a loss function implementation. Initially we'll use MSE\n",
        "criterion = torch.nn.MSELoss()\n",
        "\n",
        "# Change this to define the optimizer\n",
        "optimizer = torch.optim.Adam(model.parameters(), lr=learning_rate)"
      ]
    },
    {
      "cell_type": "markdown",
      "metadata": {
        "id": "J4l3hUSK4Ckl"
      },
      "source": [
        "### The Actual Training Process"
      ]
    },
    {
      "cell_type": "code",
      "execution_count": 28,
      "metadata": {
        "colab": {
          "base_uri": "https://localhost:8080/"
        },
        "id": "0UW9m1ge4H7E",
        "outputId": "0422bf48-ddde-496a-82f9-d831b83c20fd"
      },
      "outputs": [
        {
          "name": "stdout",
          "output_type": "stream",
          "text": [
            "Epoch: 0, Latitude loss: 214.26054, Longitude loss: 14659.70801\n",
            "Epoch: 1, Latitude loss: 214.26054, Longitude loss: 14659.70801\n",
            "Epoch: 2, Latitude loss: 214.26054, Longitude loss: 14659.70801\n",
            "Epoch: 3, Latitude loss: 214.26054, Longitude loss: 14659.70801\n",
            "Epoch: 4, Latitude loss: 214.26054, Longitude loss: 14659.70801\n",
            "Epoch: 5, Latitude loss: 214.26054, Longitude loss: 14659.70801\n",
            "Epoch: 6, Latitude loss: 214.26054, Longitude loss: 14659.70801\n",
            "Epoch: 7, Latitude loss: 214.26054, Longitude loss: 14659.70801\n",
            "Epoch: 8, Latitude loss: 214.26054, Longitude loss: 14659.70801\n",
            "Epoch: 9, Latitude loss: 214.26054, Longitude loss: 14659.70801\n",
            "Epoch: 10, Latitude loss: 214.26054, Longitude loss: 14659.70801\n",
            "Epoch: 11, Latitude loss: 214.26054, Longitude loss: 14659.70801\n",
            "Epoch: 12, Latitude loss: 214.26054, Longitude loss: 14659.70801\n",
            "Epoch: 13, Latitude loss: 214.26054, Longitude loss: 14659.70801\n",
            "Epoch: 14, Latitude loss: 214.26054, Longitude loss: 14659.70801\n",
            "Epoch: 15, Latitude loss: 214.26054, Longitude loss: 14659.70801\n",
            "Epoch: 16, Latitude loss: 214.26054, Longitude loss: 14659.70801\n",
            "Epoch: 17, Latitude loss: 214.26054, Longitude loss: 14659.70801\n",
            "Epoch: 18, Latitude loss: 214.26054, Longitude loss: 14659.70801\n",
            "Epoch: 19, Latitude loss: 214.26054, Longitude loss: 14659.70801\n",
            "Epoch: 20, Latitude loss: 214.26054, Longitude loss: 14659.70801\n",
            "Epoch: 21, Latitude loss: 214.26054, Longitude loss: 14659.70801\n",
            "Epoch: 22, Latitude loss: 214.26054, Longitude loss: 14659.70801\n",
            "Epoch: 23, Latitude loss: 214.26054, Longitude loss: 14659.70801\n",
            "Epoch: 24, Latitude loss: 214.26054, Longitude loss: 14659.70801\n",
            "Epoch: 25, Latitude loss: 214.26054, Longitude loss: 14659.70801\n",
            "Epoch: 26, Latitude loss: 214.26054, Longitude loss: 14659.70801\n",
            "Epoch: 27, Latitude loss: 214.26054, Longitude loss: 14659.70801\n",
            "Epoch: 28, Latitude loss: 214.26054, Longitude loss: 14659.70801\n",
            "Epoch: 29, Latitude loss: 214.26054, Longitude loss: 14659.70801\n",
            "Epoch: 30, Latitude loss: 214.26054, Longitude loss: 14659.70801\n",
            "Epoch: 31, Latitude loss: 214.26054, Longitude loss: 14659.70801\n",
            "Epoch: 32, Latitude loss: 214.26054, Longitude loss: 14659.70801\n",
            "Epoch: 33, Latitude loss: 214.26054, Longitude loss: 14659.70801\n",
            "Epoch: 34, Latitude loss: 214.26054, Longitude loss: 14659.70801\n",
            "Epoch: 35, Latitude loss: 214.26054, Longitude loss: 14659.70801\n",
            "Epoch: 36, Latitude loss: 214.26054, Longitude loss: 14659.70801\n",
            "Epoch: 37, Latitude loss: 214.26054, Longitude loss: 14659.70801\n",
            "Epoch: 38, Latitude loss: 214.26054, Longitude loss: 14659.70801\n",
            "Epoch: 39, Latitude loss: 214.26054, Longitude loss: 14659.70801\n",
            "Epoch: 40, Latitude loss: 214.26054, Longitude loss: 14659.70801\n",
            "Epoch: 41, Latitude loss: 214.26054, Longitude loss: 14659.70801\n",
            "Epoch: 42, Latitude loss: 214.26054, Longitude loss: 14659.70801\n",
            "Epoch: 43, Latitude loss: 214.26054, Longitude loss: 14659.70801\n",
            "Epoch: 44, Latitude loss: 214.26054, Longitude loss: 14659.70801\n",
            "Epoch: 45, Latitude loss: 214.26054, Longitude loss: 14659.70801\n",
            "Epoch: 46, Latitude loss: 214.26054, Longitude loss: 14659.70801\n",
            "Epoch: 47, Latitude loss: 214.26054, Longitude loss: 14659.70801\n",
            "Epoch: 48, Latitude loss: 214.26054, Longitude loss: 14659.70801\n",
            "Epoch: 49, Latitude loss: 214.26054, Longitude loss: 14659.70801\n",
            "Epoch: 50, Latitude loss: 214.26054, Longitude loss: 14659.70801\n",
            "Epoch: 51, Latitude loss: 214.26054, Longitude loss: 14659.70801\n",
            "Epoch: 52, Latitude loss: 214.26054, Longitude loss: 14659.70801\n",
            "Epoch: 53, Latitude loss: 214.26054, Longitude loss: 14659.70801\n",
            "Epoch: 54, Latitude loss: 214.26054, Longitude loss: 14659.70801\n",
            "Epoch: 55, Latitude loss: 214.26054, Longitude loss: 14659.70801\n",
            "Epoch: 56, Latitude loss: 214.26054, Longitude loss: 14659.70801\n",
            "Epoch: 57, Latitude loss: 214.26054, Longitude loss: 14659.70801\n",
            "Epoch: 58, Latitude loss: 214.26054, Longitude loss: 14659.70801\n",
            "Epoch: 59, Latitude loss: 214.26054, Longitude loss: 14659.70801\n",
            "Epoch: 60, Latitude loss: 214.26054, Longitude loss: 14659.70801\n",
            "Epoch: 61, Latitude loss: 214.26054, Longitude loss: 14659.70801\n",
            "Epoch: 62, Latitude loss: 214.26054, Longitude loss: 14659.70801\n",
            "Epoch: 63, Latitude loss: 214.26054, Longitude loss: 14659.70801\n",
            "Epoch: 64, Latitude loss: 214.26054, Longitude loss: 14659.70801\n",
            "Epoch: 65, Latitude loss: 214.26054, Longitude loss: 14659.70801\n",
            "Epoch: 66, Latitude loss: 214.26054, Longitude loss: 14659.70801\n",
            "Epoch: 67, Latitude loss: 214.26054, Longitude loss: 14659.70801\n",
            "Epoch: 68, Latitude loss: 214.26054, Longitude loss: 14659.70801\n",
            "Epoch: 69, Latitude loss: 214.26054, Longitude loss: 14659.70801\n",
            "Epoch: 70, Latitude loss: 214.26054, Longitude loss: 14659.70801\n",
            "Epoch: 71, Latitude loss: 214.26054, Longitude loss: 14659.70801\n",
            "Epoch: 72, Latitude loss: 214.26054, Longitude loss: 14659.70801\n",
            "Epoch: 73, Latitude loss: 214.26054, Longitude loss: 14659.70801\n",
            "Epoch: 74, Latitude loss: 214.26054, Longitude loss: 14659.70801\n",
            "Epoch: 75, Latitude loss: 214.26054, Longitude loss: 14659.70801\n",
            "Epoch: 76, Latitude loss: 214.26054, Longitude loss: 14659.70801\n",
            "Epoch: 77, Latitude loss: 214.26054, Longitude loss: 14659.70801\n",
            "Epoch: 78, Latitude loss: 214.26054, Longitude loss: 14659.70801\n",
            "Epoch: 79, Latitude loss: 214.26054, Longitude loss: 14659.70801\n",
            "Epoch: 80, Latitude loss: 214.26054, Longitude loss: 14659.70801\n",
            "Epoch: 81, Latitude loss: 214.26054, Longitude loss: 14659.70801\n",
            "Epoch: 82, Latitude loss: 214.26054, Longitude loss: 14659.70801\n",
            "Epoch: 83, Latitude loss: 214.26054, Longitude loss: 14659.70801\n",
            "Epoch: 84, Latitude loss: 214.26054, Longitude loss: 14659.70801\n",
            "Epoch: 85, Latitude loss: 214.26054, Longitude loss: 14659.70801\n",
            "Epoch: 86, Latitude loss: 214.26054, Longitude loss: 14659.70801\n",
            "Epoch: 87, Latitude loss: 214.26054, Longitude loss: 14659.70801\n",
            "Epoch: 88, Latitude loss: 214.26054, Longitude loss: 14659.70801\n",
            "Epoch: 89, Latitude loss: 214.26054, Longitude loss: 14659.70801\n",
            "Epoch: 90, Latitude loss: 214.26054, Longitude loss: 14659.70801\n",
            "Epoch: 91, Latitude loss: 214.26054, Longitude loss: 14659.70801\n",
            "Epoch: 92, Latitude loss: 214.26054, Longitude loss: 14659.70801\n",
            "Epoch: 93, Latitude loss: 214.26054, Longitude loss: 14659.70801\n",
            "Epoch: 94, Latitude loss: 214.26054, Longitude loss: 14659.70801\n",
            "Epoch: 95, Latitude loss: 214.26054, Longitude loss: 14659.70801\n",
            "Epoch: 96, Latitude loss: 214.26054, Longitude loss: 14659.70801\n",
            "Epoch: 97, Latitude loss: 214.26054, Longitude loss: 14659.70801\n",
            "Epoch: 98, Latitude loss: 214.26054, Longitude loss: 14659.70801\n",
            "Epoch: 99, Latitude loss: 214.26054, Longitude loss: 14659.70801\n"
          ]
        }
      ],
      "source": [
        "for epoch in range(epochs):\n",
        "    lat_outputs = model.forward(lat_train_x)\n",
        "    long_outputs = model.forward(long_train_x)\n",
        "\n",
        "    optimizer.zero_grad()\n",
        "\n",
        "    # obtain the loss function\n",
        "    lat_loss = criterion(lat_outputs, lat_train_y)\n",
        "    long_loss = criterion(long_outputs, long_train_y)\n",
        "\n",
        "    lat_loss.backward()\n",
        "    long_loss.backward()\n",
        "\n",
        "    optimizer.step()\n",
        "\n",
        "    print(\"Epoch: %d, Latitude loss: %1.5f, Longitude loss: %1.5f\" % (epoch, lat_loss.item(), long_loss.item()))"
      ]
    },
    {
      "cell_type": "markdown",
      "metadata": {
        "id": "4sUQ1j4e5a32"
      },
      "source": [
        "# Predictions\n",
        "\n",
        "We then call `model.eval()` to freeze `W` and attempt to predict `test_y`."
      ]
    },
    {
      "cell_type": "code",
      "execution_count": 31,
      "metadata": {
        "colab": {
          "base_uri": "https://localhost:8080/"
        },
        "id": "Xx2N-v3F5g4L",
        "outputId": "1b7f1548-7bbd-482e-e578-638c958bef0f"
      },
      "outputs": [
        {
          "data": {
            "text/plain": [
              "array([0., 0., 0., ..., 0., 0., 0.], dtype=float32)"
            ]
          },
          "execution_count": 31,
          "metadata": {},
          "output_type": "execute_result"
        }
      ],
      "source": [
        "model.eval()\n",
        "lat_predictions = model(lat_test_x).detach().numpy()\n",
        "long_predictions = model(long_test_x).detach().numpy()\n",
        "\n",
        "lat_predictions = lat_predictions.ravel()\n",
        "long_predictions = long_predictions.ravel()\n",
        "\n",
        "lat_predictions\n",
        "long_predictions"
      ]
    },
    {
      "cell_type": "markdown",
      "metadata": {
        "id": "oi4UTcKo5okL"
      },
      "source": [
        "## Observe the Predicted Values\n",
        "\n",
        "Let's plot both `test_y` and `predictions` to see how far they are from each other."
      ]
    },
    {
      "cell_type": "code",
      "execution_count": 32,
      "metadata": {
        "colab": {
          "base_uri": "https://localhost:8080/",
          "height": 54
        },
        "id": "pgi_9rJS5vQ6",
        "outputId": "b162d893-d8bb-4fe3-9028-48cc2b58b57f"
      },
      "outputs": [
        {
          "data": {
            "image/png": "[encoded data removed]",
            "text/plain": [
              "<Figure size 640x480 with 1 Axes>"
            ]
          },
          "metadata": {},
          "output_type": "display_data"
        }
      ],
      "source": [
        "plt.title(\"E-jeep Location\")\n",
        "plt.xlabel(\"Longitude\")\n",
        "plt.ylabel(\"Latitude\")\n",
        "plt.plot(long_predictions, lat_predictions, label=\"Predicted Data\")\n",
        "plt.plot(long_test_y, lat_test_y, label=\"Original Data\")\n",
        "plt.xlim(0, 300)\n",
        "plt.ylim(0, 300)\n",
        "plt.legend()\n",
        "plt.show()"
      ]
    },
    {
      "cell_type": "code",
      "execution_count": 33,
      "metadata": {},
      "outputs": [
        {
          "data": {
            "image/png": "[encoded data removed]",
            "text/plain": [
              "<Figure size 640x480 with 1 Axes>"
            ]
          },
          "metadata": {},
          "output_type": "display_data"
        }
      ],
      "source": [
        "plt.title(\"Predicted E-jeep Location\")\n",
        "plt.xlabel(\"Longitude\")\n",
        "plt.ylabel(\"Latitude\")\n",
        "plt.plot(long_predictions, lat_predictions)\n",
        "plt.xlim(121.0450, 121.0515)\n",
        "plt.ylim(14.704, 14.708)\n",
        "plt.show()"
      ]
    },
    {
      "cell_type": "code",
      "execution_count": 34,
      "metadata": {},
      "outputs": [
        {
          "data": {
            "image/png": "[encoded data removed]",
            "text/plain": [
              "<Figure size 640x480 with 1 Axes>"
            ]
          },
          "metadata": {},
          "output_type": "display_data"
        }
      ],
      "source": [
        "x_axis_values = np.arange(0,len(long_predictions))\n",
        "\n",
        "plt.title(\"E-jeep Longitude\")\n",
        "plt.xlabel(\"Longitude\")\n",
        "plt.plot(x_axis_values, long_predictions, label=\"Predicted Data\")\n",
        "plt.plot(x_axis_values, long_test_y, label=\"Original Data\")\n",
        "plt.show()"
      ]
    },
    {
      "cell_type": "code",
      "execution_count": 35,
      "metadata": {},
      "outputs": [
        {
          "data": {
            "image/png": "[encoded data removed]",
            "text/plain": [
              "<Figure size 640x480 with 1 Axes>"
            ]
          },
          "metadata": {},
          "output_type": "display_data"
        }
      ],
      "source": [
        "x_axis_values = np.arange(0,len(lat_predictions))\n",
        "\n",
        "plt.title(\"E-jeep Latitude\")\n",
        "plt.xlabel(\"Latitude\")\n",
        "plt.plot(x_axis_values, lat_predictions, label=\"Predicted Data\")\n",
        "plt.plot(x_axis_values, lat_test_y, label=\"Original Data\")\n",
        "plt.show()"
      ]
    }
  ],
  "metadata": {
    "colab": {
      "provenance": []
    },
    "kernelspec": {
      "display_name": "Python 3",
      "name": "python3"
    },
    "language_info": {
      "codemirror_mode": {
        "name": "ipython",
        "version": 3
      },
      "file_extension": ".py",
      "mimetype": "text/x-python",
      "name": "python",
      "nbconvert_exporter": "python",
      "pygments_lexer": "ipython3",
      "version": "3.8.9"
    }
  },
  "nbformat": 4,
  "nbformat_minor": 0
}
