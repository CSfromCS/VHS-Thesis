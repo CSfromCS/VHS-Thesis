{
 "cells": [
  {
   "cell_type": "code",
   "execution_count": 54,
   "metadata": {},
   "outputs": [],
   "source": [
    "# PCA for feature reduction\n",
    "from sklearn.decomposition import PCA\n",
    "import pandas as pd\n",
    "import numpy as np\n",
    "import matplotlib.pyplot as plt\n",
    "import warnings\n",
    "warnings.filterwarnings(\"ignore\")"
   ]
  },
  {
   "cell_type": "code",
   "execution_count": 67,
   "metadata": {},
   "outputs": [
    {
     "name": "stdout",
     "output_type": "stream",
     "text": [
      "(1047, 14)\n"
     ]
    },
    {
     "data": {
      "text/html": [
       "<div>\n",
       "<style scoped>\n",
       "    .dataframe tbody tr th:only-of-type {\n",
       "        vertical-align: middle;\n",
       "    }\n",
       "\n",
       "    .dataframe tbody tr th {\n",
       "        vertical-align: top;\n",
       "    }\n",
       "\n",
       "    .dataframe thead th {\n",
       "        text-align: right;\n",
       "    }\n",
       "</style>\n",
       "<table border=\"1\" class=\"dataframe\">\n",
       "  <thead>\n",
       "    <tr style=\"text-align: right;\">\n",
       "      <th></th>\n",
       "      <th>Sec of Day</th>\n",
       "      <th>Hour</th>\n",
       "      <th>Min</th>\n",
       "      <th>Sec</th>\n",
       "      <th>Day of Week</th>\n",
       "      <th>To Station</th>\n",
       "      <th>Round</th>\n",
       "      <th>Lat</th>\n",
       "      <th>Long</th>\n",
       "      <th>isStop</th>\n",
       "      <th>Next Lat</th>\n",
       "      <th>Next Long</th>\n",
       "      <th>Abs Distance</th>\n",
       "      <th>y</th>\n",
       "    </tr>\n",
       "  </thead>\n",
       "  <tbody>\n",
       "    <tr>\n",
       "      <th>0</th>\n",
       "      <td>42568</td>\n",
       "      <td>11</td>\n",
       "      <td>49</td>\n",
       "      <td>28</td>\n",
       "      <td>2</td>\n",
       "      <td>B</td>\n",
       "      <td>1</td>\n",
       "      <td>14.789184</td>\n",
       "      <td>121.907888</td>\n",
       "      <td>0</td>\n",
       "      <td>15.0</td>\n",
       "      <td>121.5</td>\n",
       "      <td>0.459147</td>\n",
       "      <td>42808</td>\n",
       "    </tr>\n",
       "    <tr>\n",
       "      <th>1</th>\n",
       "      <td>42688</td>\n",
       "      <td>11</td>\n",
       "      <td>51</td>\n",
       "      <td>28</td>\n",
       "      <td>2</td>\n",
       "      <td>B</td>\n",
       "      <td>1</td>\n",
       "      <td>14.989573</td>\n",
       "      <td>121.601580</td>\n",
       "      <td>1</td>\n",
       "      <td>15.0</td>\n",
       "      <td>121.5</td>\n",
       "      <td>0.102114</td>\n",
       "      <td>42808</td>\n",
       "    </tr>\n",
       "    <tr>\n",
       "      <th>2</th>\n",
       "      <td>42808</td>\n",
       "      <td>11</td>\n",
       "      <td>53</td>\n",
       "      <td>28</td>\n",
       "      <td>2</td>\n",
       "      <td>C</td>\n",
       "      <td>1</td>\n",
       "      <td>14.998523</td>\n",
       "      <td>121.461603</td>\n",
       "      <td>1</td>\n",
       "      <td>14.5</td>\n",
       "      <td>121.0</td>\n",
       "      <td>0.679413</td>\n",
       "      <td>43048</td>\n",
       "    </tr>\n",
       "    <tr>\n",
       "      <th>3</th>\n",
       "      <td>42928</td>\n",
       "      <td>11</td>\n",
       "      <td>55</td>\n",
       "      <td>28</td>\n",
       "      <td>2</td>\n",
       "      <td>C</td>\n",
       "      <td>1</td>\n",
       "      <td>14.801528</td>\n",
       "      <td>121.101150</td>\n",
       "      <td>0</td>\n",
       "      <td>14.5</td>\n",
       "      <td>121.0</td>\n",
       "      <td>0.318041</td>\n",
       "      <td>43048</td>\n",
       "    </tr>\n",
       "    <tr>\n",
       "      <th>4</th>\n",
       "      <td>43048</td>\n",
       "      <td>11</td>\n",
       "      <td>57</td>\n",
       "      <td>28</td>\n",
       "      <td>2</td>\n",
       "      <td>D</td>\n",
       "      <td>1</td>\n",
       "      <td>14.337534</td>\n",
       "      <td>121.027131</td>\n",
       "      <td>0</td>\n",
       "      <td>14.0</td>\n",
       "      <td>121.5</td>\n",
       "      <td>0.580977</td>\n",
       "      <td>43288</td>\n",
       "    </tr>\n",
       "  </tbody>\n",
       "</table>\n",
       "</div>"
      ],
      "text/plain": [
       "   Sec of Day  Hour  Min  Sec  Day of Week To Station  Round        Lat  \\\n",
       "0       42568    11   49   28            2          B      1  14.789184   \n",
       "1       42688    11   51   28            2          B      1  14.989573   \n",
       "2       42808    11   53   28            2          C      1  14.998523   \n",
       "3       42928    11   55   28            2          C      1  14.801528   \n",
       "4       43048    11   57   28            2          D      1  14.337534   \n",
       "\n",
       "         Long  isStop  Next Lat  Next Long  Abs Distance      y  \n",
       "0  121.907888       0      15.0      121.5      0.459147  42808  \n",
       "1  121.601580       1      15.0      121.5      0.102114  42808  \n",
       "2  121.461603       1      14.5      121.0      0.679413  43048  \n",
       "3  121.101150       0      14.5      121.0      0.318041  43048  \n",
       "4  121.027131       0      14.0      121.5      0.580977  43288  "
      ]
     },
     "execution_count": 67,
     "metadata": {},
     "output_type": "execute_result"
    }
   ],
   "source": [
    "url = (\"https://raw.githubusercontent.com/CSfromCS/VHS-Thesis/0a668228516a615aa5ff9c047a1a05a5531d62ea/datatocsv2.csv\")\n",
    "df = pd.read_csv(url, parse_dates=True)\n",
    "# rename column\n",
    "df.rename(columns={'Time to Next': 'y'}, inplace=True)\n",
    "print(df.shape)\n",
    "df.head()"
   ]
  },
  {
   "cell_type": "code",
   "execution_count": 62,
   "metadata": {},
   "outputs": [],
   "source": [
    "from sklearn.model_selection import train_test_split\n",
    "\n",
    "# Extract feature and target arrays\n",
    "X, y = df.drop('y', axis=1), df[['y']]\n",
    "\n",
    "# get dummies\n",
    "X = pd.get_dummies(X)\n",
    "\n",
    "X = pd.get_dummies(X, columns=['Day of Week'])\n",
    "\n",
    "# Split the data\n",
    "X_train, X_test, y_train, y_test = train_test_split(X, y, random_state=1)"
   ]
  },
  {
   "cell_type": "code",
   "execution_count": 63,
   "metadata": {},
   "outputs": [
    {
     "data": {
      "text/plain": [
       "Sec of Day         int64\n",
       "Hour               int64\n",
       "Min                int64\n",
       "Sec                int64\n",
       "Round              int64\n",
       "Lat              float64\n",
       "Long             float64\n",
       "isStop             int64\n",
       "Next Lat         float64\n",
       "Next Long        float64\n",
       "Abs Distance     float64\n",
       "To Station_A       uint8\n",
       "To Station_B       uint8\n",
       "To Station_C       uint8\n",
       "To Station_D       uint8\n",
       "Day of Week_2      uint8\n",
       "Day of Week_3      uint8\n",
       "Day of Week_4      uint8\n",
       "Day of Week_5      uint8\n",
       "Day of Week_6      uint8\n",
       "dtype: object"
      ]
     },
     "execution_count": 63,
     "metadata": {},
     "output_type": "execute_result"
    }
   ],
   "source": [
    "X_train.dtypes"
   ]
  },
  {
   "cell_type": "code",
   "execution_count": 129,
   "metadata": {},
   "outputs": [],
   "source": [
    "\n",
    "pca = PCA(n_components=3)\n",
    "X_reduced = pca.fit_transform(X_train)\n"
   ]
  },
  {
   "cell_type": "code",
   "execution_count": 105,
   "metadata": {},
   "outputs": [
    {
     "data": {
      "text/html": [
       "<div>\n",
       "<style scoped>\n",
       "    .dataframe tbody tr th:only-of-type {\n",
       "        vertical-align: middle;\n",
       "    }\n",
       "\n",
       "    .dataframe tbody tr th {\n",
       "        vertical-align: top;\n",
       "    }\n",
       "\n",
       "    .dataframe thead th {\n",
       "        text-align: right;\n",
       "    }\n",
       "</style>\n",
       "<table border=\"1\" class=\"dataframe\">\n",
       "  <thead>\n",
       "    <tr style=\"text-align: right;\">\n",
       "      <th></th>\n",
       "      <th>0</th>\n",
       "    </tr>\n",
       "  </thead>\n",
       "  <tbody>\n",
       "    <tr>\n",
       "      <th>0</th>\n",
       "      <td>4338.682520</td>\n",
       "    </tr>\n",
       "    <tr>\n",
       "      <th>1</th>\n",
       "      <td>-11077.319552</td>\n",
       "    </tr>\n",
       "    <tr>\n",
       "      <th>2</th>\n",
       "      <td>-6847.311990</td>\n",
       "    </tr>\n",
       "    <tr>\n",
       "      <th>3</th>\n",
       "      <td>-701.318766</td>\n",
       "    </tr>\n",
       "    <tr>\n",
       "      <th>4</th>\n",
       "      <td>147.680669</td>\n",
       "    </tr>\n",
       "    <tr>\n",
       "      <th>...</th>\n",
       "      <td>...</td>\n",
       "    </tr>\n",
       "    <tr>\n",
       "      <th>780</th>\n",
       "      <td>-3997.318942</td>\n",
       "    </tr>\n",
       "    <tr>\n",
       "      <th>781</th>\n",
       "      <td>3018.681636</td>\n",
       "    </tr>\n",
       "    <tr>\n",
       "      <th>782</th>\n",
       "      <td>-4772.320558</td>\n",
       "    </tr>\n",
       "    <tr>\n",
       "      <th>783</th>\n",
       "      <td>-3941.318908</td>\n",
       "    </tr>\n",
       "    <tr>\n",
       "      <th>784</th>\n",
       "      <td>-15847.313977</td>\n",
       "    </tr>\n",
       "  </tbody>\n",
       "</table>\n",
       "<p>785 rows × 1 columns</p>\n",
       "</div>"
      ],
      "text/plain": [
       "                0\n",
       "0     4338.682520\n",
       "1   -11077.319552\n",
       "2    -6847.311990\n",
       "3     -701.318766\n",
       "4      147.680669\n",
       "..            ...\n",
       "780  -3997.318942\n",
       "781   3018.681636\n",
       "782  -4772.320558\n",
       "783  -3941.318908\n",
       "784 -15847.313977\n",
       "\n",
       "[785 rows x 1 columns]"
      ]
     },
     "execution_count": 105,
     "metadata": {},
     "output_type": "execute_result"
    }
   ],
   "source": [
    "# print X_reduced as pd\n",
    "X_reduced = pd.DataFrame(X_reduced)\n",
    "X_reduced\n"
   ]
  },
  {
   "cell_type": "code",
   "execution_count": 86,
   "metadata": {},
   "outputs": [
    {
     "name": "stdout",
     "output_type": "stream",
     "text": [
      "0.9999091004501867\n",
      "0.9999074498660393\n",
      "0.9997957798583523\n"
     ]
    }
   ],
   "source": [
    "from sklearn.linear_model import LinearRegression\n",
    "\n",
    "#fit regression model\n",
    "X_temp = X\n",
    "y_temp = y\n",
    "model = LinearRegression()\n",
    "model.fit(X_temp, y_temp)\n",
    "\n",
    "#display adjusted R-squared\n",
    "print(1 - (1-model.score(X_temp, y_temp))*(len(y_temp)-1)/(len(y_temp)-X_temp.shape[1]-1))\n",
    "\n",
    "#fit regression model\n",
    "X_temp = X_train\n",
    "y_temp = y_train\n",
    "model = LinearRegression()\n",
    "model.fit(X_temp, y_temp)\n",
    "\n",
    "#display adjusted R-squared\n",
    "print(1 - (1-model.score(X_temp, y_temp))*(len(y_temp)-1)/(len(y_temp)-X_temp.shape[1]-1))\n",
    "\n",
    "#fit regression model\n",
    "X_temp = X_reduced\n",
    "y_temp = y_train\n",
    "model = LinearRegression()\n",
    "model.fit(X_temp, y_temp)\n",
    "\n",
    "#display adjusted R-squared\n",
    "print(1 - (1-model.score(X_temp, y_temp))*(len(y_temp)-1)/(len(y_temp)-X_temp.shape[1]-1))\n",
    "\n"
   ]
  },
  {
   "attachments": {},
   "cell_type": "markdown",
   "metadata": {},
   "source": [
    "# Summary"
   ]
  },
  {
   "attachments": {},
   "cell_type": "markdown",
   "metadata": {},
   "source": [
    "helo\n"
   ]
  },
  {
   "cell_type": "code",
   "execution_count": 213,
   "metadata": {},
   "outputs": [
    {
     "name": "stdout",
     "output_type": "stream",
     "text": [
      "1 -0.0018536865582721163\n",
      "2 0.0026091034332842433\n",
      "3 0.6164472594557118\n",
      "4 0.6509842405311861\n",
      "5 0.6855588710294322\n",
      "6 0.686624029733603\n",
      "7 0.700008206023295\n",
      "8 0.7029795696102892\n",
      "9 0.9354119792874072\n",
      "10 0.9447109587060291\n",
      "11 0.9461356603537642\n",
      "12 0.9832841609899728\n",
      "13 0.9833152831328158\n",
      "14 0.9836282866037422\n",
      "15 0.9999088930629504\n",
      "16 0.9999082469144607\n",
      "17 0.9999075915352782\n",
      "18 0.9999069267261795\n",
      "19 0.9999062522821663\n",
      "20 0.9999055679922552\n"
     ]
    }
   ],
   "source": [
    "# PCA for feature reduction\n",
    "from sklearn.decomposition import PCA\n",
    "import pandas as pd\n",
    "import numpy as np\n",
    "import matplotlib.pyplot as plt\n",
    "import warnings\n",
    "warnings.filterwarnings(\"ignore\")\n",
    "\n",
    "from sklearn.model_selection import train_test_split\n",
    "url = (\"https://raw.githubusercontent.com/CSfromCS/VHS-Thesis/0a668228516a615aa5ff9c047a1a05a5531d62ea/datatocsv2.csv\")\n",
    "df = pd.read_csv(url, parse_dates=True)\n",
    "# rename column\n",
    "df.rename(columns={'Time to Next': 'y'}, inplace=True)\n",
    "\n",
    "# Extract feature and target arrays\n",
    "X, y = df.drop('y', axis=1), df[['y']]\n",
    "\n",
    "# get dummies\n",
    "X = pd.get_dummies(X)\n",
    "\n",
    "X = pd.get_dummies(X, columns=['Day of Week'])\n",
    "\n",
    "#minmax all columns\n",
    "from sklearn.preprocessing import MinMaxScaler\n",
    "scaler = MinMaxScaler()\n",
    "X[:] = scaler.fit_transform(X)\n",
    "y[:] = scaler.fit_transform(y)\n",
    "# Split the data\n",
    "\n",
    "ar2_scores = []\n",
    "\n",
    "for i in range(1,21):\n",
    "    X_train, X_test, y_train, y_test = train_test_split(X, y, random_state=1, test_size=0.15)\n",
    "\n",
    "\n",
    "    pca = PCA(n_components=i)\n",
    "\n",
    "    X_train = pca.fit_transform(X_train)\n",
    "    X_train = pd.DataFrame(X_train)\n",
    "\n",
    "    X_test = pca.transform(X_test)\n",
    "    X_test = pd.DataFrame(X_test)\n",
    "\n",
    "\n",
    "    from sklearn.linear_model import LinearRegression\n",
    "\n",
    "    #fit regression model\n",
    "    X_temp = X_test\n",
    "    y_temp = y_test\n",
    "    model = LinearRegression()\n",
    "    model.fit(X_temp, y_temp)\n",
    "\n",
    "    #display adjusted R-squared\n",
    "    ar2 = 1 - (1-model.score(X_temp, y_temp))*(len(y_temp)-1)/(len(y_temp)-X_temp.shape[1]-1)\n",
    "    print(i, ar2)\n",
    "    ar2_scores.append(ar2)"
   ]
  },
  {
   "cell_type": "code",
   "execution_count": 214,
   "metadata": {},
   "outputs": [
    {
     "data": {
      "image/png": "[encoded data removed]",
      "text/plain": [
       "<Figure size 640x480 with 1 Axes>"
      ]
     },
     "metadata": {},
     "output_type": "display_data"
    }
   ],
   "source": [
    "# plot ar2 scores\n",
    "plt.plot(range(1,21), ar2_scores)\n",
    "plt.show()"
   ]
  },
  {
   "cell_type": "code",
   "execution_count": 190,
   "metadata": {},
   "outputs": [
    {
     "name": "stdout",
     "output_type": "stream",
     "text": [
      "0.6866240297336028\n"
     ]
    }
   ],
   "source": [
    "from sklearn.linear_model import LinearRegression\n",
    "\n",
    "#fit regression model\n",
    "X_temp = X_test\n",
    "y_temp = y_test\n",
    "model = LinearRegression()\n",
    "model.fit(X_temp, y_temp)\n",
    "\n",
    "#display adjusted R-squared\n",
    "print(1 - (1-model.score(X_temp, y_temp))*(len(y_temp)-1)/(len(y_temp)-X_temp.shape[1]-1))"
   ]
  },
  {
   "cell_type": "code",
   "execution_count": 221,
   "metadata": {},
   "outputs": [
    {
     "name": "stdout",
     "output_type": "stream",
     "text": [
      "1 : 18.26724%\n",
      "2 : 17.61224%\n",
      "3 : 13.38069%\n",
      "4 : 9.67636%\n",
      "5 : 9.33009%\n",
      "6 : 8.53028%\n",
      "7 : 4.94278%\n",
      "8 : 4.90413%\n",
      "9 : 3.84024%\n",
      "10 : 3.24856%\n",
      "11 : 2.90846%\n",
      "12 : 1.97211%\n",
      "13 : 0.65643%\n",
      "14 : 0.59906%\n",
      "15 : 0.13132%\n",
      "16 : 0.00000%\n",
      "17 : 0.00000%\n",
      "18 : 0.00000%\n",
      "19 : 0.00000%\n",
      "20 : 0.00000%\n"
     ]
    },
    {
     "data": {
      "image/png": "[encoded data removed]",
      "text/plain": [
       "<Figure size 1000x600 with 2 Axes>"
      ]
     },
     "metadata": {},
     "output_type": "display_data"
    }
   ],
   "source": [
    "for i, v in enumerate(pca.explained_variance_ratio_):\n",
    "    print(i+1,\":\", f\"{v*100:.5f}%\")\n",
    "\n",
    "# make a twin x plot with the cumulative variance and the variance explained\n",
    "fig, ax1 = plt.subplots(figsize=(10, 6))\n",
    "ax2 = ax1.twinx()\n",
    "ax1.bar(range(1, len(pca.explained_variance_ratio_)+1), pca.explained_variance_ratio_, alpha=0.4, color='g')\n",
    "# ladder plot\n",
    "ax1.plot(range(1, len(pca.explained_variance_ratio_)+1), np.cumsum(pca.explained_variance_ratio_), color='b', marker='o', linestyle='--')\n",
    "ax1.set_xlabel('Number of Components')\n",
    "ax1.set_ylabel('Explained Variance Ratio', color='g')\n",
    "ax2.set_ylabel('Cumulative Explained Variance Ratio', color='b')\n",
    "\n",
    "# plot at 90% variance\n",
    "plt.axhline(y=0.9, color='r', linestyle='--')\n",
    "# plot when ax2 meets line\n",
    "plt.axvline(x=10, color='r', linestyle='--')\n",
    "plt.show()\n",
    "\n"
   ]
  },
  {
   "cell_type": "code",
   "execution_count": null,
   "metadata": {},
   "outputs": [],
   "source": []
  }
 ],
 "metadata": {
  "kernelspec": {
   "display_name": "Python 3",
   "language": "python",
   "name": "python3"
  },
  "language_info": {
   "codemirror_mode": {
    "name": "ipython",
    "version": 3
   },
   "file_extension": ".py",
   "mimetype": "text/x-python",
   "name": "python",
   "nbconvert_exporter": "python",
   "pygments_lexer": "ipython3",
   "version": "3.10.6"
  },
  "orig_nbformat": 4
 },
 "nbformat": 4,
 "nbformat_minor": 2
}
