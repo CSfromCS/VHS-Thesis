{
 "cells": [
  {
   "cell_type": "code",
   "execution_count": 1,
   "id": "591f28d6",
   "metadata": {},
   "outputs": [],
   "source": [
    "!pip install -q transformers\n",
    "\n",
    "!pip install -q datasets\n",
    "\n",
    "!pip install -q evaluate\n",
    "\n",
    "!pip install -q accelerate\n",
    "\n",
    "!pip install -q gluonts ujson\n"
   ]
  },
  {
   "cell_type": "code",
   "execution_count": 2,
   "id": "6bd2180b",
   "metadata": {},
   "outputs": [
    {
     "name": "stderr",
     "output_type": "stream",
     "text": [
      "/Users/cs/.pyenv/versions/3.10.6/lib/python3.10/site-packages/tqdm/auto.py:22: TqdmWarning: IProgress not found. Please update jupyter and ipywidgets. See https://ipywidgets.readthedocs.io/en/stable/user_install.html\n",
      "  from .autonotebook import tqdm as notebook_tqdm\n",
      "Found cached dataset monash_tsf (/Users/cs/.cache/huggingface/datasets/monash_tsf/tourism_monthly/1.0.0/82998723d55d6edbc664cfaebe371004d849846ee5f61b57f1f974000d44c050)\n",
      "100%|█████████████████████████████████████████████| 3/3 [00:00<00:00, 46.60it/s]\n"
     ]
    },
    {
     "data": {
      "text/plain": [
       "DatasetDict({\n",
       "    train: Dataset({\n",
       "        features: ['start', 'target', 'feat_static_cat', 'feat_dynamic_real', 'item_id'],\n",
       "        num_rows: 366\n",
       "    })\n",
       "    test: Dataset({\n",
       "        features: ['start', 'target', 'feat_static_cat', 'feat_dynamic_real', 'item_id'],\n",
       "        num_rows: 366\n",
       "    })\n",
       "    validation: Dataset({\n",
       "        features: ['start', 'target', 'feat_static_cat', 'feat_dynamic_real', 'item_id'],\n",
       "        num_rows: 366\n",
       "    })\n",
       "})"
      ]
     },
     "execution_count": 2,
     "metadata": {},
     "output_type": "execute_result"
    }
   ],
   "source": [
    "from datasets import load_dataset\n",
    "\n",
    "dataset = load_dataset(\"monash_tsf\", \"tourism_monthly\")\n",
    "dataset"
   ]
  },
  {
   "cell_type": "code",
   "execution_count": 21,
   "id": "0acb72a6",
   "metadata": {},
   "outputs": [
    {
     "data": {
      "text/plain": [
       "282"
      ]
     },
     "execution_count": 21,
     "metadata": {},
     "output_type": "execute_result"
    }
   ],
   "source": [
    "len(dataset[\"train\"][20][\"target\"])"
   ]
  },
  {
   "cell_type": "code",
   "execution_count": 22,
   "id": "08c8483b",
   "metadata": {},
   "outputs": [
    {
     "data": {
      "text/plain": [
       "306"
      ]
     },
     "execution_count": 22,
     "metadata": {},
     "output_type": "execute_result"
    }
   ],
   "source": [
    "len(dataset[\"validation\"][20][\"target\"])"
   ]
  },
  {
   "cell_type": "code",
   "execution_count": 11,
   "id": "1ce83854",
   "metadata": {},
   "outputs": [
    {
     "data": {
      "text/plain": [
       "282"
      ]
     },
     "execution_count": 11,
     "metadata": {},
     "output_type": "execute_result"
    }
   ],
   "source": [
    "len(dataset[\"train\"][20][\"target\"])"
   ]
  },
  {
   "cell_type": "code",
   "execution_count": 23,
   "id": "6003d97a",
   "metadata": {},
   "outputs": [
    {
     "data": {
      "text/plain": [
       "{'start': datetime.datetime(1980, 1, 1, 0, 0),\n",
       " 'target': [701.0,\n",
       "  1870.0,\n",
       "  1391.0,\n",
       "  1523.0,\n",
       "  863.0,\n",
       "  819.0,\n",
       "  1594.0,\n",
       "  1455.0,\n",
       "  705.0,\n",
       "  868.0,\n",
       "  1182.0,\n",
       "  1944.0,\n",
       "  879.0,\n",
       "  2253.0,\n",
       "  972.0,\n",
       "  1683.0,\n",
       "  941.0,\n",
       "  1112.0,\n",
       "  2451.0,\n",
       "  1609.0,\n",
       "  900.0,\n",
       "  1175.0,\n",
       "  1260.0,\n",
       "  1865.0,\n",
       "  2413.0,\n",
       "  1427.0,\n",
       "  1541.0,\n",
       "  1707.0,\n",
       "  1393.0,\n",
       "  1183.0,\n",
       "  2399.0,\n",
       "  2015.0,\n",
       "  1442.0,\n",
       "  1426.0,\n",
       "  1330.0,\n",
       "  2231.0,\n",
       "  1475.0,\n",
       "  3167.0,\n",
       "  1710.0,\n",
       "  1591.0,\n",
       "  1086.0,\n",
       "  1066.0,\n",
       "  2689.0,\n",
       "  1774.0,\n",
       "  1026.0,\n",
       "  1209.0,\n",
       "  1560.0,\n",
       "  2511.0,\n",
       "  1593.0,\n",
       "  2729.0,\n",
       "  1316.0,\n",
       "  1633.0,\n",
       "  1251.0,\n",
       "  1349.0,\n",
       "  2426.0,\n",
       "  2109.0,\n",
       "  1141.0,\n",
       "  1196.0,\n",
       "  1694.0,\n",
       "  2742.0,\n",
       "  1321.0,\n",
       "  3635.0,\n",
       "  2045.0,\n",
       "  1832.0,\n",
       "  1109.0,\n",
       "  1290.0,\n",
       "  2473.0,\n",
       "  2237.0,\n",
       "  1300.0,\n",
       "  1446.0,\n",
       "  1896.0,\n",
       "  3502.0,\n",
       "  1941.0,\n",
       "  5346.0,\n",
       "  3083.0,\n",
       "  1800.0,\n",
       "  1617.0,\n",
       "  1572.0,\n",
       "  3670.0,\n",
       "  3414.0,\n",
       "  1706.0,\n",
       "  2195.0,\n",
       "  2515.0,\n",
       "  4681.0,\n",
       "  4984.0,\n",
       "  3659.0,\n",
       "  2683.0,\n",
       "  3806.0,\n",
       "  1968.0,\n",
       "  2438.0,\n",
       "  5062.0,\n",
       "  4427.0,\n",
       "  2349.0,\n",
       "  2722.0,\n",
       "  3098.0,\n",
       "  5518.0,\n",
       "  3110.0,\n",
       "  7548.0,\n",
       "  3603.0,\n",
       "  3711.0,\n",
       "  2598.0,\n",
       "  3457.0,\n",
       "  7078.0,\n",
       "  5259.0,\n",
       "  2758.0,\n",
       "  2907.0,\n",
       "  2485.0,\n",
       "  4931.0,\n",
       "  3195.0,\n",
       "  7914.0,\n",
       "  4295.0,\n",
       "  3023.0,\n",
       "  2458.0,\n",
       "  3197.0,\n",
       "  6818.0,\n",
       "  6232.0,\n",
       "  3304.0,\n",
       "  3660.0,\n",
       "  3707.0,\n",
       "  6340.0,\n",
       "  7791.0,\n",
       "  5518.0,\n",
       "  3977.0,\n",
       "  4754.0,\n",
       "  2628.0,\n",
       "  4106.0,\n",
       "  4538.0,\n",
       "  3369.0,\n",
       "  3122.0,\n",
       "  3484.0,\n",
       "  4104.0,\n",
       "  7091.0,\n",
       "  4400.0,\n",
       "  9628.0,\n",
       "  5774.0,\n",
       "  3292.0,\n",
       "  3212.0,\n",
       "  3953.0,\n",
       "  7722.0,\n",
       "  5995.0,\n",
       "  3684.0,\n",
       "  3852.0,\n",
       "  4271.0,\n",
       "  6970.0,\n",
       "  6336.0,\n",
       "  12027.0,\n",
       "  4088.0,\n",
       "  6381.0,\n",
       "  3866.0,\n",
       "  5088.0,\n",
       "  9349.0,\n",
       "  5643.0,\n",
       "  3909.0,\n",
       "  4143.0,\n",
       "  5082.0,\n",
       "  8833.0,\n",
       "  11165.0,\n",
       "  7297.0,\n",
       "  7052.0,\n",
       "  8722.0,\n",
       "  5596.0,\n",
       "  6586.0,\n",
       "  10830.0,\n",
       "  6961.0,\n",
       "  4381.0,\n",
       "  6474.0,\n",
       "  7329.0,\n",
       "  9600.0,\n",
       "  5707.0,\n",
       "  14780.0,\n",
       "  9063.0,\n",
       "  7962.0,\n",
       "  5174.0,\n",
       "  8648.0,\n",
       "  12624.0,\n",
       "  9068.0,\n",
       "  6735.0,\n",
       "  7753.0,\n",
       "  8706.0,\n",
       "  13319.0,\n",
       "  12353.0,\n",
       "  12635.0,\n",
       "  6805.0,\n",
       "  11895.0,\n",
       "  6451.0,\n",
       "  8176.0,\n",
       "  18748.0,\n",
       "  12596.0,\n",
       "  7070.0,\n",
       "  9614.0,\n",
       "  9781.0,\n",
       "  15583.0,\n",
       "  10511.0,\n",
       "  23321.0,\n",
       "  13025.0,\n",
       "  12166.0,\n",
       "  8677.0,\n",
       "  11111.0,\n",
       "  15758.0,\n",
       "  11612.0,\n",
       "  8278.0,\n",
       "  10006.0,\n",
       "  10387.0,\n",
       "  18347.0,\n",
       "  10681.0,\n",
       "  24783.0,\n",
       "  17283.0,\n",
       "  9658.0,\n",
       "  8909.0,\n",
       "  9210.0,\n",
       "  14878.0,\n",
       "  10435.0,\n",
       "  9919.0,\n",
       "  11682.0,\n",
       "  9139.0,\n",
       "  15177.0,\n",
       "  15059.0,\n",
       "  11547.0,\n",
       "  11816.0,\n",
       "  15835.0,\n",
       "  8398.0,\n",
       "  10474.0,\n",
       "  14735.0,\n",
       "  10590.0,\n",
       "  9157.0,\n",
       "  11271.0,\n",
       "  10062.0,\n",
       "  14496.0,\n",
       "  8689.0,\n",
       "  20597.0,\n",
       "  11632.0,\n",
       "  10040.0,\n",
       "  7489.0,\n",
       "  9902.0,\n",
       "  15414.0,\n",
       "  10784.0,\n",
       "  10712.0,\n",
       "  10663.0,\n",
       "  10358.0,\n",
       "  13275.0,\n",
       "  10857.0,\n",
       "  20787.0,\n",
       "  10814.0,\n",
       "  15256.0,\n",
       "  9403.0,\n",
       "  10694.0,\n",
       "  16702.0,\n",
       "  10874.0,\n",
       "  9970.0,\n",
       "  11603.0,\n",
       "  12185.0,\n",
       "  14951.0,\n",
       "  16966.0,\n",
       "  11365.0,\n",
       "  14076.0,\n",
       "  15611.0,\n",
       "  8080.0,\n",
       "  11771.0,\n",
       "  17312.0,\n",
       "  12176.0,\n",
       "  10592.0,\n",
       "  10768.0,\n",
       "  9904.0,\n",
       "  15530.0,\n",
       "  9625.0,\n",
       "  17920.0,\n",
       "  15460.0,\n",
       "  9754.0,\n",
       "  9097.0,\n",
       "  10462.0,\n",
       "  19452.0,\n",
       "  12170.0,\n",
       "  9288.0,\n",
       "  12327.0,\n",
       "  10145.0,\n",
       "  15226.0,\n",
       "  11386.0,\n",
       "  12474.0,\n",
       "  9709.0,\n",
       "  9491.0,\n",
       "  6039.0,\n",
       "  12939.0],\n",
       " 'feat_static_cat': [20],\n",
       " 'feat_dynamic_real': None,\n",
       " 'item_id': 'T21'}"
      ]
     },
     "execution_count": 23,
     "metadata": {},
     "output_type": "execute_result"
    }
   ],
   "source": [
    "dataset[\"train\"][20]"
   ]
  },
  {
   "cell_type": "code",
   "execution_count": 27,
   "id": "ce26e28e",
   "metadata": {},
   "outputs": [
    {
     "data": {
      "text/plain": [
       "datetime.datetime"
      ]
     },
     "execution_count": 27,
     "metadata": {},
     "output_type": "execute_result"
    }
   ],
   "source": [
    "type(dataset[\"validation\"][20][\"start\"])"
   ]
  },
  {
   "cell_type": "code",
   "execution_count": 37,
   "id": "fa88f518",
   "metadata": {},
   "outputs": [
    {
     "data": {
      "text/plain": [
       "datetime.datetime(2023, 8, 5, 8, 0)"
      ]
     },
     "execution_count": 37,
     "metadata": {},
     "output_type": "execute_result"
    }
   ],
   "source": [
    "from datetime import datetime\n",
    "datetime.strptime(\"5/8/2023 8:00:00\",\"%d/%m/%Y %H:%M:%S\")"
   ]
  },
  {
   "cell_type": "code",
   "execution_count": null,
   "id": "3ca9768c",
   "metadata": {},
   "outputs": [],
   "source": [
    "vhsdata = {}\n"
   ]
  }
 ],
 "metadata": {
  "kernelspec": {
   "display_name": "Python 3 (ipykernel)",
   "language": "python",
   "name": "python3"
  },
  "language_info": {
   "codemirror_mode": {
    "name": "ipython",
    "version": 3
   },
   "file_extension": ".py",
   "mimetype": "text/x-python",
   "name": "python",
   "nbconvert_exporter": "python",
   "pygments_lexer": "ipython3",
   "version": "3.10.6"
  }
 },
 "nbformat": 4,
 "nbformat_minor": 5
}
