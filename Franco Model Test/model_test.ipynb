{
 "cells": [
  {
   "cell_type": "code",
   "execution_count": 39,
   "metadata": {},
   "outputs": [
    {
     "data": {
      "text/plain": [
       "Index(['Day_of_Week', 'Timestamp', 'Altitude', 'Course', 'Course_Accuracy',\n",
       "       'H_Accuracy', 'Latitude', 'Longitude', 'Speed', 'Speed_Accuracy',\n",
       "       'V_Accuracy'],\n",
       "      dtype='object')"
      ]
     },
     "execution_count": 39,
     "metadata": {},
     "output_type": "execute_result"
    }
   ],
   "source": [
    "import pandas as pd\n",
    "import numpy as np\n",
    "import torch\n",
    "import torch.nn as nn\n",
    "import torch.optim as optim\n",
    "from matplotlib import pyplot as plt\n",
    "from transformers import AutoModelForSeq2SeqLM, AutoTokenizer\n",
    "\n",
    "df = pd.read_csv('Thesis Tracking Data 20230919.csv')\n",
    "df.columns"
   ]
  },
  {
   "cell_type": "code",
   "execution_count": 24,
   "metadata": {},
   "outputs": [
    {
     "data": {
      "text/html": [
       "<div>\n",
       "<style scoped>\n",
       "    .dataframe tbody tr th:only-of-type {\n",
       "        vertical-align: middle;\n",
       "    }\n",
       "\n",
       "    .dataframe tbody tr th {\n",
       "        vertical-align: top;\n",
       "    }\n",
       "\n",
       "    .dataframe thead th {\n",
       "        text-align: right;\n",
       "    }\n",
       "</style>\n",
       "<table border=\"1\" class=\"dataframe\">\n",
       "  <thead>\n",
       "    <tr style=\"text-align: right;\">\n",
       "      <th></th>\n",
       "      <th>Day_of_Week</th>\n",
       "      <th>Timestamp</th>\n",
       "      <th>Altitude</th>\n",
       "      <th>Course</th>\n",
       "      <th>Course_Accuracy</th>\n",
       "      <th>H_Accuracy</th>\n",
       "      <th>Latitude</th>\n",
       "      <th>Longitude</th>\n",
       "      <th>Speed</th>\n",
       "      <th>Speed_Accuracy</th>\n",
       "      <th>V_Accuracy</th>\n",
       "    </tr>\n",
       "  </thead>\n",
       "  <tbody>\n",
       "    <tr>\n",
       "      <th>0</th>\n",
       "      <td>Tuesday</td>\n",
       "      <td>2023-09-19 06:14:58 +0000</td>\n",
       "      <td>57.150710</td>\n",
       "      <td>268.967959</td>\n",
       "      <td>53.392414</td>\n",
       "      <td>4.798054</td>\n",
       "      <td>14.637844</td>\n",
       "      <td>121.074774</td>\n",
       "      <td>1.483773</td>\n",
       "      <td>1.837906</td>\n",
       "      <td>3.286824</td>\n",
       "    </tr>\n",
       "    <tr>\n",
       "      <th>1</th>\n",
       "      <td>Tuesday</td>\n",
       "      <td>2023-09-19 06:14:59 +0000</td>\n",
       "      <td>57.661554</td>\n",
       "      <td>284.771512</td>\n",
       "      <td>56.987203</td>\n",
       "      <td>4.790059</td>\n",
       "      <td>14.637848</td>\n",
       "      <td>121.074760</td>\n",
       "      <td>1.438743</td>\n",
       "      <td>1.797271</td>\n",
       "      <td>3.298465</td>\n",
       "    </tr>\n",
       "    <tr>\n",
       "      <th>2</th>\n",
       "      <td>Tuesday</td>\n",
       "      <td>2023-09-19 06:15:00 +0000</td>\n",
       "      <td>58.041194</td>\n",
       "      <td>308.445080</td>\n",
       "      <td>44.045193</td>\n",
       "      <td>4.786969</td>\n",
       "      <td>14.637866</td>\n",
       "      <td>121.074750</td>\n",
       "      <td>2.069808</td>\n",
       "      <td>1.644483</td>\n",
       "      <td>3.302947</td>\n",
       "    </tr>\n",
       "    <tr>\n",
       "      <th>3</th>\n",
       "      <td>Tuesday</td>\n",
       "      <td>2023-09-19 06:15:01 +0000</td>\n",
       "      <td>58.118077</td>\n",
       "      <td>330.189030</td>\n",
       "      <td>39.067568</td>\n",
       "      <td>4.782355</td>\n",
       "      <td>14.637893</td>\n",
       "      <td>121.074740</td>\n",
       "      <td>2.376904</td>\n",
       "      <td>1.658320</td>\n",
       "      <td>3.309625</td>\n",
       "    </tr>\n",
       "    <tr>\n",
       "      <th>4</th>\n",
       "      <td>Tuesday</td>\n",
       "      <td>2023-09-19 06:15:02 +0000</td>\n",
       "      <td>58.171827</td>\n",
       "      <td>356.336398</td>\n",
       "      <td>33.997346</td>\n",
       "      <td>4.786269</td>\n",
       "      <td>14.637924</td>\n",
       "      <td>121.074750</td>\n",
       "      <td>2.580006</td>\n",
       "      <td>1.808512</td>\n",
       "      <td>3.303962</td>\n",
       "    </tr>\n",
       "    <tr>\n",
       "      <th>...</th>\n",
       "      <td>...</td>\n",
       "      <td>...</td>\n",
       "      <td>...</td>\n",
       "      <td>...</td>\n",
       "      <td>...</td>\n",
       "      <td>...</td>\n",
       "      <td>...</td>\n",
       "      <td>...</td>\n",
       "      <td>...</td>\n",
       "      <td>...</td>\n",
       "      <td>...</td>\n",
       "    </tr>\n",
       "    <tr>\n",
       "      <th>2254</th>\n",
       "      <td>Tuesday</td>\n",
       "      <td>2023-09-19 06:56:16 +0000</td>\n",
       "      <td>66.994324</td>\n",
       "      <td>126.289416</td>\n",
       "      <td>32.184725</td>\n",
       "      <td>4.732405</td>\n",
       "      <td>14.640040</td>\n",
       "      <td>121.078466</td>\n",
       "      <td>1.719947</td>\n",
       "      <td>1.161108</td>\n",
       "      <td>3.380662</td>\n",
       "    </tr>\n",
       "    <tr>\n",
       "      <th>2255</th>\n",
       "      <td>Tuesday</td>\n",
       "      <td>2023-09-19 06:56:17 +0000</td>\n",
       "      <td>67.146454</td>\n",
       "      <td>123.185767</td>\n",
       "      <td>39.722299</td>\n",
       "      <td>4.734499</td>\n",
       "      <td>14.640038</td>\n",
       "      <td>121.078477</td>\n",
       "      <td>1.354197</td>\n",
       "      <td>1.171594</td>\n",
       "      <td>3.377729</td>\n",
       "    </tr>\n",
       "    <tr>\n",
       "      <th>2256</th>\n",
       "      <td>Tuesday</td>\n",
       "      <td>2023-09-19 06:56:18 +0000</td>\n",
       "      <td>67.133595</td>\n",
       "      <td>113.524917</td>\n",
       "      <td>41.972852</td>\n",
       "      <td>4.743797</td>\n",
       "      <td>14.640041</td>\n",
       "      <td>121.078492</td>\n",
       "      <td>1.298960</td>\n",
       "      <td>1.226130</td>\n",
       "      <td>3.364658</td>\n",
       "    </tr>\n",
       "    <tr>\n",
       "      <th>2257</th>\n",
       "      <td>Tuesday</td>\n",
       "      <td>2023-09-19 06:56:20 +0000</td>\n",
       "      <td>66.995704</td>\n",
       "      <td>112.707423</td>\n",
       "      <td>87.503990</td>\n",
       "      <td>4.742495</td>\n",
       "      <td>14.640047</td>\n",
       "      <td>121.078511</td>\n",
       "      <td>0.596955</td>\n",
       "      <td>1.241574</td>\n",
       "      <td>3.366494</td>\n",
       "    </tr>\n",
       "    <tr>\n",
       "      <th>2258</th>\n",
       "      <td>Tuesday</td>\n",
       "      <td>2023-09-19 06:56:21 +0000</td>\n",
       "      <td>66.998879</td>\n",
       "      <td>101.630750</td>\n",
       "      <td>180.000000</td>\n",
       "      <td>4.741748</td>\n",
       "      <td>14.640050</td>\n",
       "      <td>121.078514</td>\n",
       "      <td>0.179093</td>\n",
       "      <td>1.563273</td>\n",
       "      <td>3.367546</td>\n",
       "    </tr>\n",
       "  </tbody>\n",
       "</table>\n",
       "<p>2259 rows × 11 columns</p>\n",
       "</div>"
      ],
      "text/plain": [
       "     Day_of_Week                  Timestamp   Altitude      Course  \\\n",
       "0        Tuesday  2023-09-19 06:14:58 +0000  57.150710  268.967959   \n",
       "1        Tuesday  2023-09-19 06:14:59 +0000  57.661554  284.771512   \n",
       "2        Tuesday  2023-09-19 06:15:00 +0000  58.041194  308.445080   \n",
       "3        Tuesday  2023-09-19 06:15:01 +0000  58.118077  330.189030   \n",
       "4        Tuesday  2023-09-19 06:15:02 +0000  58.171827  356.336398   \n",
       "...          ...                        ...        ...         ...   \n",
       "2254     Tuesday  2023-09-19 06:56:16 +0000  66.994324  126.289416   \n",
       "2255     Tuesday  2023-09-19 06:56:17 +0000  67.146454  123.185767   \n",
       "2256     Tuesday  2023-09-19 06:56:18 +0000  67.133595  113.524917   \n",
       "2257     Tuesday  2023-09-19 06:56:20 +0000  66.995704  112.707423   \n",
       "2258     Tuesday  2023-09-19 06:56:21 +0000  66.998879  101.630750   \n",
       "\n",
       "      Course_Accuracy  H_Accuracy   Latitude   Longitude     Speed  \\\n",
       "0           53.392414    4.798054  14.637844  121.074774  1.483773   \n",
       "1           56.987203    4.790059  14.637848  121.074760  1.438743   \n",
       "2           44.045193    4.786969  14.637866  121.074750  2.069808   \n",
       "3           39.067568    4.782355  14.637893  121.074740  2.376904   \n",
       "4           33.997346    4.786269  14.637924  121.074750  2.580006   \n",
       "...               ...         ...        ...         ...       ...   \n",
       "2254        32.184725    4.732405  14.640040  121.078466  1.719947   \n",
       "2255        39.722299    4.734499  14.640038  121.078477  1.354197   \n",
       "2256        41.972852    4.743797  14.640041  121.078492  1.298960   \n",
       "2257        87.503990    4.742495  14.640047  121.078511  0.596955   \n",
       "2258       180.000000    4.741748  14.640050  121.078514  0.179093   \n",
       "\n",
       "      Speed_Accuracy  V_Accuracy  \n",
       "0           1.837906    3.286824  \n",
       "1           1.797271    3.298465  \n",
       "2           1.644483    3.302947  \n",
       "3           1.658320    3.309625  \n",
       "4           1.808512    3.303962  \n",
       "...              ...         ...  \n",
       "2254        1.161108    3.380662  \n",
       "2255        1.171594    3.377729  \n",
       "2256        1.226130    3.364658  \n",
       "2257        1.241574    3.366494  \n",
       "2258        1.563273    3.367546  \n",
       "\n",
       "[2259 rows x 11 columns]"
      ]
     },
     "execution_count": 24,
     "metadata": {},
     "output_type": "execute_result"
    }
   ],
   "source": [
    "df # 1982"
   ]
  },
  {
   "cell_type": "code",
   "execution_count": 41,
   "metadata": {},
   "outputs": [
    {
     "data": {
      "text/plain": [
       "Text(0, 0.5, 'Latitude')"
      ]
     },
     "execution_count": 41,
     "metadata": {},
     "output_type": "execute_result"
    },
    {
     "data": {
      "image/png": "[encoded data removed]",
      "text/plain": [
       "<Figure size 432x288 with 1 Axes>"
      ]
     },
     "metadata": {
      "needs_background": "light"
     },
     "output_type": "display_data"
    }
   ],
   "source": [
    "# df = df.head(2260)\n",
    "\n",
    "df = df.astype({'Latitude': 'string', 'Longitude': 'string'})\n",
    "\n",
    "train_df = df.head(2050)\n",
    "test_df = df.tail(208)\n",
    "\n",
    "plt.xlabel(\"Longitude\") \n",
    "plt.ylabel(\"Latitude\") \n",
    "# plt.plot(new_df['Longitude'],new_df['Latitude']) \n",
    "# plt.show()"
   ]
  },
  {
   "cell_type": "code",
   "execution_count": 33,
   "metadata": {},
   "outputs": [
    {
     "data": {
      "application/vnd.jupyter.widget-view+json": {
       "model_id": "a37b6e3653554d42bad301e45f965b6b",
       "version_major": 2,
       "version_minor": 0
      },
      "text/plain": [
       "Downloading (…)lve/main/config.json:   0%|          | 0.00/1.21k [00:00<?, ?B/s]"
      ]
     },
     "metadata": {},
     "output_type": "display_data"
    },
    {
     "data": {
      "application/vnd.jupyter.widget-view+json": {
       "model_id": "7740930847c54d82b97bf418e3c33333",
       "version_major": 2,
       "version_minor": 0
      },
      "text/plain": [
       "Downloading model.safetensors:   0%|          | 0.00/242M [00:00<?, ?B/s]"
      ]
     },
     "metadata": {},
     "output_type": "display_data"
    },
    {
     "data": {
      "application/vnd.jupyter.widget-view+json": {
       "model_id": "645a08c996e44cc6a5c85a16bc72fa22",
       "version_major": 2,
       "version_minor": 0
      },
      "text/plain": [
       "Downloading (…)neration_config.json:   0%|          | 0.00/147 [00:00<?, ?B/s]"
      ]
     },
     "metadata": {},
     "output_type": "display_data"
    }
   ],
   "source": [
    "# Create a Transformers model\n",
    "model = AutoModelForSeq2SeqLM.from_pretrained('t5-small')\n"
   ]
  },
  {
   "cell_type": "code",
   "execution_count": 44,
   "metadata": {},
   "outputs": [
    {
     "ename": "TypeError",
     "evalue": "'int' object is not callable",
     "output_type": "error",
     "traceback": [
      "\u001b[0;31m---------------------------------------------------------------------------\u001b[0m",
      "\u001b[0;31mTypeError\u001b[0m                                 Traceback (most recent call last)",
      "\u001b[1;32m/Users/franco/Desktop/College/Thesis/VHS-Thesis/Franco Model Test/model_test.ipynb Cell 5\u001b[0m in \u001b[0;36m<cell line: 18>\u001b[0;34m()\u001b[0m\n\u001b[1;32m     <a href='vscode-notebook-cell:/Users/franco/Desktop/College/Thesis/VHS-Thesis/Franco%20Model%20Test/model_test.ipynb#W5sZmlsZQ%3D%3D?line=18'>19</a>\u001b[0m model\u001b[39m.\u001b[39mtrain()\n\u001b[1;32m     <a href='vscode-notebook-cell:/Users/franco/Desktop/College/Thesis/VHS-Thesis/Franco%20Model%20Test/model_test.ipynb#W5sZmlsZQ%3D%3D?line=19'>20</a>\u001b[0m optimizer\u001b[39m.\u001b[39mzero_grad()\n\u001b[0;32m---> <a href='vscode-notebook-cell:/Users/franco/Desktop/College/Thesis/VHS-Thesis/Franco%20Model%20Test/model_test.ipynb#W5sZmlsZQ%3D%3D?line=21'>22</a>\u001b[0m outputs \u001b[39m=\u001b[39m model(lat_train)\n\u001b[1;32m     <a href='vscode-notebook-cell:/Users/franco/Desktop/College/Thesis/VHS-Thesis/Franco%20Model%20Test/model_test.ipynb#W5sZmlsZQ%3D%3D?line=23'>24</a>\u001b[0m loss \u001b[39m=\u001b[39m criterion(outputs\u001b[39m.\u001b[39mlogits, lat_train)\n\u001b[1;32m     <a href='vscode-notebook-cell:/Users/franco/Desktop/College/Thesis/VHS-Thesis/Franco%20Model%20Test/model_test.ipynb#W5sZmlsZQ%3D%3D?line=25'>26</a>\u001b[0m loss\u001b[39m.\u001b[39mbackward()\n",
      "File \u001b[0;32m/Library/Frameworks/Python.framework/Versions/3.10/lib/python3.10/site-packages/torch/nn/modules/module.py:1194\u001b[0m, in \u001b[0;36mModule._call_impl\u001b[0;34m(self, *input, **kwargs)\u001b[0m\n\u001b[1;32m   1190\u001b[0m \u001b[39m# If we don't have any hooks, we want to skip the rest of the logic in\u001b[39;00m\n\u001b[1;32m   1191\u001b[0m \u001b[39m# this function, and just call forward.\u001b[39;00m\n\u001b[1;32m   1192\u001b[0m \u001b[39mif\u001b[39;00m \u001b[39mnot\u001b[39;00m (\u001b[39mself\u001b[39m\u001b[39m.\u001b[39m_backward_hooks \u001b[39mor\u001b[39;00m \u001b[39mself\u001b[39m\u001b[39m.\u001b[39m_forward_hooks \u001b[39mor\u001b[39;00m \u001b[39mself\u001b[39m\u001b[39m.\u001b[39m_forward_pre_hooks \u001b[39mor\u001b[39;00m _global_backward_hooks\n\u001b[1;32m   1193\u001b[0m         \u001b[39mor\u001b[39;00m _global_forward_hooks \u001b[39mor\u001b[39;00m _global_forward_pre_hooks):\n\u001b[0;32m-> 1194\u001b[0m     \u001b[39mreturn\u001b[39;00m forward_call(\u001b[39m*\u001b[39;49m\u001b[39minput\u001b[39;49m, \u001b[39m*\u001b[39;49m\u001b[39m*\u001b[39;49mkwargs)\n\u001b[1;32m   1195\u001b[0m \u001b[39m# Do not call functions when jit is used\u001b[39;00m\n\u001b[1;32m   1196\u001b[0m full_backward_hooks, non_full_backward_hooks \u001b[39m=\u001b[39m [], []\n",
      "File \u001b[0;32m/Library/Frameworks/Python.framework/Versions/3.10/lib/python3.10/site-packages/transformers/models/t5/modeling_t5.py:1709\u001b[0m, in \u001b[0;36mT5ForConditionalGeneration.forward\u001b[0;34m(self, input_ids, attention_mask, decoder_input_ids, decoder_attention_mask, head_mask, decoder_head_mask, cross_attn_head_mask, encoder_outputs, past_key_values, inputs_embeds, decoder_inputs_embeds, labels, use_cache, output_attentions, output_hidden_states, return_dict)\u001b[0m\n\u001b[1;32m   1706\u001b[0m \u001b[39m# Encode if needed (training, first prediction pass)\u001b[39;00m\n\u001b[1;32m   1707\u001b[0m \u001b[39mif\u001b[39;00m encoder_outputs \u001b[39mis\u001b[39;00m \u001b[39mNone\u001b[39;00m:\n\u001b[1;32m   1708\u001b[0m     \u001b[39m# Convert encoder inputs in embeddings if needed\u001b[39;00m\n\u001b[0;32m-> 1709\u001b[0m     encoder_outputs \u001b[39m=\u001b[39m \u001b[39mself\u001b[39;49m\u001b[39m.\u001b[39;49mencoder(\n\u001b[1;32m   1710\u001b[0m         input_ids\u001b[39m=\u001b[39;49minput_ids,\n\u001b[1;32m   1711\u001b[0m         attention_mask\u001b[39m=\u001b[39;49mattention_mask,\n\u001b[1;32m   1712\u001b[0m         inputs_embeds\u001b[39m=\u001b[39;49minputs_embeds,\n\u001b[1;32m   1713\u001b[0m         head_mask\u001b[39m=\u001b[39;49mhead_mask,\n\u001b[1;32m   1714\u001b[0m         output_attentions\u001b[39m=\u001b[39;49moutput_attentions,\n\u001b[1;32m   1715\u001b[0m         output_hidden_states\u001b[39m=\u001b[39;49moutput_hidden_states,\n\u001b[1;32m   1716\u001b[0m         return_dict\u001b[39m=\u001b[39;49mreturn_dict,\n\u001b[1;32m   1717\u001b[0m     )\n\u001b[1;32m   1718\u001b[0m \u001b[39melif\u001b[39;00m return_dict \u001b[39mand\u001b[39;00m \u001b[39mnot\u001b[39;00m \u001b[39misinstance\u001b[39m(encoder_outputs, BaseModelOutput):\n\u001b[1;32m   1719\u001b[0m     encoder_outputs \u001b[39m=\u001b[39m BaseModelOutput(\n\u001b[1;32m   1720\u001b[0m         last_hidden_state\u001b[39m=\u001b[39mencoder_outputs[\u001b[39m0\u001b[39m],\n\u001b[1;32m   1721\u001b[0m         hidden_states\u001b[39m=\u001b[39mencoder_outputs[\u001b[39m1\u001b[39m] \u001b[39mif\u001b[39;00m \u001b[39mlen\u001b[39m(encoder_outputs) \u001b[39m>\u001b[39m \u001b[39m1\u001b[39m \u001b[39melse\u001b[39;00m \u001b[39mNone\u001b[39;00m,\n\u001b[1;32m   1722\u001b[0m         attentions\u001b[39m=\u001b[39mencoder_outputs[\u001b[39m2\u001b[39m] \u001b[39mif\u001b[39;00m \u001b[39mlen\u001b[39m(encoder_outputs) \u001b[39m>\u001b[39m \u001b[39m2\u001b[39m \u001b[39melse\u001b[39;00m \u001b[39mNone\u001b[39;00m,\n\u001b[1;32m   1723\u001b[0m     )\n",
      "File \u001b[0;32m/Library/Frameworks/Python.framework/Versions/3.10/lib/python3.10/site-packages/torch/nn/modules/module.py:1194\u001b[0m, in \u001b[0;36mModule._call_impl\u001b[0;34m(self, *input, **kwargs)\u001b[0m\n\u001b[1;32m   1190\u001b[0m \u001b[39m# If we don't have any hooks, we want to skip the rest of the logic in\u001b[39;00m\n\u001b[1;32m   1191\u001b[0m \u001b[39m# this function, and just call forward.\u001b[39;00m\n\u001b[1;32m   1192\u001b[0m \u001b[39mif\u001b[39;00m \u001b[39mnot\u001b[39;00m (\u001b[39mself\u001b[39m\u001b[39m.\u001b[39m_backward_hooks \u001b[39mor\u001b[39;00m \u001b[39mself\u001b[39m\u001b[39m.\u001b[39m_forward_hooks \u001b[39mor\u001b[39;00m \u001b[39mself\u001b[39m\u001b[39m.\u001b[39m_forward_pre_hooks \u001b[39mor\u001b[39;00m _global_backward_hooks\n\u001b[1;32m   1193\u001b[0m         \u001b[39mor\u001b[39;00m _global_forward_hooks \u001b[39mor\u001b[39;00m _global_forward_pre_hooks):\n\u001b[0;32m-> 1194\u001b[0m     \u001b[39mreturn\u001b[39;00m forward_call(\u001b[39m*\u001b[39;49m\u001b[39minput\u001b[39;49m, \u001b[39m*\u001b[39;49m\u001b[39m*\u001b[39;49mkwargs)\n\u001b[1;32m   1195\u001b[0m \u001b[39m# Do not call functions when jit is used\u001b[39;00m\n\u001b[1;32m   1196\u001b[0m full_backward_hooks, non_full_backward_hooks \u001b[39m=\u001b[39m [], []\n",
      "File \u001b[0;32m/Library/Frameworks/Python.framework/Versions/3.10/lib/python3.10/site-packages/transformers/models/t5/modeling_t5.py:1010\u001b[0m, in \u001b[0;36mT5Stack.forward\u001b[0;34m(self, input_ids, attention_mask, encoder_hidden_states, encoder_attention_mask, inputs_embeds, head_mask, cross_attn_head_mask, past_key_values, use_cache, output_attentions, output_hidden_states, return_dict)\u001b[0m\n\u001b[1;32m   1006\u001b[0m     \u001b[39mraise\u001b[39;00m \u001b[39mValueError\u001b[39;00m(\n\u001b[1;32m   1007\u001b[0m         \u001b[39mf\u001b[39m\u001b[39m\"\u001b[39m\u001b[39mYou cannot specify both \u001b[39m\u001b[39m{\u001b[39;00merr_msg_prefix\u001b[39m}\u001b[39;00m\u001b[39minput_ids and \u001b[39m\u001b[39m{\u001b[39;00merr_msg_prefix\u001b[39m}\u001b[39;00m\u001b[39minputs_embeds at the same time\u001b[39m\u001b[39m\"\u001b[39m\n\u001b[1;32m   1008\u001b[0m     )\n\u001b[1;32m   1009\u001b[0m \u001b[39melif\u001b[39;00m input_ids \u001b[39mis\u001b[39;00m \u001b[39mnot\u001b[39;00m \u001b[39mNone\u001b[39;00m:\n\u001b[0;32m-> 1010\u001b[0m     input_shape \u001b[39m=\u001b[39m input_ids\u001b[39m.\u001b[39;49msize()\n\u001b[1;32m   1011\u001b[0m     input_ids \u001b[39m=\u001b[39m input_ids\u001b[39m.\u001b[39mview(\u001b[39m-\u001b[39m\u001b[39m1\u001b[39m, input_shape[\u001b[39m-\u001b[39m\u001b[39m1\u001b[39m])\n\u001b[1;32m   1012\u001b[0m \u001b[39melif\u001b[39;00m inputs_embeds \u001b[39mis\u001b[39;00m \u001b[39mnot\u001b[39;00m \u001b[39mNone\u001b[39;00m:\n",
      "\u001b[0;31mTypeError\u001b[0m: 'int' object is not callable"
     ]
    }
   ],
   "source": [
    "lat_train = train_df['Latitude']\n",
    "long_train = train_df['Longitude']\n",
    "\n",
    "lat_test = test_df['Latitude']\n",
    "long_test = test_df['Longitude']\n",
    "\n",
    "lat_test\n",
    "\n",
    "tokenizer = AutoTokenizer.from_pretrained('t5-small')\n",
    "#input_tokens = tokenizer.encode((lat_train, long_train), return_tensors='pt')\n",
    "#output_tokens = tokenizer.encode((lat_test, long_test), return_tensors='pt')\n",
    "\n",
    "criterion = nn.MSELoss()\n",
    "optimizer = optim.Adam(model.parameters(), lr=0.001)\n",
    "\n",
    "epoch_num = 100\n",
    "\n",
    "for epoch in range(epoch_num):\n",
    "    model.train()\n",
    "    optimizer.zero_grad()\n",
    "\n",
    "    outputs = model(lat_train)\n",
    "\n",
    "    loss = criterion(outputs.logits, lat_train)\n",
    "\n",
    "    loss.backward()\n",
    "    optimizer.step()\n",
    "\n",
    "    # Print the loss for this epoch\n",
    "    print(f\"Epoch [{epoch+1}/{epoch_num}], Loss: {loss.item()}\")\n",
    "\n",
    "# Inference for forecasting\n",
    "with torch.no_grad():\n",
    "    # Generate predictions\n",
    "    predicted_tokens = model.generate(lat_test)\n",
    "\n",
    "# Decode the predicted tokens to get the forecasted values\n",
    "predicted_values = tokenizer.decode(predicted_tokens[0])\n",
    "print(\"Forecasted values:\", predicted_values)"
   ]
  },
  {
   "cell_type": "code",
   "execution_count": null,
   "metadata": {},
   "outputs": [],
   "source": [
    "inputs = df[['Latitude', 'Longitude']].values.tolist()\n",
    "outputs = df[['Latitude', 'Longitude']].shift(-1).dropna().values.tolist()\n",
    "\n",
    "tokenizer = AutoTokenizer.from_pretrained('t5-small')\n",
    "\n",
    "input_tokens = tokenizer(inputs, return_tensors='pt', padding=True, truncation=True)\n",
    "output_tokens = tokenizer(outputs, return_tensors='pt', padding=True, truncation=True)"
   ]
  }
 ],
 "metadata": {
  "kernelspec": {
   "display_name": "Python 3",
   "language": "python",
   "name": "python3"
  },
  "language_info": {
   "codemirror_mode": {
    "name": "ipython",
    "version": 3
   },
   "file_extension": ".py",
   "mimetype": "text/x-python",
   "name": "python",
   "nbconvert_exporter": "python",
   "pygments_lexer": "ipython3",
   "version": "3.10.0"
  },
  "orig_nbformat": 4
 },
 "nbformat": 4,
 "nbformat_minor": 2
}
