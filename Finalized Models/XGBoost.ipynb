{
 "cells": [
  {
   "cell_type": "code",
   "execution_count": 1,
   "metadata": {},
   "outputs": [],
   "source": [
    "import pandas as pd\n",
    "import numpy as np\n",
    "import matplotlib.pyplot as plt\n",
    "import seaborn as sns\n",
    "from sklearn.model_selection import train_test_split\n",
    "from sklearn.linear_model import LinearRegression\n",
    "from sklearn.metrics import mean_squared_error, mean_absolute_error, r2_score\n",
    "from sklearn import preprocessing"
   ]
  },
  {
   "cell_type": "code",
   "execution_count": 2,
   "metadata": {},
   "outputs": [],
   "source": [
    "next_station_dict = { \n",
    "    'Xavier Hall': 'Fine Arts Annex',\n",
    "    'Fine Arts Annex': 'Loyola House of Studies',\n",
    "    'Loyola House of Studies': 'Grade School',\n",
    "    'Grade School': 'Gate 2.5',\n",
    "    'Gate 2.5': 'Leong Hall',\n",
    "    'Leong Hall': 'Xavier Hall'\n",
    "}"
   ]
  },
  {
   "cell_type": "code",
   "execution_count": 15,
   "metadata": {},
   "outputs": [
    {
     "data": {
      "text/plain": [
       "Day                                         float64\n",
       "Encoded Day                                 float64\n",
       "Time                                        float64\n",
       "Hour_of_Day                                 float64\n",
       "IsEJeep1                                    float64\n",
       "IsEJeep2                                    float64\n",
       "Altitude                                    float64\n",
       "Humidity                                    float64\n",
       "Temperature                                 float64\n",
       "Latitude                                    float64\n",
       "Longitude                                   float64\n",
       "Lat Diff                                    float64\n",
       "Long Diff                                   float64\n",
       "Distance                                    float64\n",
       "Cum Distance                                float64\n",
       "Abs Distance                                float64\n",
       "Percent Distance                            float64\n",
       "Encoded Station                             float64\n",
       "IsStation                                   float64\n",
       "IsCharging                                  float64\n",
       "Encoded Prev Station                        float64\n",
       "Prev Station Lat                            float64\n",
       "Prev Station Long                           float64\n",
       "Prev Abs Distance                           float64\n",
       "Prev Cum Distance                           float64\n",
       "Previous Time to Xavier Hall                float64\n",
       "Previous Time to Fine Arts Annex            float64\n",
       "Previous Time to Loyola House of Studies    float64\n",
       "Previous Time to Grade School               float64\n",
       "Previous Time to Gate 2.5                   float64\n",
       "Previous Time to Leong Hall                 float64\n",
       "Encoded Next Station                        float64\n",
       "Next Station Lat                            float64\n",
       "Next Station Long                           float64\n",
       "Next Time to Xavier Hall                    float64\n",
       "Next Time to Fine Arts Annex                float64\n",
       "Next Time to Loyola House of Studies        float64\n",
       "Next Time to Grade School                   float64\n",
       "Next Time to Gate 2.5                       float64\n",
       "Next Time to Leong Hall                     float64\n",
       "dtype: object"
      ]
     },
     "execution_count": 15,
     "metadata": {},
     "output_type": "execute_result"
    }
   ],
   "source": [
    "df = pd.read_csv('Complete_Out.csv')\n",
    "df = df.drop(columns=['Unnamed: 0', 'Datetime'])\n",
    "\n",
    "df.dtypes"
   ]
  },
  {
   "cell_type": "code",
   "execution_count": 16,
   "metadata": {},
   "outputs": [
    {
     "data": {
      "text/plain": [
       "[[0.99994468578642, 0.9992878072355867]]"
      ]
     },
     "execution_count": 16,
     "metadata": {},
     "output_type": "execute_result"
    }
   ],
   "source": [
    "frame=1\n",
    "[[df['Longitude'][frame], df['Latitude'][frame]]]"
   ]
  },
  {
   "cell_type": "code",
   "execution_count": 17,
   "metadata": {},
   "outputs": [
    {
     "name": "stderr",
     "output_type": "stream",
     "text": [
      "/var/folders/5l/rqbcwgpj3rn89b6_cfpmypf80000gn/T/ipykernel_11789/2691547559.py:4: FutureWarning: The frame.append method is deprecated and will be removed from pandas in a future version. Use pandas.concat instead.\n",
      "  myDf = myDf.append({'Longitude': np.random.randint(0, 10), 'Latitude': np.random.randint(0, 10)}, ignore_index=True)\n",
      "/var/folders/5l/rqbcwgpj3rn89b6_cfpmypf80000gn/T/ipykernel_11789/2691547559.py:4: FutureWarning: The frame.append method is deprecated and will be removed from pandas in a future version. Use pandas.concat instead.\n",
      "  myDf = myDf.append({'Longitude': np.random.randint(0, 10), 'Latitude': np.random.randint(0, 10)}, ignore_index=True)\n",
      "/var/folders/5l/rqbcwgpj3rn89b6_cfpmypf80000gn/T/ipykernel_11789/2691547559.py:4: FutureWarning: The frame.append method is deprecated and will be removed from pandas in a future version. Use pandas.concat instead.\n",
      "  myDf = myDf.append({'Longitude': np.random.randint(0, 10), 'Latitude': np.random.randint(0, 10)}, ignore_index=True)\n",
      "/var/folders/5l/rqbcwgpj3rn89b6_cfpmypf80000gn/T/ipykernel_11789/2691547559.py:4: FutureWarning: The frame.append method is deprecated and will be removed from pandas in a future version. Use pandas.concat instead.\n",
      "  myDf = myDf.append({'Longitude': np.random.randint(0, 10), 'Latitude': np.random.randint(0, 10)}, ignore_index=True)\n",
      "/var/folders/5l/rqbcwgpj3rn89b6_cfpmypf80000gn/T/ipykernel_11789/2691547559.py:4: FutureWarning: The frame.append method is deprecated and will be removed from pandas in a future version. Use pandas.concat instead.\n",
      "  myDf = myDf.append({'Longitude': np.random.randint(0, 10), 'Latitude': np.random.randint(0, 10)}, ignore_index=True)\n",
      "/var/folders/5l/rqbcwgpj3rn89b6_cfpmypf80000gn/T/ipykernel_11789/2691547559.py:4: FutureWarning: The frame.append method is deprecated and will be removed from pandas in a future version. Use pandas.concat instead.\n",
      "  myDf = myDf.append({'Longitude': np.random.randint(0, 10), 'Latitude': np.random.randint(0, 10)}, ignore_index=True)\n",
      "/var/folders/5l/rqbcwgpj3rn89b6_cfpmypf80000gn/T/ipykernel_11789/2691547559.py:4: FutureWarning: The frame.append method is deprecated and will be removed from pandas in a future version. Use pandas.concat instead.\n",
      "  myDf = myDf.append({'Longitude': np.random.randint(0, 10), 'Latitude': np.random.randint(0, 10)}, ignore_index=True)\n",
      "/var/folders/5l/rqbcwgpj3rn89b6_cfpmypf80000gn/T/ipykernel_11789/2691547559.py:4: FutureWarning: The frame.append method is deprecated and will be removed from pandas in a future version. Use pandas.concat instead.\n",
      "  myDf = myDf.append({'Longitude': np.random.randint(0, 10), 'Latitude': np.random.randint(0, 10)}, ignore_index=True)\n",
      "/var/folders/5l/rqbcwgpj3rn89b6_cfpmypf80000gn/T/ipykernel_11789/2691547559.py:4: FutureWarning: The frame.append method is deprecated and will be removed from pandas in a future version. Use pandas.concat instead.\n",
      "  myDf = myDf.append({'Longitude': np.random.randint(0, 10), 'Latitude': np.random.randint(0, 10)}, ignore_index=True)\n",
      "/var/folders/5l/rqbcwgpj3rn89b6_cfpmypf80000gn/T/ipykernel_11789/2691547559.py:4: FutureWarning: The frame.append method is deprecated and will be removed from pandas in a future version. Use pandas.concat instead.\n",
      "  myDf = myDf.append({'Longitude': np.random.randint(0, 10), 'Latitude': np.random.randint(0, 10)}, ignore_index=True)\n",
      "/var/folders/5l/rqbcwgpj3rn89b6_cfpmypf80000gn/T/ipykernel_11789/2691547559.py:4: FutureWarning: The frame.append method is deprecated and will be removed from pandas in a future version. Use pandas.concat instead.\n",
      "  myDf = myDf.append({'Longitude': np.random.randint(0, 10), 'Latitude': np.random.randint(0, 10)}, ignore_index=True)\n",
      "/var/folders/5l/rqbcwgpj3rn89b6_cfpmypf80000gn/T/ipykernel_11789/2691547559.py:4: FutureWarning: The frame.append method is deprecated and will be removed from pandas in a future version. Use pandas.concat instead.\n",
      "  myDf = myDf.append({'Longitude': np.random.randint(0, 10), 'Latitude': np.random.randint(0, 10)}, ignore_index=True)\n",
      "/var/folders/5l/rqbcwgpj3rn89b6_cfpmypf80000gn/T/ipykernel_11789/2691547559.py:4: FutureWarning: The frame.append method is deprecated and will be removed from pandas in a future version. Use pandas.concat instead.\n",
      "  myDf = myDf.append({'Longitude': np.random.randint(0, 10), 'Latitude': np.random.randint(0, 10)}, ignore_index=True)\n",
      "/var/folders/5l/rqbcwgpj3rn89b6_cfpmypf80000gn/T/ipykernel_11789/2691547559.py:4: FutureWarning: The frame.append method is deprecated and will be removed from pandas in a future version. Use pandas.concat instead.\n",
      "  myDf = myDf.append({'Longitude': np.random.randint(0, 10), 'Latitude': np.random.randint(0, 10)}, ignore_index=True)\n",
      "/var/folders/5l/rqbcwgpj3rn89b6_cfpmypf80000gn/T/ipykernel_11789/2691547559.py:4: FutureWarning: The frame.append method is deprecated and will be removed from pandas in a future version. Use pandas.concat instead.\n",
      "  myDf = myDf.append({'Longitude': np.random.randint(0, 10), 'Latitude': np.random.randint(0, 10)}, ignore_index=True)\n",
      "/var/folders/5l/rqbcwgpj3rn89b6_cfpmypf80000gn/T/ipykernel_11789/2691547559.py:4: FutureWarning: The frame.append method is deprecated and will be removed from pandas in a future version. Use pandas.concat instead.\n",
      "  myDf = myDf.append({'Longitude': np.random.randint(0, 10), 'Latitude': np.random.randint(0, 10)}, ignore_index=True)\n",
      "/var/folders/5l/rqbcwgpj3rn89b6_cfpmypf80000gn/T/ipykernel_11789/2691547559.py:4: FutureWarning: The frame.append method is deprecated and will be removed from pandas in a future version. Use pandas.concat instead.\n",
      "  myDf = myDf.append({'Longitude': np.random.randint(0, 10), 'Latitude': np.random.randint(0, 10)}, ignore_index=True)\n",
      "/var/folders/5l/rqbcwgpj3rn89b6_cfpmypf80000gn/T/ipykernel_11789/2691547559.py:4: FutureWarning: The frame.append method is deprecated and will be removed from pandas in a future version. Use pandas.concat instead.\n",
      "  myDf = myDf.append({'Longitude': np.random.randint(0, 10), 'Latitude': np.random.randint(0, 10)}, ignore_index=True)\n",
      "/var/folders/5l/rqbcwgpj3rn89b6_cfpmypf80000gn/T/ipykernel_11789/2691547559.py:4: FutureWarning: The frame.append method is deprecated and will be removed from pandas in a future version. Use pandas.concat instead.\n",
      "  myDf = myDf.append({'Longitude': np.random.randint(0, 10), 'Latitude': np.random.randint(0, 10)}, ignore_index=True)\n",
      "/var/folders/5l/rqbcwgpj3rn89b6_cfpmypf80000gn/T/ipykernel_11789/2691547559.py:4: FutureWarning: The frame.append method is deprecated and will be removed from pandas in a future version. Use pandas.concat instead.\n",
      "  myDf = myDf.append({'Longitude': np.random.randint(0, 10), 'Latitude': np.random.randint(0, 10)}, ignore_index=True)\n"
     ]
    },
    {
     "data": {
      "text/html": [
       "<div>\n",
       "<style scoped>\n",
       "    .dataframe tbody tr th:only-of-type {\n",
       "        vertical-align: middle;\n",
       "    }\n",
       "\n",
       "    .dataframe tbody tr th {\n",
       "        vertical-align: top;\n",
       "    }\n",
       "\n",
       "    .dataframe thead th {\n",
       "        text-align: right;\n",
       "    }\n",
       "</style>\n",
       "<table border=\"1\" class=\"dataframe\">\n",
       "  <thead>\n",
       "    <tr style=\"text-align: right;\">\n",
       "      <th></th>\n",
       "      <th>Longitude</th>\n",
       "      <th>Latitude</th>\n",
       "    </tr>\n",
       "  </thead>\n",
       "  <tbody>\n",
       "    <tr>\n",
       "      <th>0</th>\n",
       "      <td>5</td>\n",
       "      <td>9</td>\n",
       "    </tr>\n",
       "    <tr>\n",
       "      <th>1</th>\n",
       "      <td>3</td>\n",
       "      <td>0</td>\n",
       "    </tr>\n",
       "    <tr>\n",
       "      <th>2</th>\n",
       "      <td>3</td>\n",
       "      <td>7</td>\n",
       "    </tr>\n",
       "    <tr>\n",
       "      <th>3</th>\n",
       "      <td>7</td>\n",
       "      <td>2</td>\n",
       "    </tr>\n",
       "    <tr>\n",
       "      <th>4</th>\n",
       "      <td>9</td>\n",
       "      <td>1</td>\n",
       "    </tr>\n",
       "    <tr>\n",
       "      <th>5</th>\n",
       "      <td>1</td>\n",
       "      <td>2</td>\n",
       "    </tr>\n",
       "    <tr>\n",
       "      <th>6</th>\n",
       "      <td>2</td>\n",
       "      <td>6</td>\n",
       "    </tr>\n",
       "    <tr>\n",
       "      <th>7</th>\n",
       "      <td>5</td>\n",
       "      <td>9</td>\n",
       "    </tr>\n",
       "    <tr>\n",
       "      <th>8</th>\n",
       "      <td>1</td>\n",
       "      <td>8</td>\n",
       "    </tr>\n",
       "    <tr>\n",
       "      <th>9</th>\n",
       "      <td>1</td>\n",
       "      <td>7</td>\n",
       "    </tr>\n",
       "    <tr>\n",
       "      <th>10</th>\n",
       "      <td>9</td>\n",
       "      <td>0</td>\n",
       "    </tr>\n",
       "    <tr>\n",
       "      <th>11</th>\n",
       "      <td>6</td>\n",
       "      <td>5</td>\n",
       "    </tr>\n",
       "    <tr>\n",
       "      <th>12</th>\n",
       "      <td>8</td>\n",
       "      <td>5</td>\n",
       "    </tr>\n",
       "    <tr>\n",
       "      <th>13</th>\n",
       "      <td>6</td>\n",
       "      <td>4</td>\n",
       "    </tr>\n",
       "    <tr>\n",
       "      <th>14</th>\n",
       "      <td>4</td>\n",
       "      <td>8</td>\n",
       "    </tr>\n",
       "    <tr>\n",
       "      <th>15</th>\n",
       "      <td>5</td>\n",
       "      <td>6</td>\n",
       "    </tr>\n",
       "    <tr>\n",
       "      <th>16</th>\n",
       "      <td>2</td>\n",
       "      <td>9</td>\n",
       "    </tr>\n",
       "    <tr>\n",
       "      <th>17</th>\n",
       "      <td>0</td>\n",
       "      <td>9</td>\n",
       "    </tr>\n",
       "    <tr>\n",
       "      <th>18</th>\n",
       "      <td>8</td>\n",
       "      <td>0</td>\n",
       "    </tr>\n",
       "    <tr>\n",
       "      <th>19</th>\n",
       "      <td>9</td>\n",
       "      <td>6</td>\n",
       "    </tr>\n",
       "  </tbody>\n",
       "</table>\n",
       "</div>"
      ],
      "text/plain": [
       "   Longitude Latitude\n",
       "0          5        9\n",
       "1          3        0\n",
       "2          3        7\n",
       "3          7        2\n",
       "4          9        1\n",
       "5          1        2\n",
       "6          2        6\n",
       "7          5        9\n",
       "8          1        8\n",
       "9          1        7\n",
       "10         9        0\n",
       "11         6        5\n",
       "12         8        5\n",
       "13         6        4\n",
       "14         4        8\n",
       "15         5        6\n",
       "16         2        9\n",
       "17         0        9\n",
       "18         8        0\n",
       "19         9        6"
      ]
     },
     "execution_count": 17,
     "metadata": {},
     "output_type": "execute_result"
    }
   ],
   "source": [
    "myDf = pd.DataFrame(columns=['Longitude', 'Latitude'])\n",
    "# make random data to fill myDF columns until 20 rows\n",
    "for i in range(20):\n",
    "    myDf = myDf.append({'Longitude': np.random.randint(0, 10), 'Latitude': np.random.randint(0, 10)}, ignore_index=True)\n",
    "    \n",
    "myDf\n"
   ]
  },
  {
   "cell_type": "code",
   "execution_count": null,
   "metadata": {},
   "outputs": [],
   "source": []
  },
  {
   "cell_type": "code",
   "execution_count": 18,
   "metadata": {},
   "outputs": [
    {
     "name": "stdout",
     "output_type": "stream",
     "text": [
      "Index(['Day', 'Encoded Day', 'Time', 'Hour_of_Day', 'IsEJeep1', 'IsEJeep2',\n",
      "       'Altitude', 'Humidity', 'Temperature', 'Latitude', 'Longitude',\n",
      "       'Lat Diff', 'Long Diff', 'Distance', 'Cum Distance', 'Abs Distance',\n",
      "       'Percent Distance', 'Encoded Station', 'IsStation', 'IsCharging',\n",
      "       'Encoded Prev Station', 'Prev Station Lat', 'Prev Station Long',\n",
      "       'Prev Abs Distance', 'Prev Cum Distance',\n",
      "       'Previous Time to Xavier Hall', 'Previous Time to Fine Arts Annex',\n",
      "       'Previous Time to Loyola House of Studies',\n",
      "       'Previous Time to Grade School', 'Previous Time to Gate 2.5',\n",
      "       'Previous Time to Leong Hall', 'Encoded Next Station',\n",
      "       'Next Station Lat', 'Next Station Long', 'Next Time to Xavier Hall',\n",
      "       'Next Time to Fine Arts Annex', 'Next Time to Loyola House of Studies',\n",
      "       'Next Time to Grade School', 'Next Time to Gate 2.5',\n",
      "       'Next Time to Leong Hall'],\n",
      "      dtype='object')\n"
     ]
    }
   ],
   "source": [
    "print(df.columns)"
   ]
  },
  {
   "cell_type": "code",
   "execution_count": 19,
   "metadata": {},
   "outputs": [
    {
     "data": {
      "text/plain": [
       "pandas.core.series.Series"
      ]
     },
     "execution_count": 19,
     "metadata": {},
     "output_type": "execute_result"
    }
   ],
   "source": [
    "type(df['Latitude'][10004:10005])"
   ]
  },
  {
   "cell_type": "code",
   "execution_count": 20,
   "metadata": {},
   "outputs": [
    {
     "data": {
      "text/plain": [
       "numpy.float64"
      ]
     },
     "execution_count": 20,
     "metadata": {},
     "output_type": "execute_result"
    }
   ],
   "source": [
    "type(df['Latitude'][10005])"
   ]
  },
  {
   "cell_type": "code",
   "execution_count": 34,
   "metadata": {
    "scrolled": true,
    "tags": []
   },
   "outputs": [
    {
     "data": {
      "application/javascript": "/* Put everything inside the global mpl namespace */\n/* global mpl */\nwindow.mpl = {};\n\nmpl.get_websocket_type = function () {\n    if (typeof WebSocket !== 'undefined') {\n        return WebSocket;\n    } else if (typeof MozWebSocket !== 'undefined') {\n        return MozWebSocket;\n    } else {\n        alert(\n            'Your browser does not have WebSocket support. ' +\n                'Please try Chrome, Safari or Firefox ≥ 6. ' +\n                'Firefox 4 and 5 are also supported but you ' +\n                'have to enable WebSockets in about:config.'\n        );\n    }\n};\n\nmpl.figure = function (figure_id, websocket, ondownload, parent_element) {\n    this.id = figure_id;\n\n    this.ws = websocket;\n\n    this.supports_binary = this.ws.binaryType !== undefined;\n\n    if (!this.supports_binary) {\n        var warnings = document.getElementById('mpl-warnings');\n        if (warnings) {\n            warnings.style.display = 'block';\n            warnings.textContent =\n                'This browser does not support binary websocket messages. ' +\n                'Performance may be slow.';\n        }\n    }\n\n    this.imageObj = new Image();\n\n    this.context = undefined;\n    this.message = undefined;\n    this.canvas = undefined;\n    this.rubberband_canvas = undefined;\n    this.rubberband_context = undefined;\n    this.format_dropdown = undefined;\n\n    this.image_mode = 'full';\n\n    this.root = document.createElement('div');\n    this.root.setAttribute('style', 'display: inline-block');\n    this._root_extra_style(this.root);\n\n    parent_element.appendChild(this.root);\n\n    this._init_header(this);\n    this._init_canvas(this);\n    this._init_toolbar(this);\n\n    var fig = this;\n\n    this.waiting = false;\n\n    this.ws.onopen = function () {\n        fig.send_message('supports_binary', { value: fig.supports_binary });\n        fig.send_message('send_image_mode', {});\n        if (fig.ratio !== 1) {\n            fig.send_message('set_device_pixel_ratio', {\n                device_pixel_ratio: fig.ratio,\n            });\n        }\n        fig.send_message('refresh', {});\n    };\n\n    this.imageObj.onload = function () {\n        if (fig.image_mode === 'full') {\n            // Full images could contain transparency (where diff images\n            // almost always do), so we need to clear the canvas so that\n            // there is no ghosting.\n            fig.context.clearRect(0, 0, fig.canvas.width, fig.canvas.height);\n        }\n        fig.context.drawImage(fig.imageObj, 0, 0);\n    };\n\n    this.imageObj.onunload = function () {\n        fig.ws.close();\n    };\n\n    this.ws.onmessage = this._make_on_message_function(this);\n\n    this.ondownload = ondownload;\n};\n\nmpl.figure.prototype._init_header = function () {\n    var titlebar = document.createElement('div');\n    titlebar.classList =\n        'ui-dialog-titlebar ui-widget-header ui-corner-all ui-helper-clearfix';\n    var titletext = document.createElement('div');\n    titletext.classList = 'ui-dialog-title';\n    titletext.setAttribute(\n        'style',\n        'width: 100%; text-align: center; padding: 3px;'\n    );\n    titlebar.appendChild(titletext);\n    this.root.appendChild(titlebar);\n    this.header = titletext;\n};\n\nmpl.figure.prototype._canvas_extra_style = function (_canvas_div) {};\n\nmpl.figure.prototype._root_extra_style = function (_canvas_div) {};\n\nmpl.figure.prototype._init_canvas = function () {\n    var fig = this;\n\n    var canvas_div = (this.canvas_div = document.createElement('div'));\n    canvas_div.setAttribute('tabindex', '0');\n    canvas_div.setAttribute(\n        'style',\n        'border: 1px solid #ddd;' +\n            'box-sizing: content-box;' +\n            'clear: both;' +\n            'min-height: 1px;' +\n            'min-width: 1px;' +\n            'outline: 0;' +\n            'overflow: hidden;' +\n            'position: relative;' +\n            'resize: both;' +\n            'z-index: 2;'\n    );\n\n    function on_keyboard_event_closure(name) {\n        return function (event) {\n            return fig.key_event(event, name);\n        };\n    }\n\n    canvas_div.addEventListener(\n        'keydown',\n        on_keyboard_event_closure('key_press')\n    );\n    canvas_div.addEventListener(\n        'keyup',\n        on_keyboard_event_closure('key_release')\n    );\n\n    this._canvas_extra_style(canvas_div);\n    this.root.appendChild(canvas_div);\n\n    var canvas = (this.canvas = document.createElement('canvas'));\n    canvas.classList.add('mpl-canvas');\n    canvas.setAttribute(\n        'style',\n        'box-sizing: content-box;' +\n            'pointer-events: none;' +\n            'position: relative;' +\n            'z-index: 0;'\n    );\n\n    this.context = canvas.getContext('2d');\n\n    var backingStore =\n        this.context.backingStorePixelRatio ||\n        this.context.webkitBackingStorePixelRatio ||\n        this.context.mozBackingStorePixelRatio ||\n        this.context.msBackingStorePixelRatio ||\n        this.context.oBackingStorePixelRatio ||\n        this.context.backingStorePixelRatio ||\n        1;\n\n    this.ratio = (window.devicePixelRatio || 1) / backingStore;\n\n    var rubberband_canvas = (this.rubberband_canvas = document.createElement(\n        'canvas'\n    ));\n    rubberband_canvas.setAttribute(\n        'style',\n        'box-sizing: content-box;' +\n            'left: 0;' +\n            'pointer-events: none;' +\n            'position: absolute;' +\n            'top: 0;' +\n            'z-index: 1;'\n    );\n\n    // Apply a ponyfill if ResizeObserver is not implemented by browser.\n    if (this.ResizeObserver === undefined) {\n        if (window.ResizeObserver !== undefined) {\n            this.ResizeObserver = window.ResizeObserver;\n        } else {\n            var obs = _JSXTOOLS_RESIZE_OBSERVER({});\n            this.ResizeObserver = obs.ResizeObserver;\n        }\n    }\n\n    this.resizeObserverInstance = new this.ResizeObserver(function (entries) {\n        var nentries = entries.length;\n        for (var i = 0; i < nentries; i++) {\n            var entry = entries[i];\n            var width, height;\n            if (entry.contentBoxSize) {\n                if (entry.contentBoxSize instanceof Array) {\n                    // Chrome 84 implements new version of spec.\n                    width = entry.contentBoxSize[0].inlineSize;\n                    height = entry.contentBoxSize[0].blockSize;\n                } else {\n                    // Firefox implements old version of spec.\n                    width = entry.contentBoxSize.inlineSize;\n                    height = entry.contentBoxSize.blockSize;\n                }\n            } else {\n                // Chrome <84 implements even older version of spec.\n                width = entry.contentRect.width;\n                height = entry.contentRect.height;\n            }\n\n            // Keep the size of the canvas and rubber band canvas in sync with\n            // the canvas container.\n            if (entry.devicePixelContentBoxSize) {\n                // Chrome 84 implements new version of spec.\n                canvas.setAttribute(\n                    'width',\n                    entry.devicePixelContentBoxSize[0].inlineSize\n                );\n                canvas.setAttribute(\n                    'height',\n                    entry.devicePixelContentBoxSize[0].blockSize\n                );\n            } else {\n                canvas.setAttribute('width', width * fig.ratio);\n                canvas.setAttribute('height', height * fig.ratio);\n            }\n            /* This rescales the canvas back to display pixels, so that it\n             * appears correct on HiDPI screens. */\n            canvas.style.width = width + 'px';\n            canvas.style.height = height + 'px';\n\n            rubberband_canvas.setAttribute('width', width);\n            rubberband_canvas.setAttribute('height', height);\n\n            // And update the size in Python. We ignore the initial 0/0 size\n            // that occurs as the element is placed into the DOM, which should\n            // otherwise not happen due to the minimum size styling.\n            if (fig.ws.readyState == 1 && width != 0 && height != 0) {\n                fig.request_resize(width, height);\n            }\n        }\n    });\n    this.resizeObserverInstance.observe(canvas_div);\n\n    function on_mouse_event_closure(name) {\n        /* User Agent sniffing is bad, but WebKit is busted:\n         * https://bugs.webkit.org/show_bug.cgi?id=144526\n         * https://bugs.webkit.org/show_bug.cgi?id=181818\n         * The worst that happens here is that they get an extra browser\n         * selection when dragging, if this check fails to catch them.\n         */\n        var UA = navigator.userAgent;\n        var isWebKit = /AppleWebKit/.test(UA) && !/Chrome/.test(UA);\n        if(isWebKit) {\n            return function (event) {\n                /* This prevents the web browser from automatically changing to\n                 * the text insertion cursor when the button is pressed. We\n                 * want to control all of the cursor setting manually through\n                 * the 'cursor' event from matplotlib */\n                event.preventDefault()\n                return fig.mouse_event(event, name);\n            };\n        } else {\n            return function (event) {\n                return fig.mouse_event(event, name);\n            };\n        }\n    }\n\n    canvas_div.addEventListener(\n        'mousedown',\n        on_mouse_event_closure('button_press')\n    );\n    canvas_div.addEventListener(\n        'mouseup',\n        on_mouse_event_closure('button_release')\n    );\n    canvas_div.addEventListener(\n        'dblclick',\n        on_mouse_event_closure('dblclick')\n    );\n    // Throttle sequential mouse events to 1 every 20ms.\n    canvas_div.addEventListener(\n        'mousemove',\n        on_mouse_event_closure('motion_notify')\n    );\n\n    canvas_div.addEventListener(\n        'mouseenter',\n        on_mouse_event_closure('figure_enter')\n    );\n    canvas_div.addEventListener(\n        'mouseleave',\n        on_mouse_event_closure('figure_leave')\n    );\n\n    canvas_div.addEventListener('wheel', function (event) {\n        if (event.deltaY < 0) {\n            event.step = 1;\n        } else {\n            event.step = -1;\n        }\n        on_mouse_event_closure('scroll')(event);\n    });\n\n    canvas_div.appendChild(canvas);\n    canvas_div.appendChild(rubberband_canvas);\n\n    this.rubberband_context = rubberband_canvas.getContext('2d');\n    this.rubberband_context.strokeStyle = '#000000';\n\n    this._resize_canvas = function (width, height, forward) {\n        if (forward) {\n            canvas_div.style.width = width + 'px';\n            canvas_div.style.height = height + 'px';\n        }\n    };\n\n    // Disable right mouse context menu.\n    canvas_div.addEventListener('contextmenu', function (_e) {\n        event.preventDefault();\n        return false;\n    });\n\n    function set_focus() {\n        canvas.focus();\n        canvas_div.focus();\n    }\n\n    window.setTimeout(set_focus, 100);\n};\n\nmpl.figure.prototype._init_toolbar = function () {\n    var fig = this;\n\n    var toolbar = document.createElement('div');\n    toolbar.classList = 'mpl-toolbar';\n    this.root.appendChild(toolbar);\n\n    function on_click_closure(name) {\n        return function (_event) {\n            return fig.toolbar_button_onclick(name);\n        };\n    }\n\n    function on_mouseover_closure(tooltip) {\n        return function (event) {\n            if (!event.currentTarget.disabled) {\n                return fig.toolbar_button_onmouseover(tooltip);\n            }\n        };\n    }\n\n    fig.buttons = {};\n    var buttonGroup = document.createElement('div');\n    buttonGroup.classList = 'mpl-button-group';\n    for (var toolbar_ind in mpl.toolbar_items) {\n        var name = mpl.toolbar_items[toolbar_ind][0];\n        var tooltip = mpl.toolbar_items[toolbar_ind][1];\n        var image = mpl.toolbar_items[toolbar_ind][2];\n        var method_name = mpl.toolbar_items[toolbar_ind][3];\n\n        if (!name) {\n            /* Instead of a spacer, we start a new button group. */\n            if (buttonGroup.hasChildNodes()) {\n                toolbar.appendChild(buttonGroup);\n            }\n            buttonGroup = document.createElement('div');\n            buttonGroup.classList = 'mpl-button-group';\n            continue;\n        }\n\n        var button = (fig.buttons[name] = document.createElement('button'));\n        button.classList = 'mpl-widget';\n        button.setAttribute('role', 'button');\n        button.setAttribute('aria-disabled', 'false');\n        button.addEventListener('click', on_click_closure(method_name));\n        button.addEventListener('mouseover', on_mouseover_closure(tooltip));\n\n        var icon_img = document.createElement('img');\n        icon_img.src = '_images/' + image + '.png';\n        icon_img.srcset = '_images/' + image + '_large.png 2x';\n        icon_img.alt = tooltip;\n        button.appendChild(icon_img);\n\n        buttonGroup.appendChild(button);\n    }\n\n    if (buttonGroup.hasChildNodes()) {\n        toolbar.appendChild(buttonGroup);\n    }\n\n    var fmt_picker = document.createElement('select');\n    fmt_picker.classList = 'mpl-widget';\n    toolbar.appendChild(fmt_picker);\n    this.format_dropdown = fmt_picker;\n\n    for (var ind in mpl.extensions) {\n        var fmt = mpl.extensions[ind];\n        var option = document.createElement('option');\n        option.selected = fmt === mpl.default_extension;\n        option.innerHTML = fmt;\n        fmt_picker.appendChild(option);\n    }\n\n    var status_bar = document.createElement('span');\n    status_bar.classList = 'mpl-message';\n    toolbar.appendChild(status_bar);\n    this.message = status_bar;\n};\n\nmpl.figure.prototype.request_resize = function (x_pixels, y_pixels) {\n    // Request matplotlib to resize the figure. Matplotlib will then trigger a resize in the client,\n    // which will in turn request a refresh of the image.\n    this.send_message('resize', { width: x_pixels, height: y_pixels });\n};\n\nmpl.figure.prototype.send_message = function (type, properties) {\n    properties['type'] = type;\n    properties['figure_id'] = this.id;\n    this.ws.send(JSON.stringify(properties));\n};\n\nmpl.figure.prototype.send_draw_message = function () {\n    if (!this.waiting) {\n        this.waiting = true;\n        this.ws.send(JSON.stringify({ type: 'draw', figure_id: this.id }));\n    }\n};\n\nmpl.figure.prototype.handle_save = function (fig, _msg) {\n    var format_dropdown = fig.format_dropdown;\n    var format = format_dropdown.options[format_dropdown.selectedIndex].value;\n    fig.ondownload(fig, format);\n};\n\nmpl.figure.prototype.handle_resize = function (fig, msg) {\n    var size = msg['size'];\n    if (size[0] !== fig.canvas.width || size[1] !== fig.canvas.height) {\n        fig._resize_canvas(size[0], size[1], msg['forward']);\n        fig.send_message('refresh', {});\n    }\n};\n\nmpl.figure.prototype.handle_rubberband = function (fig, msg) {\n    var x0 = msg['x0'] / fig.ratio;\n    var y0 = (fig.canvas.height - msg['y0']) / fig.ratio;\n    var x1 = msg['x1'] / fig.ratio;\n    var y1 = (fig.canvas.height - msg['y1']) / fig.ratio;\n    x0 = Math.floor(x0) + 0.5;\n    y0 = Math.floor(y0) + 0.5;\n    x1 = Math.floor(x1) + 0.5;\n    y1 = Math.floor(y1) + 0.5;\n    var min_x = Math.min(x0, x1);\n    var min_y = Math.min(y0, y1);\n    var width = Math.abs(x1 - x0);\n    var height = Math.abs(y1 - y0);\n\n    fig.rubberband_context.clearRect(\n        0,\n        0,\n        fig.canvas.width / fig.ratio,\n        fig.canvas.height / fig.ratio\n    );\n\n    fig.rubberband_context.strokeRect(min_x, min_y, width, height);\n};\n\nmpl.figure.prototype.handle_figure_label = function (fig, msg) {\n    // Updates the figure title.\n    fig.header.textContent = msg['label'];\n};\n\nmpl.figure.prototype.handle_cursor = function (fig, msg) {\n    fig.canvas_div.style.cursor = msg['cursor'];\n};\n\nmpl.figure.prototype.handle_message = function (fig, msg) {\n    fig.message.textContent = msg['message'];\n};\n\nmpl.figure.prototype.handle_draw = function (fig, _msg) {\n    // Request the server to send over a new figure.\n    fig.send_draw_message();\n};\n\nmpl.figure.prototype.handle_image_mode = function (fig, msg) {\n    fig.image_mode = msg['mode'];\n};\n\nmpl.figure.prototype.handle_history_buttons = function (fig, msg) {\n    for (var key in msg) {\n        if (!(key in fig.buttons)) {\n            continue;\n        }\n        fig.buttons[key].disabled = !msg[key];\n        fig.buttons[key].setAttribute('aria-disabled', !msg[key]);\n    }\n};\n\nmpl.figure.prototype.handle_navigate_mode = function (fig, msg) {\n    if (msg['mode'] === 'PAN') {\n        fig.buttons['Pan'].classList.add('active');\n        fig.buttons['Zoom'].classList.remove('active');\n    } else if (msg['mode'] === 'ZOOM') {\n        fig.buttons['Pan'].classList.remove('active');\n        fig.buttons['Zoom'].classList.add('active');\n    } else {\n        fig.buttons['Pan'].classList.remove('active');\n        fig.buttons['Zoom'].classList.remove('active');\n    }\n};\n\nmpl.figure.prototype.updated_canvas_event = function () {\n    // Called whenever the canvas gets updated.\n    this.send_message('ack', {});\n};\n\n// A function to construct a web socket function for onmessage handling.\n// Called in the figure constructor.\nmpl.figure.prototype._make_on_message_function = function (fig) {\n    return function socket_on_message(evt) {\n        if (evt.data instanceof Blob) {\n            var img = evt.data;\n            if (img.type !== 'image/png') {\n                /* FIXME: We get \"Resource interpreted as Image but\n                 * transferred with MIME type text/plain:\" errors on\n                 * Chrome.  But how to set the MIME type?  It doesn't seem\n                 * to be part of the websocket stream */\n                img.type = 'image/png';\n            }\n\n            /* Free the memory for the previous frames */\n            if (fig.imageObj.src) {\n                (window.URL || window.webkitURL).revokeObjectURL(\n                    fig.imageObj.src\n                );\n            }\n\n            fig.imageObj.src = (window.URL || window.webkitURL).createObjectURL(\n                img\n            );\n            fig.updated_canvas_event();\n            fig.waiting = false;\n            return;\n        } else if (\n            typeof evt.data === 'string' &&\n            evt.data.slice(0, 21) === 'data:image/png;base64'\n        ) {\n            fig.imageObj.src = evt.data;\n            fig.updated_canvas_event();\n            fig.waiting = false;\n            return;\n        }\n\n        var msg = JSON.parse(evt.data);\n        var msg_type = msg['type'];\n\n        // Call the  \"handle_{type}\" callback, which takes\n        // the figure and JSON message as its only arguments.\n        try {\n            var callback = fig['handle_' + msg_type];\n        } catch (e) {\n            console.log(\n                \"No handler for the '\" + msg_type + \"' message type: \",\n                msg\n            );\n            return;\n        }\n\n        if (callback) {\n            try {\n                // console.log(\"Handling '\" + msg_type + \"' message: \", msg);\n                callback(fig, msg);\n            } catch (e) {\n                console.log(\n                    \"Exception inside the 'handler_\" + msg_type + \"' callback:\",\n                    e,\n                    e.stack,\n                    msg\n                );\n            }\n        }\n    };\n};\n\nfunction getModifiers(event) {\n    var mods = [];\n    if (event.ctrlKey) {\n        mods.push('ctrl');\n    }\n    if (event.altKey) {\n        mods.push('alt');\n    }\n    if (event.shiftKey) {\n        mods.push('shift');\n    }\n    if (event.metaKey) {\n        mods.push('meta');\n    }\n    return mods;\n}\n\n/*\n * return a copy of an object with only non-object keys\n * we need this to avoid circular references\n * https://stackoverflow.com/a/24161582/3208463\n */\nfunction simpleKeys(original) {\n    return Object.keys(original).reduce(function (obj, key) {\n        if (typeof original[key] !== 'object') {\n            obj[key] = original[key];\n        }\n        return obj;\n    }, {});\n}\n\nmpl.figure.prototype.mouse_event = function (event, name) {\n    if (name === 'button_press') {\n        this.canvas.focus();\n        this.canvas_div.focus();\n    }\n\n    // from https://stackoverflow.com/q/1114465\n    var boundingRect = this.canvas.getBoundingClientRect();\n    var x = (event.clientX - boundingRect.left) * this.ratio;\n    var y = (event.clientY - boundingRect.top) * this.ratio;\n\n    this.send_message(name, {\n        x: x,\n        y: y,\n        button: event.button,\n        step: event.step,\n        modifiers: getModifiers(event),\n        guiEvent: simpleKeys(event),\n    });\n\n    return false;\n};\n\nmpl.figure.prototype._key_event_extra = function (_event, _name) {\n    // Handle any extra behaviour associated with a key event\n};\n\nmpl.figure.prototype.key_event = function (event, name) {\n    // Prevent repeat events\n    if (name === 'key_press') {\n        if (event.key === this._key) {\n            return;\n        } else {\n            this._key = event.key;\n        }\n    }\n    if (name === 'key_release') {\n        this._key = null;\n    }\n\n    var value = '';\n    if (event.ctrlKey && event.key !== 'Control') {\n        value += 'ctrl+';\n    }\n    else if (event.altKey && event.key !== 'Alt') {\n        value += 'alt+';\n    }\n    else if (event.shiftKey && event.key !== 'Shift') {\n        value += 'shift+';\n    }\n\n    value += 'k' + event.key;\n\n    this._key_event_extra(event, name);\n\n    this.send_message(name, { key: value, guiEvent: simpleKeys(event) });\n    return false;\n};\n\nmpl.figure.prototype.toolbar_button_onclick = function (name) {\n    if (name === 'download') {\n        this.handle_save(this, null);\n    } else {\n        this.send_message('toolbar_button', { name: name });\n    }\n};\n\nmpl.figure.prototype.toolbar_button_onmouseover = function (tooltip) {\n    this.message.textContent = tooltip;\n};\n\n///////////////// REMAINING CONTENT GENERATED BY embed_js.py /////////////////\n// prettier-ignore\nvar _JSXTOOLS_RESIZE_OBSERVER=function(A){var t,i=new WeakMap,n=new WeakMap,a=new WeakMap,r=new WeakMap,o=new Set;function s(e){if(!(this instanceof s))throw new TypeError(\"Constructor requires 'new' operator\");i.set(this,e)}function h(){throw new TypeError(\"Function is not a constructor\")}function c(e,t,i,n){e=0 in arguments?Number(arguments[0]):0,t=1 in arguments?Number(arguments[1]):0,i=2 in arguments?Number(arguments[2]):0,n=3 in arguments?Number(arguments[3]):0,this.right=(this.x=this.left=e)+(this.width=i),this.bottom=(this.y=this.top=t)+(this.height=n),Object.freeze(this)}function d(){t=requestAnimationFrame(d);var s=new WeakMap,p=new Set;o.forEach((function(t){r.get(t).forEach((function(i){var r=t instanceof window.SVGElement,o=a.get(t),d=r?0:parseFloat(o.paddingTop),f=r?0:parseFloat(o.paddingRight),l=r?0:parseFloat(o.paddingBottom),u=r?0:parseFloat(o.paddingLeft),g=r?0:parseFloat(o.borderTopWidth),m=r?0:parseFloat(o.borderRightWidth),w=r?0:parseFloat(o.borderBottomWidth),b=u+f,F=d+l,v=(r?0:parseFloat(o.borderLeftWidth))+m,W=g+w,y=r?0:t.offsetHeight-W-t.clientHeight,E=r?0:t.offsetWidth-v-t.clientWidth,R=b+v,z=F+W,M=r?t.width:parseFloat(o.width)-R-E,O=r?t.height:parseFloat(o.height)-z-y;if(n.has(t)){var k=n.get(t);if(k[0]===M&&k[1]===O)return}n.set(t,[M,O]);var S=Object.create(h.prototype);S.target=t,S.contentRect=new c(u,d,M,O),s.has(i)||(s.set(i,[]),p.add(i)),s.get(i).push(S)}))})),p.forEach((function(e){i.get(e).call(e,s.get(e),e)}))}return s.prototype.observe=function(i){if(i instanceof window.Element){r.has(i)||(r.set(i,new Set),o.add(i),a.set(i,window.getComputedStyle(i)));var n=r.get(i);n.has(this)||n.add(this),cancelAnimationFrame(t),t=requestAnimationFrame(d)}},s.prototype.unobserve=function(i){if(i instanceof window.Element&&r.has(i)){var n=r.get(i);n.has(this)&&(n.delete(this),n.size||(r.delete(i),o.delete(i))),n.size||r.delete(i),o.size||cancelAnimationFrame(t)}},A.DOMRectReadOnly=c,A.ResizeObserver=s,A.ResizeObserverEntry=h,A}; // eslint-disable-line\nmpl.toolbar_items = [[\"Home\", \"Reset original view\", \"fa fa-home\", \"home\"], [\"Back\", \"Back to previous view\", \"fa fa-arrow-left\", \"back\"], [\"Forward\", \"Forward to next view\", \"fa fa-arrow-right\", \"forward\"], [\"\", \"\", \"\", \"\"], [\"Pan\", \"Left button pans, Right button zooms\\nx/y fixes axis, CTRL fixes aspect\", \"fa fa-arrows\", \"pan\"], [\"Zoom\", \"Zoom to rectangle\\nx/y fixes axis\", \"fa fa-square-o\", \"zoom\"], [\"\", \"\", \"\", \"\"], [\"Download\", \"Download plot\", \"fa fa-floppy-o\", \"download\"]];\n\nmpl.extensions = [\"eps\", \"jpeg\", \"pgf\", \"pdf\", \"png\", \"ps\", \"raw\", \"svg\", \"tif\", \"webp\"];\n\nmpl.default_extension = \"png\";/* global mpl */\n\nvar comm_websocket_adapter = function (comm) {\n    // Create a \"websocket\"-like object which calls the given IPython comm\n    // object with the appropriate methods. Currently this is a non binary\n    // socket, so there is still some room for performance tuning.\n    var ws = {};\n\n    ws.binaryType = comm.kernel.ws.binaryType;\n    ws.readyState = comm.kernel.ws.readyState;\n    function updateReadyState(_event) {\n        if (comm.kernel.ws) {\n            ws.readyState = comm.kernel.ws.readyState;\n        } else {\n            ws.readyState = 3; // Closed state.\n        }\n    }\n    comm.kernel.ws.addEventListener('open', updateReadyState);\n    comm.kernel.ws.addEventListener('close', updateReadyState);\n    comm.kernel.ws.addEventListener('error', updateReadyState);\n\n    ws.close = function () {\n        comm.close();\n    };\n    ws.send = function (m) {\n        //console.log('sending', m);\n        comm.send(m);\n    };\n    // Register the callback with on_msg.\n    comm.on_msg(function (msg) {\n        //console.log('receiving', msg['content']['data'], msg);\n        var data = msg['content']['data'];\n        if (data['blob'] !== undefined) {\n            data = {\n                data: new Blob(msg['buffers'], { type: data['blob'] }),\n            };\n        }\n        // Pass the mpl event to the overridden (by mpl) onmessage function.\n        ws.onmessage(data);\n    });\n    return ws;\n};\n\nmpl.mpl_figure_comm = function (comm, msg) {\n    // This is the function which gets called when the mpl process\n    // starts-up an IPython Comm through the \"matplotlib\" channel.\n\n    var id = msg.content.data.id;\n    // Get hold of the div created by the display call when the Comm\n    // socket was opened in Python.\n    var element = document.getElementById(id);\n    var ws_proxy = comm_websocket_adapter(comm);\n\n    function ondownload(figure, _format) {\n        window.open(figure.canvas.toDataURL());\n    }\n\n    var fig = new mpl.figure(id, ws_proxy, ondownload, element);\n\n    // Call onopen now - mpl needs it, as it is assuming we've passed it a real\n    // web socket which is closed, not our websocket->open comm proxy.\n    ws_proxy.onopen();\n\n    fig.parent_element = element;\n    fig.cell_info = mpl.find_output_cell(\"<div id='\" + id + \"'></div>\");\n    if (!fig.cell_info) {\n        console.error('Failed to find cell for figure', id, fig);\n        return;\n    }\n    fig.cell_info[0].output_area.element.on(\n        'cleared',\n        { fig: fig },\n        fig._remove_fig_handler\n    );\n};\n\nmpl.figure.prototype.handle_close = function (fig, msg) {\n    var width = fig.canvas.width / fig.ratio;\n    fig.cell_info[0].output_area.element.off(\n        'cleared',\n        fig._remove_fig_handler\n    );\n    fig.resizeObserverInstance.unobserve(fig.canvas_div);\n\n    // Update the output cell to use the data from the current canvas.\n    fig.push_to_output();\n    var dataURL = fig.canvas.toDataURL();\n    // Re-enable the keyboard manager in IPython - without this line, in FF,\n    // the notebook keyboard shortcuts fail.\n    IPython.keyboard_manager.enable();\n    fig.parent_element.innerHTML =\n        '<img src=\"' + dataURL + '\" width=\"' + width + '\">';\n    fig.close_ws(fig, msg);\n};\n\nmpl.figure.prototype.close_ws = function (fig, msg) {\n    fig.send_message('closing', msg);\n    // fig.ws.close()\n};\n\nmpl.figure.prototype.push_to_output = function (_remove_interactive) {\n    // Turn the data on the canvas into data in the output cell.\n    var width = this.canvas.width / this.ratio;\n    var dataURL = this.canvas.toDataURL();\n    this.cell_info[1]['text/html'] =\n        '<img src=\"' + dataURL + '\" width=\"' + width + '\">';\n};\n\nmpl.figure.prototype.updated_canvas_event = function () {\n    // Tell IPython that the notebook contents must change.\n    IPython.notebook.set_dirty(true);\n    this.send_message('ack', {});\n    var fig = this;\n    // Wait a second, then push the new image to the DOM so\n    // that it is saved nicely (might be nice to debounce this).\n    setTimeout(function () {\n        fig.push_to_output();\n    }, 1000);\n};\n\nmpl.figure.prototype._init_toolbar = function () {\n    var fig = this;\n\n    var toolbar = document.createElement('div');\n    toolbar.classList = 'btn-toolbar';\n    this.root.appendChild(toolbar);\n\n    function on_click_closure(name) {\n        return function (_event) {\n            return fig.toolbar_button_onclick(name);\n        };\n    }\n\n    function on_mouseover_closure(tooltip) {\n        return function (event) {\n            if (!event.currentTarget.disabled) {\n                return fig.toolbar_button_onmouseover(tooltip);\n            }\n        };\n    }\n\n    fig.buttons = {};\n    var buttonGroup = document.createElement('div');\n    buttonGroup.classList = 'btn-group';\n    var button;\n    for (var toolbar_ind in mpl.toolbar_items) {\n        var name = mpl.toolbar_items[toolbar_ind][0];\n        var tooltip = mpl.toolbar_items[toolbar_ind][1];\n        var image = mpl.toolbar_items[toolbar_ind][2];\n        var method_name = mpl.toolbar_items[toolbar_ind][3];\n\n        if (!name) {\n            /* Instead of a spacer, we start a new button group. */\n            if (buttonGroup.hasChildNodes()) {\n                toolbar.appendChild(buttonGroup);\n            }\n            buttonGroup = document.createElement('div');\n            buttonGroup.classList = 'btn-group';\n            continue;\n        }\n\n        button = fig.buttons[name] = document.createElement('button');\n        button.classList = 'btn btn-default';\n        button.href = '#';\n        button.title = name;\n        button.innerHTML = '<i class=\"fa ' + image + ' fa-lg\"></i>';\n        button.addEventListener('click', on_click_closure(method_name));\n        button.addEventListener('mouseover', on_mouseover_closure(tooltip));\n        buttonGroup.appendChild(button);\n    }\n\n    if (buttonGroup.hasChildNodes()) {\n        toolbar.appendChild(buttonGroup);\n    }\n\n    // Add the status bar.\n    var status_bar = document.createElement('span');\n    status_bar.classList = 'mpl-message pull-right';\n    toolbar.appendChild(status_bar);\n    this.message = status_bar;\n\n    // Add the close button to the window.\n    var buttongrp = document.createElement('div');\n    buttongrp.classList = 'btn-group inline pull-right';\n    button = document.createElement('button');\n    button.classList = 'btn btn-mini btn-primary';\n    button.href = '#';\n    button.title = 'Stop Interaction';\n    button.innerHTML = '<i class=\"fa fa-power-off icon-remove icon-large\"></i>';\n    button.addEventListener('click', function (_evt) {\n        fig.handle_close(fig, {});\n    });\n    button.addEventListener(\n        'mouseover',\n        on_mouseover_closure('Stop Interaction')\n    );\n    buttongrp.appendChild(button);\n    var titlebar = this.root.querySelector('.ui-dialog-titlebar');\n    titlebar.insertBefore(buttongrp, titlebar.firstChild);\n};\n\nmpl.figure.prototype._remove_fig_handler = function (event) {\n    var fig = event.data.fig;\n    if (event.target !== this) {\n        // Ignore bubbled events from children.\n        return;\n    }\n    fig.close_ws(fig, {});\n};\n\nmpl.figure.prototype._root_extra_style = function (el) {\n    el.style.boxSizing = 'content-box'; // override notebook setting of border-box.\n};\n\nmpl.figure.prototype._canvas_extra_style = function (el) {\n    // this is important to make the div 'focusable\n    el.setAttribute('tabindex', 0);\n    // reach out to IPython and tell the keyboard manager to turn it's self\n    // off when our div gets focus\n\n    // location in version 3\n    if (IPython.notebook.keyboard_manager) {\n        IPython.notebook.keyboard_manager.register_events(el);\n    } else {\n        // location in version 2\n        IPython.keyboard_manager.register_events(el);\n    }\n};\n\nmpl.figure.prototype._key_event_extra = function (event, _name) {\n    // Check for shift+enter\n    if (event.shiftKey && event.which === 13) {\n        this.canvas_div.blur();\n        // select the cell after this one\n        var index = IPython.notebook.find_cell_index(this.cell_info[0]);\n        IPython.notebook.select(index + 1);\n    }\n};\n\nmpl.figure.prototype.handle_save = function (fig, _msg) {\n    fig.ondownload(fig, null);\n};\n\nmpl.find_output_cell = function (html_output) {\n    // Return the cell and output element which can be found *uniquely* in the notebook.\n    // Note - this is a bit hacky, but it is done because the \"notebook_saving.Notebook\"\n    // IPython event is triggered only after the cells have been serialised, which for\n    // our purposes (turning an active figure into a static one), is too late.\n    var cells = IPython.notebook.get_cells();\n    var ncells = cells.length;\n    for (var i = 0; i < ncells; i++) {\n        var cell = cells[i];\n        if (cell.cell_type === 'code') {\n            for (var j = 0; j < cell.output_area.outputs.length; j++) {\n                var data = cell.output_area.outputs[j];\n                if (data.data) {\n                    // IPython >= 3 moved mimebundle to data attribute of output\n                    data = data.data;\n                }\n                if (data['text/html'] === html_output) {\n                    return [cell, data, j];\n                }\n            }\n        }\n    }\n};\n\n// Register the function which deals with the matplotlib target/channel.\n// The kernel may be null if the page has been refreshed.\nif (IPython.notebook.kernel !== null) {\n    IPython.notebook.kernel.comm_manager.register_target(\n        'matplotlib',\n        mpl.mpl_figure_comm\n    );\n}\n",
      "text/plain": [
       "<IPython.core.display.Javascript object>"
      ]
     },
     "metadata": {},
     "output_type": "display_data"
    },
    {
     "data": {
      "text/html": [
       "<img src=\"data:image/png;base64,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\" width=\"640.0000169542105\">"
      ],
      "text/plain": [
       "<IPython.core.display.HTML object>"
      ]
     },
     "metadata": {},
     "output_type": "display_data"
    }
   ],
   "source": [
    "%matplotlib notebook\n",
    "import matplotlib.pyplot as plt\n",
    "import matplotlib.animation as animation\n",
    "\n",
    "length = 60*15  # see past 15 minutes of track\n",
    "speed = 60*10    # multiplier (1 min per second)\n",
    "\n",
    "# Create a figure and axis\n",
    "fig, ax = plt.subplots()\n",
    "\n",
    "ax.set_xlabel('Longitude')\n",
    "ax.set_ylabel('Latitude')\n",
    "ax.set_title('Animation of Data')\n",
    "xMin = df['Latitude'].min()\n",
    "xMax = df['Latitude'].max()\n",
    "yMin = df['Longitude'].min()\n",
    "yMax = df['Longitude'].max()\n",
    "\n",
    "# Define the update function for the animation\n",
    "def update(frame):\n",
    "    ax.clear()\n",
    "    colors = [[]]\n",
    "    ax.plot(df['Longitude'][frame:frame+length], df['Latitude'][frame:frame+length], color=(0.5,0.5,0.5, 0.5))\n",
    "    ax.plot(df['Longitude'][frame+length-30:frame+length], df['Latitude'][frame+length-30:frame+length], color=(1-min(df['Distance'][frame+length]*100,1),min(df['Distance'][frame+length]*100,1),min(df['Distance'][frame+length]*100,1)))\n",
    "    ax.set_xlim(0.9999219332, xMax)  # Set x-axis limits\n",
    "    ax.set_ylim(0.9989382032, yMax)  # Set y-axis limits\n",
    "    ax.set_title(f\"{frame+length}: \\n{df['Next Time to Xavier Hall'][frame+length]}\")\n",
    "    \n",
    "    if(df['IsStation'][frame+length]):\n",
    "        ax.scatter(df['Longitude'][frame+length], df['Latitude'][frame+length], color=\"green\")  # Make the station point red and larger\n",
    "    ax.scatter(df['Next Station Long'][frame+length], df['Next Station Lat'][frame+length], color=\"purple\")\n",
    "    ax.text(df['Next Station Long'][frame+length], df['Next Station Lat'][frame+length], f\"Next Station: {df['Encoded Next Station'][frame+length]}\", ha='center', va='bottom', color='purple')\n",
    "    \n",
    "    # Add text on the right side\n",
    "    text_x = xMax + (xMax - xMin) * 0.05  # Adjust the x-coordinate of the text\n",
    "    text_y = yMax - (yMax - yMin) * 0.05  # Adjust the y-coordinate of the text\n",
    "    ax.text(text_x, text_y, f\"Time: {df['Time'][frame+length]}\\nHumidity: {df['Humidity'][frame+length]}\", ha='left', va='top')\n",
    "        \n",
    "# Create the animation\n",
    "ani = animation.FuncAnimation(fig, update, frames=range(5000,len(df)-length, speed//20), interval=1000//20)\n",
    "\n",
    "# Display the animation\n",
    "plt.show()\n"
   ]
  },
  {
   "cell_type": "code",
   "execution_count": null,
   "metadata": {},
   "outputs": [],
   "source": [
    "# Convert all the times into a timestamp with 0 = 00:00:00 and 86399 = 23:59:59\n",
    "\n",
    "def time_to_daytimestamp(stamp: str) -> int:\n",
    "    if stamp is None:\n",
    "        return -1\n",
    "    \n",
    "    if isinstance(stamp, float):\n",
    "        return -1\n",
    "    \n",
    "    h, m, s = stamp.split(':')\n",
    "    return int(h) * 24 * 60 + int(m) * 60 + int(s)\n",
    "\n",
    "df['Time'] = df['Time'].apply(lambda time: time_to_daytimestamp(time))\n",
    "\n",
    "df['Previous Time to Xavier Hall'] = df['Previous Time to Xavier Hall'].apply(lambda time: time_to_daytimestamp(time))\n",
    "df['Previous Time to Fine Arts Annex'] = df['Previous Time to Fine Arts Annex'].apply(lambda time: time_to_daytimestamp(time))\n",
    "df['Previous Time to Loyola House of Studies'] = df['Previous Time to Loyola House of Studies'].apply(lambda time: time_to_daytimestamp(time))\n",
    "df['Previous Time to Grade School'] = df['Previous Time to Grade School'].apply(lambda time: time_to_daytimestamp(time))\n",
    "df['Previous Time to Gate 2.5'] = df['Previous Time to Gate 2.5'].apply(lambda time: time_to_daytimestamp(time))\n",
    "df['Previous Time to Leong Hall'] = df['Previous Time to Leong Hall'].apply(lambda time: time_to_daytimestamp(time))\n",
    "\n",
    "df['Next Time to Xavier Hall'] = df['Next Time to Xavier Hall'].apply(lambda time: time_to_daytimestamp(time))\n",
    "df['Next Time to Fine Arts Annex'] = df['Next Time to Fine Arts Annex'].apply(lambda time: time_to_daytimestamp(time))\n",
    "df['Next Time to Loyola House of Studies'] = df['Next Time to Loyola House of Studies'].apply(lambda time: time_to_daytimestamp(time))\n",
    "df['Next Time to Grade School'] = df['Next Time to Grade School'].apply(lambda time: time_to_daytimestamp(time))\n",
    "df['Next Time to Gate 2.5'] = df['Next Time to Gate 2.5'].apply(lambda time: time_to_daytimestamp(time))\n",
    "df['Next Time to Leong Hall'] = df['Next Time to Leong Hall'].apply(lambda time: time_to_daytimestamp(time))\n",
    "\n",
    "df"
   ]
  },
  {
   "cell_type": "code",
   "execution_count": null,
   "metadata": {},
   "outputs": [],
   "source": [
    "df = df.fillna(-1)\n",
    "df\n",
    "\n",
    "df.to_csv('Updated Out.csv')"
   ]
  },
  {
   "cell_type": "code",
   "execution_count": null,
   "metadata": {},
   "outputs": [],
   "source": [
    "X = df.copy()\n",
    "X_train = X[:300_000]\n",
    "X_test = X[300_001:]\n",
    "\n",
    "# Xs is X but without the next time columns within it\n",
    "Xs_train = X_train.copy()\n",
    "Xs_test = X_test.copy()\n",
    "\n",
    "Xs_train = Xs_train.drop(columns=['Next Time to Fine Arts Annex', 'Next Time to Loyola House of Studies', 'Next Time to Grade School', 'Next Time to Gate 2.5', 'Next Time to Leong Hall', 'Next Time to Xavier Hall'])\n",
    "Xs_test = Xs_test.drop(columns=['Next Time to Fine Arts Annex', 'Next Time to Loyola House of Studies', 'Next Time to Grade School', 'Next Time to Gate 2.5', 'Next Time to Leong Hall', 'Next Time to Xavier Hall'])\n",
    "\n",
    "Y_train = X_train.copy()\n",
    "Y_test = X_test.copy()\n",
    "\n",
    "Y_train = Y_train[['Next Time to Fine Arts Annex', 'Next Time to Loyola House of Studies', 'Next Time to Grade School', 'Next Time to Gate 2.5', 'Next Time to Leong Hall', 'Next Time to Xavier Hall', 'IsEJeep1', 'IsEJeep2', 'IsEJeep3']]\n",
    "Y_train = Y_train.dropna()\n",
    "\n",
    "Y_test = Y_test[['Next Time to Fine Arts Annex', 'Next Time to Loyola House of Studies', 'Next Time to Grade School', 'Next Time to Gate 2.5', 'Next Time to Leong Hall', 'Next Time to Xavier Hall', 'IsEJeep1', 'IsEJeep2', 'IsEJeep3']]\n",
    "Y_test = Y_test.dropna()\n",
    "\n",
    "assert(len(X_train) == len(Y_train))\n",
    "assert(len(X_test) == len(Y_test))"
   ]
  },
  {
   "cell_type": "code",
   "execution_count": null,
   "metadata": {},
   "outputs": [],
   "source": [
    "## Use Xs instead of X, remove next time in X\n",
    "\n",
    "X_train = Xs_train\n",
    "X_test = Xs_test\n",
    "\n",
    "## Remove isEJeep_num in Y\n",
    "\n",
    "Y_train = Y_train.drop(columns=['IsEJeep1', 'IsEJeep2', 'IsEJeep3'])\n",
    "Y_test = Y_test.drop(columns=['IsEJeep1', 'IsEJeep2', 'IsEJeep3'])\n",
    "\n",
    "assert(len(X_train) == len(Y_train))\n",
    "assert(len(X_test) == len(Y_test))"
   ]
  },
  {
   "cell_type": "markdown",
   "metadata": {},
   "source": [
    "# XGBoost Regression"
   ]
  },
  {
   "cell_type": "code",
   "execution_count": null,
   "metadata": {},
   "outputs": [],
   "source": [
    "from xgboost import XGBRegressor\n",
    "\n",
    "# xgb objective rmse\n",
    "model_xgb = XGBRegressor(objective='reg:squarederror')\n",
    "model_xgb.fit(X_train, Y_train)\n"
   ]
  },
  {
   "cell_type": "code",
   "execution_count": null,
   "metadata": {},
   "outputs": [],
   "source": [
    "### Not working\n",
    "%%script echo skipping\n",
    "\n",
    "from xgboost import XGBRegressor\n",
    "from sklearn.metrics import mean_squared_error as MSE\n",
    "from sklearn.model_selection import GridSearchCV\n",
    "\n",
    "# hyperparamters gird search\n",
    "model_xgb = XGBRegressor(objective='reg:squarederror')\n",
    "params = {'n_estimators': [100, 500, 1000], 'learning_rate': [0.01, 0.1, 0.2]}\n",
    "grid = GridSearchCV(estimator=model_xgb, param_grid=params, scoring='neg_mean_squared_error', cv=4, verbose=1)\n",
    "grid.fit(X_train, Y_train)\n",
    "print(\"Best parameters found: \", grid.best_params_)\n",
    "print(\"Lowest RMSE found: \", np.sqrt(np.abs(grid.best_score_)))\n",
    "\n",
    "\n",
    "\n",
    "# model_xgb = XGBRegressor(objective='reg:squarederror', n_estimators=1000, learning_rate=0.05)\n",
    "# model_xgb.fit(X_train, Y_train)\n",
    "\n",
    "# xgb objective rmse\n",
    "# model_xgb = XGBRegressor(objective='reg:squarederror')\n",
    "# model_xgb.fit(X_train, Y_train)\n",
    "\n",
    "# Predict the model \n",
    "# pred = model_xgb.predict(X_test)\n",
    "# # put column labels on prediction\n",
    "# pred = pd.DataFrame(data=pred, columns=['Next Time to Fine Arts Annex', 'Next Time to Loyola House of Studies', 'Next Time to Grade School', 'Next Time to Gate 2.5', 'Next Time to Leong Hall', 'Next Time to Xavier Hall'])\n",
    "\n",
    "\n",
    "# rmse = np.sqrt(MSE(Y_test, pred))\n",
    "# print(rmse)\n"
   ]
  },
  {
   "cell_type": "code",
   "execution_count": null,
   "metadata": {},
   "outputs": [],
   "source": [
    "\n",
    "# xgb based on the best params\n",
    "model_xgb = XGBRegressor(objective='reg:squarederror', max_depth=grid_result.best_params_['max_depth'], n_estimators=grid_result.best_params_['n_estimators'])"
   ]
  },
  {
   "cell_type": "code",
   "execution_count": null,
   "metadata": {},
   "outputs": [],
   "source": [
    "# Predict the model \n",
    "pred = model_xgb.predict(X_test)\n",
    "# put column labels on prediction\n",
    "pred = pd.DataFrame(data=pred, columns=['Next Time to Fine Arts Annex', 'Next Time to Loyola House of Studies', 'Next Time to Grade School', 'Next Time to Gate 2.5', 'Next Time to Leong Hall', 'Next Time to Xavier Hall'])"
   ]
  },
  {
   "cell_type": "code",
   "execution_count": null,
   "metadata": {},
   "outputs": [],
   "source": [
    "from sklearn.metrics import mean_squared_error as MSE \n",
    "  \n",
    "# Metrics Computation \n",
    "rmse = np.sqrt(MSE(Y_test, pred))\n",
    "r2 = r2_score(Y_test, pred)\n",
    "mae = mean_absolute_error(Y_test, pred)\n",
    "\n",
    "print(\"XGBoost Regression\") \n",
    "print(\"RMSE : % f\" %(rmse)) \n",
    "print(\"R^2 : % f\" %(r2))\n",
    "print(\"MAE : % f\" %(mae))"
   ]
  },
  {
   "cell_type": "code",
   "execution_count": null,
   "metadata": {},
   "outputs": [],
   "source": [
    "# plot Y_test vs pred\n",
    "# make color change depending on how close the prediction to the actial value\n",
    "plt.figure(figsize=(15, 15))\n",
    "plt.plot(Y_test, pred, 'o', color='black')\n",
    "plt.xlabel('Y_test')\n",
    "plt.ylabel('pred')\n",
    "plt.title('Y_test vs pred')\n",
    "plt.show()"
   ]
  },
  {
   "cell_type": "code",
   "execution_count": null,
   "metadata": {},
   "outputs": [],
   "source": [
    "# plot how close the prediction to the actual value\n",
    "plt.figure(figsize=(15, 15))\n",
    "plt.plot(Y_test, pred.subtract(Y_test.reset_index(drop=True)), 'o', color='black')\n",
    "plt.xlabel('Y_test')\n",
    "plt.ylabel('pred - Y_test')\n",
    "plt.title('XGBoost: Single Prediction Error')\n",
    "plt.show()"
   ]
  },
  {
   "cell_type": "code",
   "execution_count": null,
   "metadata": {},
   "outputs": [],
   "source": [
    "# plot how close the prediction to the actual value\n",
    "plt.figure(figsize=(15, 15))\n",
    "# plt.plot(Y_test['Next Time to Leong Hall'], pred.subtract(Y_test.reset_index(drop=True))['Next Time to Leong Hall'], 'o', color='black')\n",
    "# plt.xlabel('Y_test')\n",
    "# plt.ylabel('pred - Y_test')\n",
    "# plt.title('XGBoost: Single Prediction Error')\n",
    "# plt.show()\n",
    "\n",
    "# make a 3x2 graph\n",
    "fig, axs = plt.subplots(3, 2, figsize=(15, 15))\n",
    "# go through all stations\n",
    "for i, station in enumerate(next_station_dict.keys()):\n",
    "    # plot how close the prediction to the actual value\n",
    "    axs[i//2, i%2].plot(Y_test[f'Next Time to {station}'], pred.subtract(Y_test.reset_index(drop=True))[f'Next Time to {station}'], 'o', color='black')\n",
    "    axs[i//2, i%2].set_xlabel('Y_test')\n",
    "    axs[i//2, i%2].set_ylabel('pred - Y_test')\n",
    "    axs[i//2, i%2].set_title(f'XGBoost: Single Prediction Error for {station}')"
   ]
  },
  {
   "cell_type": "code",
   "execution_count": null,
   "metadata": {},
   "outputs": [],
   "source": [
    "model_xgb.save_model('xgb.model')"
   ]
  },
  {
   "cell_type": "code",
   "execution_count": null,
   "metadata": {},
   "outputs": [],
   "source": [
    "f_importance_gain = model_xgb.get_booster().get_score(importance_type='gain')\n",
    "#sort the dictionary\n",
    "f_importance_gain = sorted(f_importance_gain.items(), key=lambda x:x[1], reverse=True)\n",
    "f_importance_gain\n",
    "#plot top 10 features\n",
    "df_gain = pd.DataFrame(f_importance_gain[:10], columns=['feature', 'gain'])\n",
    "plt.figure(figsize=(10, 5))\n",
    "sns.barplot(x='gain', y='feature', data=df_gain)\n",
    "plt.title('Feature Importance by Gain')\n",
    "plt.show()\n"
   ]
  },
  {
   "cell_type": "code",
   "execution_count": null,
   "metadata": {},
   "outputs": [],
   "source": [
    "f_importance_weight = model_xgb.get_booster().get_score(importance_type='weight')\n",
    "#sort the dictionary\n",
    "f_importance_weight = sorted(f_importance_weight.items(), key=lambda x:x[1], reverse=True)\n",
    "f_importance_weight\n",
    "df_weight = pd.DataFrame(f_importance_weight[:10], columns=['feature', 'weight'])\n",
    "plt.figure(figsize=(10, 5))\n",
    "sns.barplot(x='weight', y='feature', data=df_weight)\n",
    "plt.title('Feature Importance by Weight')\n",
    "plt.show()\n"
   ]
  },
  {
   "cell_type": "code",
   "execution_count": null,
   "metadata": {},
   "outputs": [],
   "source": [
    "# XGB plot top 10 important features\n",
    "from xgboost import plot_importance\n",
    "plot_importance(model_xgb, max_num_features=10)\n",
    "plt.show()\n"
   ]
  },
  {
   "cell_type": "code",
   "execution_count": null,
   "metadata": {},
   "outputs": [],
   "source": [
    "f_importance"
   ]
  },
  {
   "cell_type": "code",
   "execution_count": null,
   "metadata": {},
   "outputs": [],
   "source": [
    "# Check XGBoost Feature importance\n",
    "# plot feature importance\n",
    "plt.figure(figsize=(15, 15))\n",
    "plt.bar(X_train.columns, model_xgb.feature_importances_)\n",
    "plt.xlabel('Features')\n",
    "plt.ylabel('Feature Importance')\n",
    "plt.title('XGBoost: Feature Importance')\n",
    "plt.show()\n"
   ]
  },
  {
   "cell_type": "code",
   "execution_count": null,
   "metadata": {},
   "outputs": [],
   "source": [
    "# fig, ax = plt.subplots(figsize=(30, 30))\n",
    "import xgboost\n",
    "xgboost.plot_tree(model_xgb, num_trees=1, ax=ax, rankdir='LR', )\n",
    "# plt.show()\n"
   ]
  },
  {
   "cell_type": "markdown",
   "metadata": {},
   "source": [
    "# Linear Regression Part"
   ]
  },
  {
   "cell_type": "code",
   "execution_count": null,
   "metadata": {},
   "outputs": [],
   "source": [
    "assert(False)"
   ]
  },
  {
   "cell_type": "code",
   "execution_count": null,
   "metadata": {},
   "outputs": [],
   "source": [
    "model_lr = LinearRegression()\n",
    "model_lr.fit(X_train, Y_train)\n",
    "\n",
    "model_s_lr = LinearRegression()\n",
    "model_s_lr.fit(Xs_train, Y_train)"
   ]
  },
  {
   "cell_type": "code",
   "execution_count": null,
   "metadata": {},
   "outputs": [],
   "source": [
    "df_output = pd.DataFrame().reindex_like(Y_train)\n",
    "df_s_output = pd.DataFrame().reindex_like(Y_train)"
   ]
  },
  {
   "cell_type": "code",
   "execution_count": null,
   "metadata": {},
   "outputs": [],
   "source": [
    "def daytimestamp_to_time(val: int) -> str:\n",
    "    h = val // (24 * 60)\n",
    "    m_s = val % (24 * 60)\n",
    "    m = m_s // 60\n",
    "    s = m_s % 60\n",
    "\n",
    "    return f'{h:02}:{m:02}:{s:02}'"
   ]
  },
  {
   "cell_type": "code",
   "execution_count": null,
   "metadata": {},
   "outputs": [],
   "source": [
    "i = 0\n",
    "\n",
    "for index, row in X_test.iterrows():\n",
    "    y_hat = model_lr.predict(row.to_frame().transpose())\n",
    "    df_output.loc[len(df_output)] = y_hat[0]\n",
    "\n",
    "df_output"
   ]
  },
  {
   "cell_type": "code",
   "execution_count": null,
   "metadata": {},
   "outputs": [],
   "source": [
    "for index, row in Xs_test.iterrows():\n",
    "    y_hat = model_s_lr.predict(row.to_frame().transpose())\n",
    "    df_s_output.loc[len(df_s_output)] = y_hat[0]\n",
    "\n",
    "df_s_output"
   ]
  },
  {
   "cell_type": "code",
   "execution_count": null,
   "metadata": {},
   "outputs": [],
   "source": [
    "df_output.to_csv('Linear Reg Output.csv')\n",
    "df_s_output.to_csv('Linear Reg Spec Output.csv')"
   ]
  },
  {
   "cell_type": "code",
   "execution_count": null,
   "metadata": {},
   "outputs": [],
   "source": [
    "Y_test = Y_test.dropna()\n",
    "df_output = df_output.dropna()\n",
    "df_s_output = df_s_output.dropna()\n",
    "\n",
    "Y_test = Y_test.drop(columns=['IsEJeep1', 'IsEJeep2', 'IsEJeep3'])\n",
    "df_output = df_output.drop(columns=['IsEJeep1', 'IsEJeep2', 'IsEJeep3'])\n",
    "df_s_output = df_s_output.drop(columns=['IsEJeep1', 'IsEJeep2', 'IsEJeep3'])"
   ]
  },
  {
   "cell_type": "code",
   "execution_count": null,
   "metadata": {},
   "outputs": [],
   "source": [
    "# Calculating MSE for all columns\n",
    "rmse = mean_squared_error(Y_test, df_output, squared=False)\n",
    "rmse_s = mean_squared_error(Y_test, df_s_output, squared=False)\n",
    "\n",
    "mae = mean_absolute_error(Y_test, df_output)\n",
    "mae_s = mean_absolute_error(Y_test, df_s_output)\n",
    "\n",
    "r2 = r2_score(Y_test, df_output)\n",
    "r2_s = r2_score(Y_test, df_s_output)\n",
    "\n",
    "print('With Next Time of Arrival in Train Dataset:')\n",
    "print(f'RMSE: {rmse}')\n",
    "print(f'R^2: {r2}')\n",
    "print(f'MAE: {mae}')"
   ]
  },
  {
   "cell_type": "code",
   "execution_count": null,
   "metadata": {},
   "outputs": [],
   "source": [
    "# print a row of X_test and Y_test\n",
    "print(X.iloc[300100])\n",
    "print(Y_test.iloc[100])"
   ]
  }
 ],
 "metadata": {
  "kernelspec": {
   "display_name": "Python 3 (ipykernel)",
   "language": "python",
   "name": "python3"
  },
  "language_info": {
   "codemirror_mode": {
    "name": "ipython",
    "version": 3
   },
   "file_extension": ".py",
   "mimetype": "text/x-python",
   "name": "python",
   "nbconvert_exporter": "python",
   "pygments_lexer": "ipython3",
   "version": "3.10.6"
  }
 },
 "nbformat": 4,
 "nbformat_minor": 2
}
