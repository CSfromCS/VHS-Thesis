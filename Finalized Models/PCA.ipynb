{
 "cells": [
  {
   "cell_type": "code",
   "execution_count": 5,
   "metadata": {},
   "outputs": [
    {
     "name": "stdout",
     "output_type": "stream",
     "text": [
      "Count: 1, Explained Variance Ratio: 0.21363019721755916\n",
      "Count: 2, Explained Variance Ratio: 0.38711627235814333\n",
      "Count: 3, Explained Variance Ratio: 0.5342407191056453\n",
      "Count: 4, Explained Variance Ratio: 0.623368038822863\n",
      "Count: 5, Explained Variance Ratio: 0.6949608759046105\n",
      "Count: 6, Explained Variance Ratio: 0.7584397216189342\n",
      "Count: 7, Explained Variance Ratio: 0.7987845622557522\n",
      "Count: 8, Explained Variance Ratio: 0.8346293524035724\n",
      "Count: 9, Explained Variance Ratio: 0.8665974473661723\n",
      "Count: 10, Explained Variance Ratio: 0.8949423129059133\n",
      "Count: 11, Explained Variance Ratio: 0.9123972379737587\n",
      "Count: 12, Explained Variance Ratio: 0.9293969266002889\n",
      "Count: 13, Explained Variance Ratio: 0.9442274702177652\n",
      "Count: 14, Explained Variance Ratio: 0.9545898135374187\n",
      "Count: 15, Explained Variance Ratio: 0.9635868147802038\n",
      "Count: 16, Explained Variance Ratio: 0.9700176184980698\n",
      "Count: 17, Explained Variance Ratio: 0.9752454679070516\n",
      "Count: 18, Explained Variance Ratio: 0.9796553948736065\n",
      "Count: 19, Explained Variance Ratio: 0.9834294448735432\n",
      "Count: 20, Explained Variance Ratio: 0.98615579747842\n",
      "Count: 21, Explained Variance Ratio: 0.9884452372066074\n",
      "Count: 22, Explained Variance Ratio: 0.9906727768599424\n",
      "Count: 23, Explained Variance Ratio: 0.9922501549592867\n",
      "Count: 24, Explained Variance Ratio: 0.9936090743903329\n",
      "Count: 25, Explained Variance Ratio: 0.994791512561404\n",
      "Count: 26, Explained Variance Ratio: 0.995872619681498\n",
      "Count: 27, Explained Variance Ratio: 0.9968826561005714\n",
      "Count: 28, Explained Variance Ratio: 0.9976962589914702\n",
      "Count: 29, Explained Variance Ratio: 0.9984089898275792\n",
      "Count: 30, Explained Variance Ratio: 0.9989640036338712\n",
      "Count: 31, Explained Variance Ratio: 0.9993963373269535\n",
      "Count: 32, Explained Variance Ratio: 0.9996582136654826\n",
      "Count: 33, Explained Variance Ratio: 0.9999036276840169\n",
      "Count: 34, Explained Variance Ratio: 1.0\n",
      "Count: 35, Explained Variance Ratio: 1.0\n",
      "Count: 36, Explained Variance Ratio: 1.0\n"
     ]
    }
   ],
   "source": [
    "import pandas as pd\n",
    "import numpy as np\n",
    "from sklearn.preprocessing import MinMaxScaler\n",
    "from sklearn.decomposition import PCA\n",
    "from sklearn.model_selection import train_test_split\n",
    "from sklearn.linear_model import LinearRegression\n",
    "from sklearn.metrics import r2_score\n",
    "\n",
    "X = pd.read_csv('../Data Preprocessing/Final_Out.csv')\n",
    "\n",
    "X_train = X[X['Day'] < 29]\n",
    "X_test = X[X['Day'] >= 29]\n",
    "\n",
    "scaler = MinMaxScaler()\n",
    "\n",
    "X_train_scaled = scaler.fit_transform(X_train.to_numpy())\n",
    "X_test_scaled = scaler.transform(X_test.to_numpy())\n",
    "\n",
    "X_train = pd.DataFrame(X_train_scaled, columns=X.columns)\n",
    "X_test = pd.DataFrame(X_test_scaled, columns=X.columns)\n",
    "\n",
    "X_train_copy = X_train.drop(columns=['Next Time to Fine Arts Annex', 'Next Time to Loyola House of Studies', 'Next Time to Grade School', 'Next Time to Gate 2.5', 'Next Time to Leong Hall', 'Next Time to Xavier Hall'])\n",
    "X_test_copy = X_test.drop(columns=['Next Time to Fine Arts Annex', 'Next Time to Loyola House of Studies', 'Next Time to Grade School', 'Next Time to Gate 2.5', 'Next Time to Leong Hall', 'Next Time to Xavier Hall'])\n",
    "\n",
    "Y_train_copy = X_train[['Next Time to Fine Arts Annex', 'Next Time to Loyola House of Studies', 'Next Time to Grade School', 'Next Time to Gate 2.5', 'Next Time to Leong Hall', 'Next Time to Xavier Hall']]\n",
    "Y_test_copy = X_test[['Next Time to Fine Arts Annex', 'Next Time to Loyola House of Studies', 'Next Time to Grade School', 'Next Time to Gate 2.5', 'Next Time to Leong Hall', 'Next Time to Xavier Hall']]\n",
    "\n",
    "pca_data = []\n",
    "r2_data = []\n",
    "\n",
    "# Compute PCA\n",
    "for i in range(1, len(X_train_copy.columns) + 1):\n",
    "    pca = PCA(n_components=i)\n",
    "    X_pca = pca.fit_transform(X_train_copy)\n",
    "\n",
    "    pca_data.append((i, sum(pca.explained_variance_ratio_)))\n",
    "\n",
    "    print(f'Count: {i}, Explained Variance Ratio: {sum(pca.explained_variance_ratio_)}')\n",
    "\n",
    "    np.savetxt(f'PCA Files/pca-train-{i}.txt', X_pca, fmt='%d')\n",
    "\n",
    "    model = LinearRegression()\n",
    "    model.fit(X_pca, Y_train_copy)\n",
    "\n",
    "    X_test_pca = pca.fit_transform(X_test_copy)\n",
    "    np.savetxt(f'PCA Files/pca-test-{i}.txt', X_test_pca, fmt='%d')\n",
    "    y_pred = model.predict(X_test_pca)\n",
    "\n",
    "    r2 = r2_score(Y_test_copy, y_pred)\n",
    "    r2_data.append({\n",
    "        'Component Count': i,\n",
    "        'R^2': r2 \n",
    "    })\n",
    "\n"
   ]
  },
  {
   "cell_type": "code",
   "execution_count": 8,
   "metadata": {},
   "outputs": [
    {
     "data": {
      "image/png": "[encoded data removed]",
      "text/plain": [
       "<Figure size 720x504 with 1 Axes>"
      ]
     },
     "metadata": {
      "needs_background": "light"
     },
     "output_type": "display_data"
    }
   ],
   "source": [
    "import matplotlib.pyplot as plt\n",
    "\n",
    "x_values = [val['Component Count'] for val in r2_data]\n",
    "data = [val['R^2'] for val in r2_data]\n",
    "\n",
    "plt.figure(figsize=(10, 7))\n",
    "plt.plot(x_values, data, marker='o', linestyle='-', color='b', label='Linear Regression')\n",
    "plt.xlabel('Component Count')\n",
    "plt.ylabel('R^2')\n",
    "plt.title('Adjusted R^2 Score per PCA Component Count')\n",
    "plt.legend()  # Optional: Show legend\n",
    "plt.grid(True)  # Optional: Show grid\n",
    "plt.show()"
   ]
  },
  {
   "cell_type": "code",
   "execution_count": 4,
   "metadata": {},
   "outputs": [
    {
     "data": {
      "text/plain": [
       "172813"
      ]
     },
     "execution_count": 4,
     "metadata": {},
     "output_type": "execute_result"
    }
   ],
   "source": [
    "len(Y_test_copy)"
   ]
  },
  {
   "cell_type": "code",
   "execution_count": null,
   "metadata": {},
   "outputs": [],
   "source": [
    "# Retrive Numpy Data\n",
    "def fetch_pca_file(component_num: int) -> np.array:\n",
    "    return np.loadtxt(f'PCA Files/pca-{i}.txt', dtype=float)"
   ]
  },
  {
   "cell_type": "code",
   "execution_count": null,
   "metadata": {},
   "outputs": [],
   "source": [
    "import matplotlib as plt\n",
    "\n",
    "x_values = [x for x, y in pca_data]\n",
    "data = [y for x, y in pca_data]\n",
    "\n",
    "plt.figure(figsize=(10, 7))\n",
    "plt.plot(x_values, data, marker='o', linestyle='-', color='b', label='Line Plot')\n",
    "plt.xlabel('Feature Count')\n",
    "plt.ylabel('Ratio')\n",
    "plt.title('PCA Sum v Feature Count')\n",
    "plt.legend()  # Optional: Show legend\n",
    "plt.grid(True)  # Optional: Show grid\n",
    "plt.show()"
   ]
  }
 ],
 "metadata": {
  "kernelspec": {
   "display_name": "Python 3",
   "language": "python",
   "name": "python3"
  },
  "language_info": {
   "codemirror_mode": {
    "name": "ipython",
    "version": 3
   },
   "file_extension": ".py",
   "mimetype": "text/x-python",
   "name": "python",
   "nbconvert_exporter": "python",
   "pygments_lexer": "ipython3",
   "version": "3.10.0"
  },
  "orig_nbformat": 4
 },
 "nbformat": 4,
 "nbformat_minor": 2
}
