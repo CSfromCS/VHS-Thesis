{
 "cells": [
  {
   "cell_type": "code",
   "execution_count": 1,
   "metadata": {},
   "outputs": [],
   "source": [
    "import pandas as pd\n",
    "import joblib\n",
    "from tensorflow.keras.layers import Dense, Input\n",
    "from tensorflow.keras.models import Model\n",
    "from sklearn.preprocessing import MinMaxScaler\n"
   ]
  },
  {
   "cell_type": "code",
   "execution_count": 7,
   "metadata": {},
   "outputs": [
    {
     "name": "stdout",
     "output_type": "stream",
     "text": [
      "Index(['Datetime', 'Encoded Day', 'Time', 'IsEJeep1', 'IsEJeep2', 'Altitude',\n",
      "       'Humidity', 'Temperature', 'Latitude', 'Longitude', 'Lat Diff',\n",
      "       'Long Diff', 'Distance', 'Cum Distance', 'Abs Distance',\n",
      "       'Percent Distance', 'Encoded Station', 'IsStation', 'IsCharging',\n",
      "       'Encoded Prev Station', 'Prev Station Lat', 'Prev Station Long',\n",
      "       'Prev Abs Distance', 'Prev Cum Distance',\n",
      "       'Previous Time to Xavier Hall', 'Previous Time to Fine Arts Annex',\n",
      "       'Previous Time to Loyola House of Studies',\n",
      "       'Previous Time to Grade School', 'Previous Time to Gate 2.5',\n",
      "       'Previous Time to Leong Hall', 'Encoded Next Station',\n",
      "       'Next Station Lat', 'Next Station Long', 'Next Time to Xavier Hall',\n",
      "       'Next Time to Fine Arts Annex', 'Next Time to Loyola House of Studies',\n",
      "       'Next Time to Grade School', 'Next Time to Gate 2.5',\n",
      "       'Next Time to Leong Hall'],\n",
      "      dtype='object')\n"
     ]
    }
   ],
   "source": [
    "df = pd.read_csv('../Data Preprocessing/Final_Out.csv')\n",
    "df = df.drop(columns=['Unnamed: 0', 'Day', 'Hour_of_Day'])\n",
    "\n",
    "print(df.columns)\n",
    "\n",
    "scaler = joblib.load('scaler.gz')\n",
    "\n",
    "scaled_df = scaler.transform(df)"
   ]
  },
  {
   "cell_type": "code",
   "execution_count": 14,
   "metadata": {},
   "outputs": [
    {
     "data": {
      "text/plain": [
       "39"
      ]
     },
     "execution_count": 14,
     "metadata": {},
     "output_type": "execute_result"
    }
   ],
   "source": [
    "len(scaled_df[0])"
   ]
  },
  {
   "cell_type": "code",
   "execution_count": 8,
   "metadata": {},
   "outputs": [
    {
     "name": "stdout",
     "output_type": "stream",
     "text": [
      "Epoch 1/10\n",
      "24138/24138 [==============================] - 12s 491us/step - loss: 0.0022\n",
      "Epoch 2/10\n",
      "24138/24138 [==============================] - 12s 488us/step - loss: 6.2338e-04\n",
      "Epoch 3/10\n",
      "24138/24138 [==============================] - 12s 495us/step - loss: 6.0483e-04\n",
      "Epoch 4/10\n",
      "24138/24138 [==============================] - 12s 500us/step - loss: 5.8899e-04\n",
      "Epoch 5/10\n",
      "24138/24138 [==============================] - 12s 503us/step - loss: 5.7547e-04\n",
      "Epoch 6/10\n",
      "24138/24138 [==============================] - 12s 492us/step - loss: 5.6907e-04\n",
      "Epoch 7/10\n",
      "24138/24138 [==============================] - 12s 494us/step - loss: 5.6563e-04\n",
      "Epoch 8/10\n",
      "24138/24138 [==============================] - 12s 491us/step - loss: 5.6277e-04\n",
      "Epoch 9/10\n",
      "24138/24138 [==============================] - 12s 510us/step - loss: 5.5924e-04\n",
      "Epoch 10/10\n",
      "24138/24138 [==============================] - 13s 535us/step - loss: 5.5444e-04\n",
      "24138/24138 [==============================] - 9s 363us/step\n"
     ]
    },
    {
     "data": {
      "text/plain": [
       "array([[0.03355195, 0.04587738, 0.04831066, ..., 0.35470676, 0.36675504,\n",
       "        0.344077  ],\n",
       "       [0.03356936, 0.04588201, 0.04829834, ..., 0.35421306, 0.36677647,\n",
       "        0.34407246],\n",
       "       [0.03357032, 0.04588058, 0.04830331, ..., 0.3543533 , 0.36678463,\n",
       "        0.34407952],\n",
       "       ...,\n",
       "       [0.99353534, 0.0468291 , 0.9543732 , ..., 0.02219609, 0.01686233,\n",
       "        0.01836256],\n",
       "       [0.99354273, 0.04676182, 0.9543844 , ..., 0.02222306, 0.01687897,\n",
       "        0.01838022],\n",
       "       [0.993549  , 0.04670291, 0.9543964 , ..., 0.02231208, 0.01689361,\n",
       "        0.01839458]], dtype=float32)"
      ]
     },
     "execution_count": 8,
     "metadata": {},
     "output_type": "execute_result"
    }
   ],
   "source": [
    "# Define the autoencoder architecture\n",
    "input_dim = scaled_df.shape[1]\n",
    "encoding_dim = 32  # Choose a suitable encoding dimension\n",
    "\n",
    "input_layer = Input(shape=(input_dim,))\n",
    "encoded = Dense(encoding_dim, activation=\"relu\")(input_layer)\n",
    "decoded = Dense(input_dim, activation=\"sigmoid\")(encoded)\n",
    "\n",
    "autoencoder = Model(input_layer, decoded)\n",
    "autoencoder.compile(loss=\"mse\", optimizer=\"adam\")\n",
    "\n",
    "# Train the autoencoder\n",
    "autoencoder.fit(scaled_df, scaled_df, epochs=10, batch_size=32)\n",
    "\n",
    "# Extract encoded features\n",
    "encoded_features = autoencoder.predict(scaled_df)\n",
    "\n",
    "# Use encoded features for further analysis\n",
    "# ...\n",
    "encoded_features\n",
    "\n"
   ]
  },
  {
   "cell_type": "code",
   "execution_count": 10,
   "metadata": {},
   "outputs": [
    {
     "data": {
      "text/plain": [
       "39"
      ]
     },
     "execution_count": 10,
     "metadata": {},
     "output_type": "execute_result"
    }
   ],
   "source": [
    "len(encoded_features[0])"
   ]
  }
 ],
 "metadata": {
  "kernelspec": {
   "display_name": "Python 3",
   "language": "python",
   "name": "python3"
  },
  "language_info": {
   "codemirror_mode": {
    "name": "ipython",
    "version": 3
   },
   "file_extension": ".py",
   "mimetype": "text/x-python",
   "name": "python",
   "nbconvert_exporter": "python",
   "pygments_lexer": "ipython3",
   "version": "3.10.0"
  },
  "orig_nbformat": 4
 },
 "nbformat": 4,
 "nbformat_minor": 2
}
