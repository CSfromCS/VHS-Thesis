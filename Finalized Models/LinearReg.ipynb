{
 "cells": [
  {
   "cell_type": "code",
   "execution_count": 1,
   "metadata": {},
   "outputs": [],
   "source": [
    "import pandas as pd\n",
    "import numpy as np\n",
    "import matplotlib.pyplot as plt\n",
    "import seaborn as sns\n",
    "from sklearn.model_selection import train_test_split\n",
    "from sklearn.linear_model import LinearRegression\n",
    "from sklearn.metrics import mean_squared_error, mean_absolute_error, r2_score\n",
    "from sklearn import preprocessing"
   ]
  },
  {
   "cell_type": "code",
   "execution_count": 2,
   "metadata": {},
   "outputs": [],
   "source": [
    "next_station_dict = { \n",
    "    'Xavier Hall': 'Fine Arts Annex',\n",
    "    'Fine Arts Annex': 'Loyola House of Studies',\n",
    "    'Loyola House of Studies': 'Grade School',\n",
    "    'Grade School': 'Gate 2.5',\n",
    "    'Gate 2.5': 'Leong Hall',\n",
    "    'Leong Hall': 'Xavier Hall'\n",
    "}"
   ]
  },
  {
   "cell_type": "code",
   "execution_count": 3,
   "metadata": {},
   "outputs": [
    {
     "data": {
      "text/plain": [
       "Day                                           int64\n",
       "Day_of_Week                                   int64\n",
       "Time                                          int64\n",
       "Hour_of_Day                                   int64\n",
       "IsEJeep1                                      int64\n",
       "IsEJeep2                                      int64\n",
       "IsEJeep3                                      int64\n",
       "Altitude                                    float64\n",
       "Humidity                                    float64\n",
       "Temperature                                 float64\n",
       "Latitude                                    float64\n",
       "Longitude                                   float64\n",
       "Lat Diff                                    float64\n",
       "Long Diff                                   float64\n",
       "Distance                                    float64\n",
       "Cum Distance                                float64\n",
       "Abs Distance                                float64\n",
       "Percent Distance                            float64\n",
       "Encoded Station                             float64\n",
       "IsStation                                     int64\n",
       "IsCharging                                    int64\n",
       "Encoded Prev Station                        float64\n",
       "Prev Station Lat                            float64\n",
       "Prev Station Long                           float64\n",
       "Prev Abs Distance                           float64\n",
       "Prev Cum Distance                           float64\n",
       "Previous Time to Xavier Hall                float64\n",
       "Previous Time to Fine Arts Annex            float64\n",
       "Previous Time to Loyola House of Studies    float64\n",
       "Previous Time to Grade School               float64\n",
       "Previous Time to Gate 2.5                   float64\n",
       "Previous Time to Leong Hall                 float64\n",
       "Encoded Next Station                        float64\n",
       "Next Station Lat                            float64\n",
       "Next Station Long                           float64\n",
       "Next Time to Xavier Hall                    float64\n",
       "Next Time to Fine Arts Annex                float64\n",
       "Next Time to Loyola House of Studies        float64\n",
       "Next Time to Grade School                   float64\n",
       "Next Time to Gate 2.5                       float64\n",
       "Next Time to Leong Hall                     float64\n",
       "dtype: object"
      ]
     },
     "execution_count": 3,
     "metadata": {},
     "output_type": "execute_result"
    }
   ],
   "source": [
    "df = pd.read_csv('Finalized Out.csv')\n",
    "df = df.drop(columns=['Unnamed: 0'])\n",
    "\n",
    "df.dtypes"
   ]
  },
  {
   "cell_type": "code",
   "execution_count": 4,
   "metadata": {},
   "outputs": [
    {
     "ename": "KeyError",
     "evalue": "'Datetime'",
     "output_type": "error",
     "traceback": [
      "\u001b[0;31m---------------------------------------------------------------------------\u001b[0m",
      "\u001b[0;31mKeyError\u001b[0m                                  Traceback (most recent call last)",
      "File \u001b[0;32m/Library/Frameworks/Python.framework/Versions/3.10/lib/python3.10/site-packages/pandas/core/indexes/base.py:3790\u001b[0m, in \u001b[0;36mIndex.get_loc\u001b[0;34m(self, key)\u001b[0m\n\u001b[1;32m   3789\u001b[0m \u001b[39mtry\u001b[39;00m:\n\u001b[0;32m-> 3790\u001b[0m     \u001b[39mreturn\u001b[39;00m \u001b[39mself\u001b[39;49m\u001b[39m.\u001b[39;49m_engine\u001b[39m.\u001b[39;49mget_loc(casted_key)\n\u001b[1;32m   3791\u001b[0m \u001b[39mexcept\u001b[39;00m \u001b[39mKeyError\u001b[39;00m \u001b[39mas\u001b[39;00m err:\n",
      "File \u001b[0;32mindex.pyx:152\u001b[0m, in \u001b[0;36mpandas._libs.index.IndexEngine.get_loc\u001b[0;34m()\u001b[0m\n",
      "File \u001b[0;32mindex.pyx:181\u001b[0m, in \u001b[0;36mpandas._libs.index.IndexEngine.get_loc\u001b[0;34m()\u001b[0m\n",
      "File \u001b[0;32mpandas/_libs/hashtable_class_helper.pxi:7080\u001b[0m, in \u001b[0;36mpandas._libs.hashtable.PyObjectHashTable.get_item\u001b[0;34m()\u001b[0m\n",
      "File \u001b[0;32mpandas/_libs/hashtable_class_helper.pxi:7088\u001b[0m, in \u001b[0;36mpandas._libs.hashtable.PyObjectHashTable.get_item\u001b[0;34m()\u001b[0m\n",
      "\u001b[0;31mKeyError\u001b[0m: 'Datetime'",
      "\nThe above exception was the direct cause of the following exception:\n",
      "\u001b[0;31mKeyError\u001b[0m                                  Traceback (most recent call last)",
      "\u001b[1;32m/Users/franco/Desktop/College/Thesis/VHS-Thesis/Finalized Models/LinearReg.ipynb Cell 4\u001b[0m line \u001b[0;36m<cell line: 1>\u001b[0;34m()\u001b[0m\n\u001b[0;32m----> <a href='vscode-notebook-cell:/Users/franco/Desktop/College/Thesis/VHS-Thesis/Finalized%20Models/LinearReg.ipynb#X34sZmlsZQ%3D%3D?line=0'>1</a>\u001b[0m df[\u001b[39m'\u001b[39m\u001b[39mDatetime\u001b[39m\u001b[39m'\u001b[39m] \u001b[39m=\u001b[39m pd\u001b[39m.\u001b[39mto_datetime(df[\u001b[39m'\u001b[39;49m\u001b[39mDatetime\u001b[39;49m\u001b[39m'\u001b[39;49m])\n\u001b[1;32m      <a href='vscode-notebook-cell:/Users/franco/Desktop/College/Thesis/VHS-Thesis/Finalized%20Models/LinearReg.ipynb#X34sZmlsZQ%3D%3D?line=1'>2</a>\u001b[0m df\u001b[39m.\u001b[39mdtypes\n",
      "File \u001b[0;32m/Library/Frameworks/Python.framework/Versions/3.10/lib/python3.10/site-packages/pandas/core/frame.py:3893\u001b[0m, in \u001b[0;36mDataFrame.__getitem__\u001b[0;34m(self, key)\u001b[0m\n\u001b[1;32m   3891\u001b[0m \u001b[39mif\u001b[39;00m \u001b[39mself\u001b[39m\u001b[39m.\u001b[39mcolumns\u001b[39m.\u001b[39mnlevels \u001b[39m>\u001b[39m \u001b[39m1\u001b[39m:\n\u001b[1;32m   3892\u001b[0m     \u001b[39mreturn\u001b[39;00m \u001b[39mself\u001b[39m\u001b[39m.\u001b[39m_getitem_multilevel(key)\n\u001b[0;32m-> 3893\u001b[0m indexer \u001b[39m=\u001b[39m \u001b[39mself\u001b[39;49m\u001b[39m.\u001b[39;49mcolumns\u001b[39m.\u001b[39;49mget_loc(key)\n\u001b[1;32m   3894\u001b[0m \u001b[39mif\u001b[39;00m is_integer(indexer):\n\u001b[1;32m   3895\u001b[0m     indexer \u001b[39m=\u001b[39m [indexer]\n",
      "File \u001b[0;32m/Library/Frameworks/Python.framework/Versions/3.10/lib/python3.10/site-packages/pandas/core/indexes/base.py:3797\u001b[0m, in \u001b[0;36mIndex.get_loc\u001b[0;34m(self, key)\u001b[0m\n\u001b[1;32m   3792\u001b[0m     \u001b[39mif\u001b[39;00m \u001b[39misinstance\u001b[39m(casted_key, \u001b[39mslice\u001b[39m) \u001b[39mor\u001b[39;00m (\n\u001b[1;32m   3793\u001b[0m         \u001b[39misinstance\u001b[39m(casted_key, abc\u001b[39m.\u001b[39mIterable)\n\u001b[1;32m   3794\u001b[0m         \u001b[39mand\u001b[39;00m \u001b[39many\u001b[39m(\u001b[39misinstance\u001b[39m(x, \u001b[39mslice\u001b[39m) \u001b[39mfor\u001b[39;00m x \u001b[39min\u001b[39;00m casted_key)\n\u001b[1;32m   3795\u001b[0m     ):\n\u001b[1;32m   3796\u001b[0m         \u001b[39mraise\u001b[39;00m InvalidIndexError(key)\n\u001b[0;32m-> 3797\u001b[0m     \u001b[39mraise\u001b[39;00m \u001b[39mKeyError\u001b[39;00m(key) \u001b[39mfrom\u001b[39;00m \u001b[39merr\u001b[39;00m\n\u001b[1;32m   3798\u001b[0m \u001b[39mexcept\u001b[39;00m \u001b[39mTypeError\u001b[39;00m:\n\u001b[1;32m   3799\u001b[0m     \u001b[39m# If we have a listlike key, _check_indexing_error will raise\u001b[39;00m\n\u001b[1;32m   3800\u001b[0m     \u001b[39m#  InvalidIndexError. Otherwise we fall through and re-raise\u001b[39;00m\n\u001b[1;32m   3801\u001b[0m     \u001b[39m#  the TypeError.\u001b[39;00m\n\u001b[1;32m   3802\u001b[0m     \u001b[39mself\u001b[39m\u001b[39m.\u001b[39m_check_indexing_error(key)\n",
      "\u001b[0;31mKeyError\u001b[0m: 'Datetime'"
     ]
    }
   ],
   "source": [
    "df['Datetime'] = pd.to_datetime(df['Datetime'])\n",
    "df.dtypes"
   ]
  },
  {
   "cell_type": "code",
   "execution_count": null,
   "metadata": {},
   "outputs": [],
   "source": [
    "df.sort_values(by='Datetime', axis=0)"
   ]
  },
  {
   "cell_type": "code",
   "execution_count": null,
   "metadata": {},
   "outputs": [],
   "source": [
    "df = df.drop(columns=['Datetime'])"
   ]
  },
  {
   "cell_type": "code",
   "execution_count": null,
   "metadata": {},
   "outputs": [],
   "source": [
    "# Convert all the times into a timestamp with 0 = 00:00:00 and 86399 = 23:59:59\n",
    "\n",
    "def time_to_daytimestamp(stamp: str) -> int:\n",
    "    if stamp is None:\n",
    "        return -1\n",
    "    \n",
    "    if isinstance(stamp, float):\n",
    "        return -1\n",
    "    \n",
    "    h, m, s = stamp.split(':')\n",
    "    return int(h) * 24 * 60 + int(m) * 60 + int(s)\n",
    "\n",
    "df['Time'] = df['Time'].apply(lambda time: time_to_daytimestamp(time))\n",
    "\n",
    "df['Previous Time to Xavier Hall'] = df['Previous Time to Xavier Hall'].apply(lambda time: time_to_daytimestamp(time))\n",
    "df['Previous Time to Fine Arts Annex'] = df['Previous Time to Fine Arts Annex'].apply(lambda time: time_to_daytimestamp(time))\n",
    "df['Previous Time to Loyola House of Studies'] = df['Previous Time to Loyola House of Studies'].apply(lambda time: time_to_daytimestamp(time))\n",
    "df['Previous Time to Grade School'] = df['Previous Time to Grade School'].apply(lambda time: time_to_daytimestamp(time))\n",
    "df['Previous Time to Gate 2.5'] = df['Previous Time to Gate 2.5'].apply(lambda time: time_to_daytimestamp(time))\n",
    "df['Previous Time to Leong Hall'] = df['Previous Time to Leong Hall'].apply(lambda time: time_to_daytimestamp(time))\n",
    "\n",
    "df['Next Time to Xavier Hall'] = df['Next Time to Xavier Hall'].apply(lambda time: time_to_daytimestamp(time))\n",
    "df['Next Time to Fine Arts Annex'] = df['Next Time to Fine Arts Annex'].apply(lambda time: time_to_daytimestamp(time))\n",
    "df['Next Time to Loyola House of Studies'] = df['Next Time to Loyola House of Studies'].apply(lambda time: time_to_daytimestamp(time))\n",
    "df['Next Time to Grade School'] = df['Next Time to Grade School'].apply(lambda time: time_to_daytimestamp(time))\n",
    "df['Next Time to Gate 2.5'] = df['Next Time to Gate 2.5'].apply(lambda time: time_to_daytimestamp(time))\n",
    "df['Next Time to Leong Hall'] = df['Next Time to Leong Hall'].apply(lambda time: time_to_daytimestamp(time))\n",
    "\n",
    "df"
   ]
  },
  {
   "cell_type": "code",
   "execution_count": null,
   "metadata": {},
   "outputs": [],
   "source": [
    "df = df.fillna(-1)\n",
    "df\n",
    "\n",
    "df.to_csv('Updated Out.csv')"
   ]
  },
  {
   "cell_type": "code",
   "execution_count": null,
   "metadata": {},
   "outputs": [],
   "source": [
    "days = df['Day'].unique()\n",
    "days\n",
    "\n",
    "for day in days:\n",
    "    to_plot = df[df['Day'] == day]\n",
    "    to_plot = to_plot[to_plot['IsEJeep1'] == 1]\n",
    "\n",
    "    for station in next_station_dict.keys():\n",
    "        x_vals = to_plot['Time']\n",
    "        y_vals = to_plot[f'Next Time to {station}']\n",
    "\n",
    "        plt.figure(figsize=(10, 7))\n",
    "        # plt.plot(x_vals, x_vals, marker='o', linestyle='-', color='b', label='Line Plot')\n",
    "        plt.plot(x_vals, y_vals, color='r')\n",
    "\n",
    "        plt.xlabel('Time')\n",
    "        plt.ylabel('Pred Time')\n",
    "        plt.title(f'Day {day}: Next Time to {station}')\n",
    "        plt.legend()  # Optional: Show legend\n",
    "        plt.grid(True)  # Optional: Show grid\n",
    "        plt.show()"
   ]
  },
  {
   "cell_type": "code",
   "execution_count": 5,
   "metadata": {},
   "outputs": [
    {
     "data": {
      "text/plain": [
       "<AxesSubplot:>"
      ]
     },
     "execution_count": 5,
     "metadata": {},
     "output_type": "execute_result"
    },
    {
     "data": {
      "image/png": "[encoded data removed]",
      "text/plain": [
       "<Figure size 1080x1080 with 2 Axes>"
      ]
     },
     "metadata": {
      "needs_background": "light"
     },
     "output_type": "display_data"
    }
   ],
   "source": [
    "# Get correlations among features\n",
    "import seaborn as sns\n",
    "plt.subplots(figsize=(15, 15))\n",
    "sns.heatmap(df.corr())"
   ]
  },
  {
   "cell_type": "code",
   "execution_count": 6,
   "metadata": {},
   "outputs": [],
   "source": [
    "X = df.copy()\n",
    "X = X[X['Day'] <= 20]\n",
    "X.sort_values(by=['Day', 'Time'], axis=0, inplace=True)"
   ]
  },
  {
   "cell_type": "code",
   "execution_count": 7,
   "metadata": {},
   "outputs": [
    {
     "data": {
      "text/plain": [
       "array([ 4,  9, 10, 12, 14, 15, 16, 17])"
      ]
     },
     "execution_count": 7,
     "metadata": {},
     "output_type": "execute_result"
    }
   ],
   "source": [
    "X['Day'].unique()"
   ]
  },
  {
   "cell_type": "code",
   "execution_count": 8,
   "metadata": {},
   "outputs": [],
   "source": [
    "X_train = X[X['Day'] < 16]\n",
    "X_test = X[X['Day'] >= 16]"
   ]
  },
  {
   "cell_type": "code",
   "execution_count": 9,
   "metadata": {},
   "outputs": [],
   "source": [
    "from sklearn.preprocessing import MinMaxScaler\n",
    "scaler = MinMaxScaler()\n",
    "\n",
    "X_train_scaled = scaler.fit_transform(X_train.to_numpy())\n",
    "X_train = pd.DataFrame(X_train_scaled, columns=X.columns)\n",
    "\n",
    "X_test_scaled = scaler.transform(X_test.to_numpy())\n",
    "X_test = pd.DataFrame(X_test_scaled, columns=X.columns)"
   ]
  },
  {
   "cell_type": "code",
   "execution_count": null,
   "metadata": {},
   "outputs": [],
   "source": [
    "# X_train = X_scaled[X_scaled['Day'] < scaled_days[-2]]\n",
    "# X_test = X_scaled[X_scaled['Day'] >= scaled_days[-2]]"
   ]
  },
  {
   "cell_type": "code",
   "execution_count": 10,
   "metadata": {},
   "outputs": [],
   "source": [
    "# X_train = X[X['Day'] < 16]\n",
    "# X_test = X[X['Day'] >= 16]\n",
    "\n",
    "# Xs is X but without the next time columns within it\n",
    "Xs_train = X_train.copy()\n",
    "Xs_test = X_test.copy()\n",
    "\n",
    "Xs_train = Xs_train.drop(columns=['Next Time to Fine Arts Annex', 'Next Time to Loyola House of Studies', 'Next Time to Grade School', 'Next Time to Gate 2.5', 'Next Time to Leong Hall', 'Next Time to Xavier Hall'])\n",
    "Xs_test = Xs_test.drop(columns=['Next Time to Fine Arts Annex', 'Next Time to Loyola House of Studies', 'Next Time to Grade School', 'Next Time to Gate 2.5', 'Next Time to Leong Hall', 'Next Time to Xavier Hall'])\n",
    "\n",
    "Y_train = X_train.copy()\n",
    "Y_test = X_test.copy()\n",
    "\n",
    "Y_train = Y_train[['Next Time to Fine Arts Annex', 'Next Time to Loyola House of Studies', 'Next Time to Grade School', 'Next Time to Gate 2.5', 'Next Time to Leong Hall', 'Next Time to Xavier Hall', 'IsEJeep1', 'IsEJeep2', 'IsEJeep3']]\n",
    "Y_train = Y_train.dropna()\n",
    "\n",
    "Y_test = Y_test[['Next Time to Fine Arts Annex', 'Next Time to Loyola House of Studies', 'Next Time to Grade School', 'Next Time to Gate 2.5', 'Next Time to Leong Hall', 'Next Time to Xavier Hall', 'IsEJeep1', 'IsEJeep2', 'IsEJeep3']]\n",
    "Y_test = Y_test.dropna()\n",
    "\n",
    "assert(len(X_train) == len(Y_train))\n",
    "assert(len(X_test) == len(Y_test))"
   ]
  },
  {
   "cell_type": "code",
   "execution_count": null,
   "metadata": {},
   "outputs": [],
   "source": [
    "X_train"
   ]
  },
  {
   "cell_type": "code",
   "execution_count": 11,
   "metadata": {},
   "outputs": [
    {
     "data": {
      "text/html": [
       "<style>#sk-container-id-1 {color: black;}#sk-container-id-1 pre{padding: 0;}#sk-container-id-1 div.sk-toggleable {background-color: white;}#sk-container-id-1 label.sk-toggleable__label {cursor: pointer;display: block;width: 100%;margin-bottom: 0;padding: 0.3em;box-sizing: border-box;text-align: center;}#sk-container-id-1 label.sk-toggleable__label-arrow:before {content: \"▸\";float: left;margin-right: 0.25em;color: #696969;}#sk-container-id-1 label.sk-toggleable__label-arrow:hover:before {color: black;}#sk-container-id-1 div.sk-estimator:hover label.sk-toggleable__label-arrow:before {color: black;}#sk-container-id-1 div.sk-toggleable__content {max-height: 0;max-width: 0;overflow: hidden;text-align: left;background-color: #f0f8ff;}#sk-container-id-1 div.sk-toggleable__content pre {margin: 0.2em;color: black;border-radius: 0.25em;background-color: #f0f8ff;}#sk-container-id-1 input.sk-toggleable__control:checked~div.sk-toggleable__content {max-height: 200px;max-width: 100%;overflow: auto;}#sk-container-id-1 input.sk-toggleable__control:checked~label.sk-toggleable__label-arrow:before {content: \"▾\";}#sk-container-id-1 div.sk-estimator input.sk-toggleable__control:checked~label.sk-toggleable__label {background-color: #d4ebff;}#sk-container-id-1 div.sk-label input.sk-toggleable__control:checked~label.sk-toggleable__label {background-color: #d4ebff;}#sk-container-id-1 input.sk-hidden--visually {border: 0;clip: rect(1px 1px 1px 1px);clip: rect(1px, 1px, 1px, 1px);height: 1px;margin: -1px;overflow: hidden;padding: 0;position: absolute;width: 1px;}#sk-container-id-1 div.sk-estimator {font-family: monospace;background-color: #f0f8ff;border: 1px dotted black;border-radius: 0.25em;box-sizing: border-box;margin-bottom: 0.5em;}#sk-container-id-1 div.sk-estimator:hover {background-color: #d4ebff;}#sk-container-id-1 div.sk-parallel-item::after {content: \"\";width: 100%;border-bottom: 1px solid gray;flex-grow: 1;}#sk-container-id-1 div.sk-label:hover label.sk-toggleable__label {background-color: #d4ebff;}#sk-container-id-1 div.sk-serial::before {content: \"\";position: absolute;border-left: 1px solid gray;box-sizing: border-box;top: 0;bottom: 0;left: 50%;z-index: 0;}#sk-container-id-1 div.sk-serial {display: flex;flex-direction: column;align-items: center;background-color: white;padding-right: 0.2em;padding-left: 0.2em;position: relative;}#sk-container-id-1 div.sk-item {position: relative;z-index: 1;}#sk-container-id-1 div.sk-parallel {display: flex;align-items: stretch;justify-content: center;background-color: white;position: relative;}#sk-container-id-1 div.sk-item::before, #sk-container-id-1 div.sk-parallel-item::before {content: \"\";position: absolute;border-left: 1px solid gray;box-sizing: border-box;top: 0;bottom: 0;left: 50%;z-index: -1;}#sk-container-id-1 div.sk-parallel-item {display: flex;flex-direction: column;z-index: 1;position: relative;background-color: white;}#sk-container-id-1 div.sk-parallel-item:first-child::after {align-self: flex-end;width: 50%;}#sk-container-id-1 div.sk-parallel-item:last-child::after {align-self: flex-start;width: 50%;}#sk-container-id-1 div.sk-parallel-item:only-child::after {width: 0;}#sk-container-id-1 div.sk-dashed-wrapped {border: 1px dashed gray;margin: 0 0.4em 0.5em 0.4em;box-sizing: border-box;padding-bottom: 0.4em;background-color: white;}#sk-container-id-1 div.sk-label label {font-family: monospace;font-weight: bold;display: inline-block;line-height: 1.2em;}#sk-container-id-1 div.sk-label-container {text-align: center;}#sk-container-id-1 div.sk-container {/* jupyter's `normalize.less` sets `[hidden] { display: none; }` but bootstrap.min.css set `[hidden] { display: none !important; }` so we also need the `!important` here to be able to override the default hidden behavior on the sphinx rendered scikit-learn.org. See: https://github.com/scikit-learn/scikit-learn/issues/21755 */display: inline-block !important;position: relative;}#sk-container-id-1 div.sk-text-repr-fallback {display: none;}</style><div id=\"sk-container-id-1\" class=\"sk-top-container\"><div class=\"sk-text-repr-fallback\"><pre>LinearRegression()</pre><b>In a Jupyter environment, please rerun this cell to show the HTML representation or trust the notebook. <br />On GitHub, the HTML representation is unable to render, please try loading this page with nbviewer.org.</b></div><div class=\"sk-container\" hidden><div class=\"sk-item\"><div class=\"sk-estimator sk-toggleable\"><input class=\"sk-toggleable__control sk-hidden--visually\" id=\"sk-estimator-id-1\" type=\"checkbox\" checked><label for=\"sk-estimator-id-1\" class=\"sk-toggleable__label sk-toggleable__label-arrow\">LinearRegression</label><div class=\"sk-toggleable__content\"><pre>LinearRegression()</pre></div></div></div></div></div>"
      ],
      "text/plain": [
       "LinearRegression()"
      ]
     },
     "execution_count": 11,
     "metadata": {},
     "output_type": "execute_result"
    }
   ],
   "source": [
    "#model_lr = LinearRegression()\n",
    "#model_lr.fit(X_train, Y_train)\n",
    "\n",
    "model_s_lr = LinearRegression()\n",
    "model_s_lr.fit(Xs_train, Y_train)"
   ]
  },
  {
   "cell_type": "code",
   "execution_count": null,
   "metadata": {},
   "outputs": [],
   "source": [
    "X_test"
   ]
  },
  {
   "cell_type": "code",
   "execution_count": 12,
   "metadata": {},
   "outputs": [],
   "source": [
    "df_output = pd.DataFrame(columns=Y_train.columns)\n",
    "df_s_output = pd.DataFrame(columns=Y_train.columns)"
   ]
  },
  {
   "cell_type": "code",
   "execution_count": null,
   "metadata": {},
   "outputs": [],
   "source": [
    "def daytimestamp_to_time(val: int) -> str:\n",
    "    h = val // (24 * 60)\n",
    "    m_s = val % (24 * 60)\n",
    "    m = m_s // 60\n",
    "    s = m_s % 60\n",
    "\n",
    "    return f'{h:02}:{m:02}:{s:02}'"
   ]
  },
  {
   "cell_type": "code",
   "execution_count": null,
   "metadata": {},
   "outputs": [],
   "source": [
    "for index, row in X_test.iterrows():\n",
    "    y_hat = model_lr.predict(row.to_frame().transpose())\n",
    "    df_output.loc[len(df_output)] = y_hat[0]\n",
    "\n",
    "df_output"
   ]
  },
  {
   "cell_type": "code",
   "execution_count": null,
   "metadata": {},
   "outputs": [],
   "source": [
    "df_s_output = pd.DataFrame(columns=Y_train.columns)\n",
    "\n",
    "for index, row in Xs_test.iterrows():\n",
    "    y_hat = model_s_lr.predict(row.to_frame().transpose())\n",
    "    df_s_output.loc[len(df_s_output)] = y_hat[0]\n",
    "\n",
    "df_s_output"
   ]
  },
  {
   "cell_type": "code",
   "execution_count": null,
   "metadata": {},
   "outputs": [],
   "source": [
    "df_output.to_csv('Linear Reg Output.csv')\n",
    "df_s_output.to_csv('Linear Reg Spec Output.csv')"
   ]
  },
  {
   "cell_type": "code",
   "execution_count": null,
   "metadata": {},
   "outputs": [],
   "source": [
    "Y_test = Y_test.dropna()\n",
    "df_output = df_output.dropna()\n",
    "df_s_output = df_s_output.dropna()\n",
    "\n",
    "Y_test = Y_test.drop(columns=['IsEJeep1', 'IsEJeep2', 'IsEJeep3'])\n",
    "df_output = df_output.drop(columns=['IsEJeep1', 'IsEJeep2', 'IsEJeep3'])\n",
    "df_s_output = df_s_output.drop(columns=['IsEJeep1', 'IsEJeep2', 'IsEJeep3'])\n",
    "\n"
   ]
  },
  {
   "cell_type": "code",
   "execution_count": 13,
   "metadata": {},
   "outputs": [],
   "source": [
    "y_pred = model_s_lr.predict(Xs_test)"
   ]
  },
  {
   "cell_type": "code",
   "execution_count": 14,
   "metadata": {},
   "outputs": [
    {
     "name": "stdout",
     "output_type": "stream",
     "text": [
      "WithOUT Next Time of Arrival in Train Dataset:\n",
      "RMSE: 0.19565382566246958\n",
      "R^2: -0.01577929075997633\n",
      "MAE: 0.15789188851941097\n"
     ]
    }
   ],
   "source": [
    "# Calculating MSE for all columns\n",
    "# rmse = mean_squared_error(Y_test, df_output, squared=False)\n",
    "rmse_s = mean_squared_error(Y_test, y_pred, squared=False)\n",
    "\n",
    "# mae = mean_absolute_error(Y_test, df_output)\n",
    "mae_s = mean_absolute_error(Y_test, y_pred)\n",
    "\n",
    "# r2 = r2_score(Y_test, df_output)\n",
    "r2_s = r2_score(Y_test, y_pred)\n",
    "\n",
    "# print('With Next Time of Arrival in Train Dataset:')\n",
    "# print(f'RMSE: {rmse}')\n",
    "# print(f'R^2: {r2}')\n",
    "# print(f'MAE: {mae}')\n",
    "\n",
    "print('WithOUT Next Time of Arrival in Train Dataset:')\n",
    "print(f'RMSE: {rmse_s}')\n",
    "print(f'R^2: {r2_s}')\n",
    "print(f'MAE: {mae_s}')"
   ]
  },
  {
   "cell_type": "code",
   "execution_count": null,
   "metadata": {},
   "outputs": [],
   "source": [
    "print(Y_test.columns, )"
   ]
  },
  {
   "cell_type": "code",
   "execution_count": null,
   "metadata": {},
   "outputs": [],
   "source": [
    "# Do some plotting here\n",
    "\n",
    "# Y_pred = model_s_lr.predict(Xs_test)\n",
    "\n",
    "for station in next_station_dict.keys():\n",
    "    diff_df = df_s_output.subtract(Y_test.reset_index(drop=True))[f'Next Time to {station}']\n",
    "\n",
    "    plt.figure(figsize=(15, 15))\n",
    "    plt.plot(Y_test[f'Next Time to {station}'], diff_df, 'o', color='black')\n",
    "    plt.xlabel('Y_test')\n",
    "    plt.ylabel('pred - Y_test')\n",
    "    plt.title(f'Linear Regression: Differences in Next Time of Arrival to {station}')\n",
    "    plt.show()"
   ]
  },
  {
   "cell_type": "markdown",
   "metadata": {},
   "source": [
    "# RQ2: PCA and Feature Importance"
   ]
  },
  {
   "cell_type": "markdown",
   "metadata": {},
   "source": [
    "#### PCA"
   ]
  },
  {
   "cell_type": "code",
   "execution_count": null,
   "metadata": {},
   "outputs": [],
   "source": [
    "# PCA\n",
    "from sklearn.decomposition import PCA\n",
    "from sklearn.preprocessing import minmax_scale\n",
    "from sklearn.model_selection import RepeatedKFold\n",
    "from sklearn import model_selection\n",
    "\n",
    "X_pca = X.copy()\n",
    "Y_pca = X_pca[['Next Time to Fine Arts Annex', 'Next Time to Loyola House of Studies', 'Next Time to Grade School', 'Next Time to Gate 2.5', 'Next Time to Leong Hall', 'Next Time to Xavier Hall']]\n",
    "X_pca = X_pca.drop(columns=['Next Time to Fine Arts Annex', 'Next Time to Loyola House of Studies', 'Next Time to Grade School', 'Next Time to Gate 2.5', 'Next Time to Leong Hall', 'Next Time to Xavier Hall'])\n",
    "\n",
    "pca = PCA()\n",
    "X_reduced = pca.fit_transform(minmax_scale(X_pca))\n",
    "Y_reduced = pca.fit_transform(minmax_scale(Y_pca))\n",
    "\n",
    "cv = RepeatedKFold(n_splits=2, n_repeats=1, random_state=0)\n",
    "\n",
    "reg = LinearRegression()\n",
    "scores = []\n",
    "\n",
    "score = -1*model_selection.cross_val_score(reg,\n",
    "           np.ones((len(X_reduced),1)), Y_reduced, cv=cv,\n",
    "           scoring='neg_mean_squared_error').mean()    \n",
    "scores.append(score)\n",
    "\n",
    "for i in np.arange(1, len(X.columns)):\n",
    "    score = -1*model_selection.cross_val_score(reg,\n",
    "               X_reduced[:,:i], Y_reduced, cv=cv, scoring='neg_mean_squared_error').mean()\n",
    "    scores.append(score)\n",
    "\n",
    "scores\n"
   ]
  },
  {
   "cell_type": "code",
   "execution_count": 71,
   "metadata": {},
   "outputs": [],
   "source": [
    "import pandas as pd\n",
    "from sklearn.preprocessing import MinMaxScaler\n",
    "from sklearn.decomposition import PCA\n",
    "from sklearn.model_selection import train_test_split\n",
    "from sklearn.linear_model import LinearRegression\n",
    "\n",
    "X_copy = X.drop(columns=['Next Time to Fine Arts Annex', 'Next Time to Loyola House of Studies', 'Next Time to Grade School', 'Next Time to Gate 2.5', 'Next Time to Leong Hall', 'Next Time to Xavier Hall'])\n",
    "Y_copy = X[['Next Time to Fine Arts Annex', 'Next Time to Loyola House of Studies', 'Next Time to Grade School', 'Next Time to Gate 2.5', 'Next Time to Leong Hall', 'Next Time to Xavier Hall']]\n",
    "\n",
    "train_scaler = scaler.fit_transform(X_copy.to_numpy())\n",
    "Xs = scaler.transform(X_copy.to_numpy())\n",
    "\n",
    "# Compute PCA\n",
    "pca = PCA(n_components=0.95)  # Select components explaining 95% variance\n",
    "X_pca = pca.fit_transform(Xs)"
   ]
  },
  {
   "cell_type": "code",
   "execution_count": 82,
   "metadata": {},
   "outputs": [
    {
     "name": "stdout",
     "output_type": "stream",
     "text": [
      "[{'Threshold': 0.0, 'Feature Count': 35, 'R^2': 0.6754163010618424}, {'Threshold': 0.01, 'Feature Count': 30, 'R^2': 0.6709648159039352}, {'Threshold': 0.02, 'Feature Count': 30, 'R^2': 0.669220024228593}, {'Threshold': 0.03, 'Feature Count': 29, 'R^2': 0.6372058615147743}, {'Threshold': 0.04, 'Feature Count': 29, 'R^2': 0.6389686508513454}, {'Threshold': 0.05, 'Feature Count': 29, 'R^2': 0.638854798527974}, {'Threshold': 0.06, 'Feature Count': 26, 'R^2': 0.6017297569111539}, {'Threshold': 0.07, 'Feature Count': 23, 'R^2': 0.5507880443277171}, {'Threshold': 0.08, 'Feature Count': 21, 'R^2': 0.5451964167444895}, {'Threshold': 0.09, 'Feature Count': 21, 'R^2': 0.5456882893200854}, {'Threshold': 0.1, 'Feature Count': 19, 'R^2': 0.46487186078393}, {'Threshold': 0.11, 'Feature Count': 19, 'R^2': 0.46523794097138343}, {'Threshold': 0.12, 'Feature Count': 18, 'R^2': 0.3841504834974579}, {'Threshold': 0.13, 'Feature Count': 17, 'R^2': 0.3802843503141844}, {'Threshold': 0.14, 'Feature Count': 15, 'R^2': 0.3382130975679429}, {'Threshold': 0.15, 'Feature Count': 15, 'R^2': 0.336974265586317}, {'Threshold': 0.16, 'Feature Count': 14, 'R^2': 0.32634861667713005}, {'Threshold': 0.17, 'Feature Count': 12, 'R^2': 0.29417739814389704}, {'Threshold': 0.18, 'Feature Count': 11, 'R^2': 0.16525252433911242}, {'Threshold': 0.19, 'Feature Count': 11, 'R^2': 0.16780468792300743}, {'Threshold': 0.2, 'Feature Count': 10, 'R^2': 0.16055760024651947}, {'Threshold': 0.21, 'Feature Count': 10, 'R^2': 0.15637566127518324}, {'Threshold': 0.22, 'Feature Count': 5, 'R^2': 0.10938263437594077}, {'Threshold': 0.23, 'Feature Count': 3, 'R^2': 0.031776187440925495}, {'Threshold': 0.24, 'Feature Count': 2, 'R^2': 0.012860288629803393}, {'Threshold': 0.25, 'Feature Count': 2, 'R^2': 0.012489051850392988}, {'Threshold': 0.26, 'Feature Count': 2, 'R^2': 0.012785933162465993}, {'Threshold': 0.27, 'Feature Count': 2, 'R^2': 0.012833023816181491}, {'Threshold': 0.28, 'Feature Count': 2, 'R^2': 0.012370033228803904}, {'Threshold': 0.29, 'Feature Count': 2, 'R^2': 0.012651947408947576}, {'Threshold': 0.3, 'Feature Count': 2, 'R^2': 0.01277132098417951}, {'Threshold': 0.31, 'Feature Count': 2, 'R^2': 0.012611513305060199}, {'Threshold': 0.32, 'Feature Count': 2, 'R^2': 0.012791577577306831}, {'Threshold': 0.33, 'Feature Count': 2, 'R^2': 0.01259395457503452}, {'Threshold': 0.34, 'Feature Count': 2, 'R^2': 0.012298348786639898}, {'Threshold': 0.35, 'Feature Count': 2, 'R^2': 0.012711523076945544}, {'Threshold': 0.36, 'Feature Count': 2, 'R^2': 0.012670703189712232}, {'Threshold': 0.37, 'Feature Count': 2, 'R^2': 0.012316618451915099}, {'Threshold': 0.38, 'Feature Count': 2, 'R^2': 0.012395740018938006}, {'Threshold': 0.39, 'Feature Count': 2, 'R^2': 0.012794693359490591}, {'Threshold': 0.4, 'Feature Count': 2, 'R^2': 0.012669682409984118}, {'Threshold': 0.41, 'Feature Count': 2, 'R^2': 0.013045438490545255}, {'Threshold': 0.42, 'Feature Count': 2, 'R^2': 0.012823179345505512}]\n"
     ]
    }
   ],
   "source": [
    "\n",
    "\n",
    "# Evaluate feature importance\n",
    "loadings = pca.components_\n",
    "feature_names = X_copy.columns\n",
    "\n",
    "r2_dict = []\n",
    "\n",
    "for i in range(0, 100):\n",
    "    selected_features = []\n",
    "\n",
    "    threshold = i / 100.0  # Arbitrary threshold for high loadings\n",
    "    for i, feature in enumerate(feature_names):\n",
    "        if abs(loadings[0, i]) >= threshold:\n",
    "            selected_features.append(feature)\n",
    "\n",
    "    if len(selected_features) == 0:\n",
    "        break\n",
    "\n",
    "    X_copy_dropped = X_copy[selected_features]\n",
    "\n",
    "    # Split data into training and testing sets\n",
    "    X_train, X_test, y_train, y_test = train_test_split(X_copy_dropped, Y_copy, test_size=0.2)\n",
    "\n",
    "    # Train a logistic regression model\n",
    "    model = LinearRegression()\n",
    "    model.fit(X_train, y_train)\n",
    "\n",
    "    # Evaluate model performance on test set\n",
    "    y_pred = model.predict(X_test)\n",
    "    r2 = r2_score(y_test, y_pred)\n",
    "\n",
    "    r2_dict.append({\n",
    "        'Threshold': threshold,\n",
    "        'Feature Count': len(selected_features),\n",
    "        'R^2': r2\n",
    "    })\n",
    "\n",
    "print(r2_dict)"
   ]
  },
  {
   "cell_type": "code",
   "execution_count": 83,
   "metadata": {},
   "outputs": [
    {
     "data": {
      "image/png": "[encoded data removed]",
      "text/plain": [
       "<Figure size 720x504 with 1 Axes>"
      ]
     },
     "metadata": {
      "needs_background": "light"
     },
     "output_type": "display_data"
    }
   ],
   "source": [
    "# Graphing each metric for r^2\n",
    "\n",
    "x_values = [val['Feature Count'] for val in r2_dict]\n",
    "data = [val['R^2'] for val in r2_dict]\n",
    "\n",
    "plt.figure(figsize=(10, 7))\n",
    "plt.plot(x_values, data, marker='o', linestyle='-', color='b', label='Line Plot')\n",
    "plt.xlabel('Feature Count')\n",
    "plt.ylabel('R^2')\n",
    "plt.title('Feature Importance for Linear Regression')\n",
    "plt.legend()  # Optional: Show legend\n",
    "plt.grid(True)  # Optional: Show grid\n",
    "plt.show()"
   ]
  },
  {
   "cell_type": "markdown",
   "metadata": {},
   "source": [
    "#### Feature Importance: Fisher's Score"
   ]
  },
  {
   "cell_type": "code",
   "execution_count": null,
   "metadata": {},
   "outputs": [],
   "source": [
    "Y_train"
   ]
  },
  {
   "cell_type": "code",
   "execution_count": 15,
   "metadata": {},
   "outputs": [
    {
     "ename": "ValueError",
     "evalue": "Unknown label type: continuous-multioutput. Maybe you are trying to fit a classifier, which expects discrete classes on a regression target with continuous values.",
     "output_type": "error",
     "traceback": [
      "\u001b[0;31m---------------------------------------------------------------------------\u001b[0m",
      "\u001b[0;31mValueError\u001b[0m                                Traceback (most recent call last)",
      "\u001b[1;32m/Users/franco/Desktop/College/Thesis/VHS-Thesis/Finalized Models/LinearReg.ipynb Cell 35\u001b[0m line \u001b[0;36m<cell line: 3>\u001b[0;34m()\u001b[0m\n\u001b[1;32m      <a href='vscode-notebook-cell:/Users/franco/Desktop/College/Thesis/VHS-Thesis/Finalized%20Models/LinearReg.ipynb#Y130sZmlsZQ%3D%3D?line=0'>1</a>\u001b[0m \u001b[39mfrom\u001b[39;00m \u001b[39msklearn\u001b[39;00m\u001b[39m.\u001b[39;00m\u001b[39mfeature_selection\u001b[39;00m \u001b[39mimport\u001b[39;00m mutual_info_classif\n\u001b[0;32m----> <a href='vscode-notebook-cell:/Users/franco/Desktop/College/Thesis/VHS-Thesis/Finalized%20Models/LinearReg.ipynb#Y130sZmlsZQ%3D%3D?line=2'>3</a>\u001b[0m importance \u001b[39m=\u001b[39m mutual_info_classif(Xs_train, Y_train)\n\u001b[1;32m      <a href='vscode-notebook-cell:/Users/franco/Desktop/College/Thesis/VHS-Thesis/Finalized%20Models/LinearReg.ipynb#Y130sZmlsZQ%3D%3D?line=3'>4</a>\u001b[0m importance\n",
      "File \u001b[0;32m/Library/Frameworks/Python.framework/Versions/3.10/lib/python3.10/site-packages/sklearn/utils/_param_validation.py:214\u001b[0m, in \u001b[0;36mvalidate_params.<locals>.decorator.<locals>.wrapper\u001b[0;34m(*args, **kwargs)\u001b[0m\n\u001b[1;32m    208\u001b[0m \u001b[39mtry\u001b[39;00m:\n\u001b[1;32m    209\u001b[0m     \u001b[39mwith\u001b[39;00m config_context(\n\u001b[1;32m    210\u001b[0m         skip_parameter_validation\u001b[39m=\u001b[39m(\n\u001b[1;32m    211\u001b[0m             prefer_skip_nested_validation \u001b[39mor\u001b[39;00m global_skip_validation\n\u001b[1;32m    212\u001b[0m         )\n\u001b[1;32m    213\u001b[0m     ):\n\u001b[0;32m--> 214\u001b[0m         \u001b[39mreturn\u001b[39;00m func(\u001b[39m*\u001b[39;49margs, \u001b[39m*\u001b[39;49m\u001b[39m*\u001b[39;49mkwargs)\n\u001b[1;32m    215\u001b[0m \u001b[39mexcept\u001b[39;00m InvalidParameterError \u001b[39mas\u001b[39;00m e:\n\u001b[1;32m    216\u001b[0m     \u001b[39m# When the function is just a wrapper around an estimator, we allow\u001b[39;00m\n\u001b[1;32m    217\u001b[0m     \u001b[39m# the function to delegate validation to the estimator, but we replace\u001b[39;00m\n\u001b[1;32m    218\u001b[0m     \u001b[39m# the name of the estimator by the name of the function in the error\u001b[39;00m\n\u001b[1;32m    219\u001b[0m     \u001b[39m# message to avoid confusion.\u001b[39;00m\n\u001b[1;32m    220\u001b[0m     msg \u001b[39m=\u001b[39m re\u001b[39m.\u001b[39msub(\n\u001b[1;32m    221\u001b[0m         \u001b[39mr\u001b[39m\u001b[39m\"\u001b[39m\u001b[39mparameter of \u001b[39m\u001b[39m\\\u001b[39m\u001b[39mw+ must be\u001b[39m\u001b[39m\"\u001b[39m,\n\u001b[1;32m    222\u001b[0m         \u001b[39mf\u001b[39m\u001b[39m\"\u001b[39m\u001b[39mparameter of \u001b[39m\u001b[39m{\u001b[39;00mfunc\u001b[39m.\u001b[39m\u001b[39m__qualname__\u001b[39m\u001b[39m}\u001b[39;00m\u001b[39m must be\u001b[39m\u001b[39m\"\u001b[39m,\n\u001b[1;32m    223\u001b[0m         \u001b[39mstr\u001b[39m(e),\n\u001b[1;32m    224\u001b[0m     )\n",
      "File \u001b[0;32m/Library/Frameworks/Python.framework/Versions/3.10/lib/python3.10/site-packages/sklearn/feature_selection/_mutual_info.py:489\u001b[0m, in \u001b[0;36mmutual_info_classif\u001b[0;34m(X, y, discrete_features, n_neighbors, copy, random_state)\u001b[0m\n\u001b[1;32m    402\u001b[0m \u001b[39m@validate_params\u001b[39m(\n\u001b[1;32m    403\u001b[0m     {\n\u001b[1;32m    404\u001b[0m         \u001b[39m\"\u001b[39m\u001b[39mX\u001b[39m\u001b[39m\"\u001b[39m: [\u001b[39m\"\u001b[39m\u001b[39marray-like\u001b[39m\u001b[39m\"\u001b[39m, \u001b[39m\"\u001b[39m\u001b[39msparse matrix\u001b[39m\u001b[39m\"\u001b[39m],\n\u001b[0;32m   (...)\u001b[0m\n\u001b[1;32m    414\u001b[0m     X, y, \u001b[39m*\u001b[39m, discrete_features\u001b[39m=\u001b[39m\u001b[39m\"\u001b[39m\u001b[39mauto\u001b[39m\u001b[39m\"\u001b[39m, n_neighbors\u001b[39m=\u001b[39m\u001b[39m3\u001b[39m, copy\u001b[39m=\u001b[39m\u001b[39mTrue\u001b[39;00m, random_state\u001b[39m=\u001b[39m\u001b[39mNone\u001b[39;00m\n\u001b[1;32m    415\u001b[0m ):\n\u001b[1;32m    416\u001b[0m \u001b[39m    \u001b[39m\u001b[39m\"\"\"Estimate mutual information for a discrete target variable.\u001b[39;00m\n\u001b[1;32m    417\u001b[0m \n\u001b[1;32m    418\u001b[0m \u001b[39m    Mutual information (MI) [1]_ between two random variables is a non-negative\u001b[39;00m\n\u001b[0;32m   (...)\u001b[0m\n\u001b[1;32m    487\u001b[0m \u001b[39m           of a Random Vector:, Probl. Peredachi Inf., 23:2 (1987), 9-16\u001b[39;00m\n\u001b[1;32m    488\u001b[0m \u001b[39m    \"\"\"\u001b[39;00m\n\u001b[0;32m--> 489\u001b[0m     check_classification_targets(y)\n\u001b[1;32m    490\u001b[0m     \u001b[39mreturn\u001b[39;00m _estimate_mi(X, y, discrete_features, \u001b[39mTrue\u001b[39;00m, n_neighbors, copy, random_state)\n",
      "File \u001b[0;32m/Library/Frameworks/Python.framework/Versions/3.10/lib/python3.10/site-packages/sklearn/utils/multiclass.py:216\u001b[0m, in \u001b[0;36mcheck_classification_targets\u001b[0;34m(y)\u001b[0m\n\u001b[1;32m    208\u001b[0m y_type \u001b[39m=\u001b[39m type_of_target(y, input_name\u001b[39m=\u001b[39m\u001b[39m\"\u001b[39m\u001b[39my\u001b[39m\u001b[39m\"\u001b[39m)\n\u001b[1;32m    209\u001b[0m \u001b[39mif\u001b[39;00m y_type \u001b[39mnot\u001b[39;00m \u001b[39min\u001b[39;00m [\n\u001b[1;32m    210\u001b[0m     \u001b[39m\"\u001b[39m\u001b[39mbinary\u001b[39m\u001b[39m\"\u001b[39m,\n\u001b[1;32m    211\u001b[0m     \u001b[39m\"\u001b[39m\u001b[39mmulticlass\u001b[39m\u001b[39m\"\u001b[39m,\n\u001b[0;32m   (...)\u001b[0m\n\u001b[1;32m    214\u001b[0m     \u001b[39m\"\u001b[39m\u001b[39mmultilabel-sequences\u001b[39m\u001b[39m\"\u001b[39m,\n\u001b[1;32m    215\u001b[0m ]:\n\u001b[0;32m--> 216\u001b[0m     \u001b[39mraise\u001b[39;00m \u001b[39mValueError\u001b[39;00m(\n\u001b[1;32m    217\u001b[0m         \u001b[39mf\u001b[39m\u001b[39m\"\u001b[39m\u001b[39mUnknown label type: \u001b[39m\u001b[39m{\u001b[39;00my_type\u001b[39m}\u001b[39;00m\u001b[39m. Maybe you are trying to fit a \u001b[39m\u001b[39m\"\u001b[39m\n\u001b[1;32m    218\u001b[0m         \u001b[39m\"\u001b[39m\u001b[39mclassifier, which expects discrete classes on a \u001b[39m\u001b[39m\"\u001b[39m\n\u001b[1;32m    219\u001b[0m         \u001b[39m\"\u001b[39m\u001b[39mregression target with continuous values.\u001b[39m\u001b[39m\"\u001b[39m\n\u001b[1;32m    220\u001b[0m     )\n",
      "\u001b[0;31mValueError\u001b[0m: Unknown label type: continuous-multioutput. Maybe you are trying to fit a classifier, which expects discrete classes on a regression target with continuous values."
     ]
    }
   ],
   "source": [
    "from sklearn.feature_selection import mutual_info_classif\n",
    "\n",
    "importance = mutual_info_classif(Xs_train, Y_train)\n",
    "importance"
   ]
  },
  {
   "cell_type": "code",
   "execution_count": 16,
   "metadata": {},
   "outputs": [
    {
     "ename": "InvalidIndexError",
     "evalue": "(slice(None, None, None), None)",
     "output_type": "error",
     "traceback": [
      "\u001b[0;31m---------------------------------------------------------------------------\u001b[0m",
      "\u001b[0;31mTypeError\u001b[0m                                 Traceback (most recent call last)",
      "File \u001b[0;32m/Library/Frameworks/Python.framework/Versions/3.10/lib/python3.10/site-packages/pandas/core/indexes/base.py:3790\u001b[0m, in \u001b[0;36mIndex.get_loc\u001b[0;34m(self, key)\u001b[0m\n\u001b[1;32m   3789\u001b[0m \u001b[39mtry\u001b[39;00m:\n\u001b[0;32m-> 3790\u001b[0m     \u001b[39mreturn\u001b[39;00m \u001b[39mself\u001b[39;49m\u001b[39m.\u001b[39;49m_engine\u001b[39m.\u001b[39;49mget_loc(casted_key)\n\u001b[1;32m   3791\u001b[0m \u001b[39mexcept\u001b[39;00m \u001b[39mKeyError\u001b[39;00m \u001b[39mas\u001b[39;00m err:\n",
      "File \u001b[0;32mindex.pyx:152\u001b[0m, in \u001b[0;36mpandas._libs.index.IndexEngine.get_loc\u001b[0;34m()\u001b[0m\n",
      "File \u001b[0;32mindex.pyx:158\u001b[0m, in \u001b[0;36mpandas._libs.index.IndexEngine.get_loc\u001b[0;34m()\u001b[0m\n",
      "\u001b[0;31mTypeError\u001b[0m: '(slice(None, None, None), None)' is an invalid key",
      "\nDuring handling of the above exception, another exception occurred:\n",
      "\u001b[0;31mInvalidIndexError\u001b[0m                         Traceback (most recent call last)",
      "\u001b[1;32m/Users/franco/Desktop/College/Thesis/VHS-Thesis/Finalized Models/LinearReg.ipynb Cell 36\u001b[0m line \u001b[0;36m<cell line: 3>\u001b[0;34m()\u001b[0m\n\u001b[1;32m      <a href='vscode-notebook-cell:/Users/franco/Desktop/College/Thesis/VHS-Thesis/Finalized%20Models/LinearReg.ipynb#Y125sZmlsZQ%3D%3D?line=0'>1</a>\u001b[0m \u001b[39mfrom\u001b[39;00m \u001b[39mskfeature\u001b[39;00m\u001b[39m.\u001b[39;00m\u001b[39mfunction\u001b[39;00m\u001b[39m.\u001b[39;00m\u001b[39msimilarity_based\u001b[39;00m \u001b[39mimport\u001b[39;00m fisher_score\n\u001b[0;32m----> <a href='vscode-notebook-cell:/Users/franco/Desktop/College/Thesis/VHS-Thesis/Finalized%20Models/LinearReg.ipynb#Y125sZmlsZQ%3D%3D?line=2'>3</a>\u001b[0m ranks \u001b[39m=\u001b[39m fisher_score\u001b[39m.\u001b[39;49mfisher_score(X_train\u001b[39m.\u001b[39;49miloc[:, :], Y_train\u001b[39m.\u001b[39;49miloc[:, :])\n\u001b[1;32m      <a href='vscode-notebook-cell:/Users/franco/Desktop/College/Thesis/VHS-Thesis/Finalized%20Models/LinearReg.ipynb#Y125sZmlsZQ%3D%3D?line=4'>5</a>\u001b[0m ranks\n",
      "File \u001b[0;32m/Library/Frameworks/Python.framework/Versions/3.10/lib/python3.10/site-packages/skfeature/function/similarity_based/fisher_score.py:40\u001b[0m, in \u001b[0;36mfisher_score\u001b[0;34m(X, y, mode)\u001b[0m\n\u001b[1;32m     38\u001b[0m \u001b[39m# Construct weight matrix W in a fisherScore way\u001b[39;00m\n\u001b[1;32m     39\u001b[0m kwargs \u001b[39m=\u001b[39m {\u001b[39m\"\u001b[39m\u001b[39mneighbor_mode\u001b[39m\u001b[39m\"\u001b[39m: \u001b[39m\"\u001b[39m\u001b[39msupervised\u001b[39m\u001b[39m\"\u001b[39m, \u001b[39m\"\u001b[39m\u001b[39mfisher_score\u001b[39m\u001b[39m\"\u001b[39m: \u001b[39mTrue\u001b[39;00m, \u001b[39m\"\u001b[39m\u001b[39my\u001b[39m\u001b[39m\"\u001b[39m: y}\n\u001b[0;32m---> 40\u001b[0m W \u001b[39m=\u001b[39m construct_W(X, \u001b[39m*\u001b[39;49m\u001b[39m*\u001b[39;49mkwargs)\n\u001b[1;32m     42\u001b[0m \u001b[39m# build the diagonal D matrix from affinity matrix W\u001b[39;00m\n\u001b[1;32m     43\u001b[0m D \u001b[39m=\u001b[39m np\u001b[39m.\u001b[39marray(W\u001b[39m.\u001b[39msum(axis\u001b[39m=\u001b[39m\u001b[39m1\u001b[39m))\n",
      "File \u001b[0;32m/Library/Frameworks/Python.framework/Versions/3.10/lib/python3.10/site-packages/skfeature/utility/construct_W.py:194\u001b[0m, in \u001b[0;36mconstruct_W\u001b[0;34m(X, **kwargs)\u001b[0m\n\u001b[1;32m    192\u001b[0m \u001b[39mfor\u001b[39;00m i \u001b[39min\u001b[39;00m \u001b[39mrange\u001b[39m(n_classes):\n\u001b[1;32m    193\u001b[0m     class_idx \u001b[39m=\u001b[39m y \u001b[39m==\u001b[39m label[i]\n\u001b[0;32m--> 194\u001b[0m     class_idx_all \u001b[39m=\u001b[39m class_idx[:, np\u001b[39m.\u001b[39;49mnewaxis] \u001b[39m&\u001b[39m class_idx[np\u001b[39m.\u001b[39mnewaxis, :]\n\u001b[1;32m    195\u001b[0m     W[class_idx_all] \u001b[39m=\u001b[39m \u001b[39m1.0\u001b[39m \u001b[39m/\u001b[39m np\u001b[39m.\u001b[39msum(np\u001b[39m.\u001b[39msum(class_idx))\n\u001b[1;32m    196\u001b[0m \u001b[39mreturn\u001b[39;00m W\n",
      "File \u001b[0;32m/Library/Frameworks/Python.framework/Versions/3.10/lib/python3.10/site-packages/pandas/core/frame.py:3893\u001b[0m, in \u001b[0;36mDataFrame.__getitem__\u001b[0;34m(self, key)\u001b[0m\n\u001b[1;32m   3891\u001b[0m \u001b[39mif\u001b[39;00m \u001b[39mself\u001b[39m\u001b[39m.\u001b[39mcolumns\u001b[39m.\u001b[39mnlevels \u001b[39m>\u001b[39m \u001b[39m1\u001b[39m:\n\u001b[1;32m   3892\u001b[0m     \u001b[39mreturn\u001b[39;00m \u001b[39mself\u001b[39m\u001b[39m.\u001b[39m_getitem_multilevel(key)\n\u001b[0;32m-> 3893\u001b[0m indexer \u001b[39m=\u001b[39m \u001b[39mself\u001b[39;49m\u001b[39m.\u001b[39;49mcolumns\u001b[39m.\u001b[39;49mget_loc(key)\n\u001b[1;32m   3894\u001b[0m \u001b[39mif\u001b[39;00m is_integer(indexer):\n\u001b[1;32m   3895\u001b[0m     indexer \u001b[39m=\u001b[39m [indexer]\n",
      "File \u001b[0;32m/Library/Frameworks/Python.framework/Versions/3.10/lib/python3.10/site-packages/pandas/core/indexes/base.py:3802\u001b[0m, in \u001b[0;36mIndex.get_loc\u001b[0;34m(self, key)\u001b[0m\n\u001b[1;32m   3797\u001b[0m     \u001b[39mraise\u001b[39;00m \u001b[39mKeyError\u001b[39;00m(key) \u001b[39mfrom\u001b[39;00m \u001b[39merr\u001b[39;00m\n\u001b[1;32m   3798\u001b[0m \u001b[39mexcept\u001b[39;00m \u001b[39mTypeError\u001b[39;00m:\n\u001b[1;32m   3799\u001b[0m     \u001b[39m# If we have a listlike key, _check_indexing_error will raise\u001b[39;00m\n\u001b[1;32m   3800\u001b[0m     \u001b[39m#  InvalidIndexError. Otherwise we fall through and re-raise\u001b[39;00m\n\u001b[1;32m   3801\u001b[0m     \u001b[39m#  the TypeError.\u001b[39;00m\n\u001b[0;32m-> 3802\u001b[0m     \u001b[39mself\u001b[39;49m\u001b[39m.\u001b[39;49m_check_indexing_error(key)\n\u001b[1;32m   3803\u001b[0m     \u001b[39mraise\u001b[39;00m\n",
      "File \u001b[0;32m/Library/Frameworks/Python.framework/Versions/3.10/lib/python3.10/site-packages/pandas/core/indexes/base.py:5974\u001b[0m, in \u001b[0;36mIndex._check_indexing_error\u001b[0;34m(self, key)\u001b[0m\n\u001b[1;32m   5970\u001b[0m \u001b[39mdef\u001b[39;00m \u001b[39m_check_indexing_error\u001b[39m(\u001b[39mself\u001b[39m, key):\n\u001b[1;32m   5971\u001b[0m     \u001b[39mif\u001b[39;00m \u001b[39mnot\u001b[39;00m is_scalar(key):\n\u001b[1;32m   5972\u001b[0m         \u001b[39m# if key is not a scalar, directly raise an error (the code below\u001b[39;00m\n\u001b[1;32m   5973\u001b[0m         \u001b[39m# would convert to numpy arrays and raise later any way) - GH29926\u001b[39;00m\n\u001b[0;32m-> 5974\u001b[0m         \u001b[39mraise\u001b[39;00m InvalidIndexError(key)\n",
      "\u001b[0;31mInvalidIndexError\u001b[0m: (slice(None, None, None), None)"
     ]
    }
   ],
   "source": [
    "from skfeature.function.similarity_based import fisher_score\n",
    "\n",
    "ranks = fisher_score.fisher_score(X_train.iloc[:, :], Y_train.iloc[:, :])\n",
    "\n",
    "ranks"
   ]
  },
  {
   "cell_type": "markdown",
   "metadata": {},
   "source": [
    "#### Feature Importance"
   ]
  },
  {
   "cell_type": "code",
   "execution_count": null,
   "metadata": {},
   "outputs": [],
   "source": [
    "# Feature Importance\n",
    "coeffs = model_lr.coef_\n",
    "coeffs_s = model_s_lr.coef_\n",
    "\n",
    "columns = X_train.columns\n",
    "columns_s = Xs_train.columns\n",
    "\n",
    "coeffs = coeffs.transpose()\n",
    "coeffs_s = coeffs_s.transpose()\n",
    "\n",
    "imp_dict = dict()\n",
    "imp_dict_s = dict()\n",
    "\n",
    "for i, col in enumerate(columns):\n",
    "    imp_dict[col] = abs(sum(coeffs[i][:5]) / 6)\n",
    "\n",
    "for i, col in enumerate(columns_s):\n",
    "    imp_dict_s[col] = abs(sum(coeffs_s[i][:5]) / 6)\n",
    "\n",
    "imp_dict = sorted(imp_dict.items(), key=lambda x:x[1])\n",
    "imp_dict_s = sorted(imp_dict_s.items(), key=lambda x:x[1])"
   ]
  },
  {
   "cell_type": "code",
   "execution_count": null,
   "metadata": {},
   "outputs": [],
   "source": [
    "imp_dict_s"
   ]
  },
  {
   "cell_type": "code",
   "execution_count": null,
   "metadata": {},
   "outputs": [],
   "source": [
    "lol = imp_dict_s.copy()\n",
    "\n",
    "labels = [x for x, y in lol]\n",
    "values = [y for x, y in lol]\n",
    "\n",
    "print(labels)\n",
    "\n",
    "plt.figure(figsize=(8, 6))  # Optional: Set the figure size\n",
    "plt.bar(labels, values, color='blue', label='Bar Plot')\n",
    "plt.xlabel('Feature')\n",
    "plt.ylabel('Weight Consultation')\n",
    "\n",
    "plt.xticks(range(len(labels)), labels, rotation='vertical')\n",
    "plt.title('Feature Importance Weight by Feature')\n",
    "plt.legend()  # Optional: Show legend\n",
    "plt.grid(axis='y')  # Optional: Show grid on the y-axis\n",
    "plt.show()"
   ]
  },
  {
   "cell_type": "code",
   "execution_count": null,
   "metadata": {},
   "outputs": [],
   "source": [
    "X_train_feat_imp = X_train.copy()\n",
    "Xs_train_feat_imp = Xs_train.copy()\n",
    "Y_train_feat_imp = Y_train.copy()\n",
    "\n",
    "X_test_feat_imp = X_test.copy()\n",
    "Xs_test_feat_imp = Xs_test.copy()\n",
    "Y_test_feat_imp = Y_test.copy()\n"
   ]
  },
  {
   "cell_type": "code",
   "execution_count": null,
   "metadata": {},
   "outputs": [],
   "source": [
    "Y_train_feat_imp = Y_train_feat_imp.drop(columns=['IsEJeep1', 'IsEJeep2', 'IsEJeep3'])"
   ]
  },
  {
   "cell_type": "code",
   "execution_count": null,
   "metadata": {},
   "outputs": [],
   "source": [
    "# Drop the 3 lowest features according to the coefficients, retrain model, then get RMSE\n",
    "feat_imp_metrics = []\n",
    "feat_imp_metrics_s = []\n",
    "\n",
    "while len(imp_dict) > 0:\n",
    "    to_drop = imp_dict[:1]\n",
    "\n",
    "    to_drop = [col for col, val in to_drop]\n",
    "    X_train_feat_imp = X_train_feat_imp.drop(columns=to_drop)\n",
    "    X_test_feat_imp = X_test_feat_imp.drop(columns=to_drop)\n",
    "\n",
    "    if len(X_train_feat_imp.columns) <= 0:\n",
    "        break\n",
    "\n",
    "    new_model = LinearRegression()\n",
    "    new_model.fit(X_train_feat_imp, Y_train_feat_imp)\n",
    "\n",
    "    Y_pred = new_model.predict(X_test_feat_imp)\n",
    "\n",
    "    rmse = mean_squared_error(Y_test_feat_imp, Y_pred[:len(df_output) - 1], squared=False)\n",
    "    mae = mean_absolute_error(Y_test_feat_imp, Y_pred[:len(df_output) - 1])\n",
    "    r2 = r2_score(Y_test_feat_imp, Y_pred[:len(df_output) - 1])\n",
    "\n",
    "    feat_imp_metrics.append({\n",
    "        'Feature Count': len(X_train_feat_imp.columns),\n",
    "        'Features Dropped': to_drop,\n",
    "        'RMSE': rmse,\n",
    "        'MAE': mae,\n",
    "        'R^2': r2\n",
    "    })\n",
    "\n",
    "    imp_dict = imp_dict[1:]\n",
    "\n",
    "feat_imp_metrics\n"
   ]
  },
  {
   "cell_type": "code",
   "execution_count": null,
   "metadata": {},
   "outputs": [],
   "source": [
    "feat_imp_metrics_s = []\n",
    "\n",
    "while len(imp_dict_s) > 0:\n",
    "    to_drop = imp_dict_s[:1]\n",
    "\n",
    "    to_drop = [col for col, val in to_drop]\n",
    "    Xs_train_feat_imp = Xs_train_feat_imp.drop(columns=to_drop)\n",
    "    Xs_test_feat_imp = Xs_test_feat_imp.drop(columns=to_drop)\n",
    "\n",
    "    if len(Xs_train_feat_imp.columns) <= 0:\n",
    "        break\n",
    "\n",
    "    new_model = LinearRegression()\n",
    "    new_model.fit(Xs_train_feat_imp, Y_train_feat_imp)\n",
    "\n",
    "    Y_pred = new_model.predict(Xs_test_feat_imp)\n",
    "\n",
    "    rmse = mean_squared_error(Y_test_feat_imp, Y_pred, squared=False)\n",
    "    mae = mean_absolute_error(Y_test_feat_imp, Y_pred)\n",
    "    r2 = r2_score(Y_test_feat_imp, Y_pred)\n",
    "\n",
    "    feat_imp_metrics_s.append({\n",
    "        'Feature Count': len(Xs_train_feat_imp.columns),\n",
    "        'Features Dropped': to_drop,\n",
    "        'RMSE': rmse,\n",
    "        'MAE': mae,\n",
    "        'R^2': r2\n",
    "    })\n",
    "\n",
    "    imp_dict_s = imp_dict_s[1:]\n",
    "\n",
    "feat_imp_metrics_s"
   ]
  },
  {
   "cell_type": "code",
   "execution_count": null,
   "metadata": {},
   "outputs": [],
   "source": [
    "# Graphing each metric for r^2\n",
    "overall_data = [(val['Feature Count'], val['R^2']) for val in feat_imp_metrics_s]\n",
    "overall_data = overall_data[::-1]\n",
    "\n",
    "x_values = [x for x, y in overall_data]\n",
    "data = [y for x, y in overall_data]\n",
    "\n",
    "plt.figure(figsize=(10, 7))\n",
    "plt.plot(x_values, data, marker='o', linestyle='-', color='b', label='Line Plot')\n",
    "plt.xlabel('Feature Count')\n",
    "plt.ylabel('R^2')\n",
    "plt.title('Feature Importance for Linear Regression')\n",
    "plt.legend()  # Optional: Show legend\n",
    "plt.grid(True)  # Optional: Show grid\n",
    "plt.show()"
   ]
  },
  {
   "cell_type": "markdown",
   "metadata": {},
   "source": [
    "# RQ3: Autoencoders"
   ]
  },
  {
   "cell_type": "code",
   "execution_count": null,
   "metadata": {},
   "outputs": [],
   "source": [
    "import keras\n",
    "from keras.models import Sequential\n",
    "from keras.layers import Input, Dense"
   ]
  },
  {
   "cell_type": "code",
   "execution_count": null,
   "metadata": {},
   "outputs": [],
   "source": [
    "# Setting up train and test data\n",
    "X_train_ae = X_train.copy()\n",
    "Xs_train_ae = Xs_train.copy()\n",
    "Y_train_ae = Y_train.copy()\n",
    "\n",
    "X_test_ae = X_test.copy()\n",
    "Xs_test_ae = Xs_test.copy()\n",
    "Y_test_ae = Y_test.copy()\n",
    "\n",
    "Y_train_ae = Y_train_ae.drop(columns=['IsEJeep1', 'IsEJeep2', 'IsEJeep3'])"
   ]
  },
  {
   "cell_type": "code",
   "execution_count": null,
   "metadata": {},
   "outputs": [],
   "source": [
    "input_dim = X_train_ae.shape[1]\n",
    "\n",
    "print((input_dim,))"
   ]
  },
  {
   "cell_type": "code",
   "execution_count": null,
   "metadata": {},
   "outputs": [],
   "source": [
    "# Define the autoencoder architecture\n",
    "# from keras import Model\n",
    "from tensorflow import keras\n",
    "#from keras.models import Sequential\n",
    "#from keras.layers import Input, Dense\n",
    "\n",
    "input_dim = X_train_ae.shape[1]\n",
    "input_s_dim = Xs_train_ae.shape[1]\n",
    "\n",
    "encoding_dim = 2\n",
    "\n",
    "# Set the encoding dimension\n",
    "input_layer = keras.layers.Input(shape=(input_dim,))\n",
    "input_layer_s = keras.layers.Input(shape=(input_s_dim, ))\n",
    "\n",
    "encoder = keras.layers.Dense(encoding_dim, activation=\"relu\")(input_layer)\n",
    "encoder_s = keras.layers.Dense(encoding_dim, activation=\"relu\")(input_layer_s)\n",
    "\n",
    "decoder = keras.layers.Dense(input_dim, activation=\"sigmoid\")(encoder)\n",
    "decoder_s = keras.layers.Dense(input_s_dim, activation=\"sigmoid\")(encoder_s)\n",
    "\n",
    "autoencoder = keras.Model(inputs=input_layer, outputs=decoder)\n",
    "autoencoder_s = keras.Model(inputs=input_layer_s, outputs=decoder_s)\n",
    "\n",
    "# Compile the autoencoder\n",
    "autoencoder.compile(optimizer='adam', loss='mse')\n",
    "autoencoder_s.compile(optimizer='adam', loss='mse')\n",
    "\n",
    "# Summary of the autoencoder architecture\n",
    "autoencoder.summary()\n",
    "autoencoder_s.summary()"
   ]
  },
  {
   "cell_type": "code",
   "execution_count": null,
   "metadata": {},
   "outputs": [],
   "source": [
    "from tensorflow import keras\n",
    "\n",
    "input_dim = Xs_train_ae.shape[1]\n",
    "\n",
    "visible = keras.layers.Input(shape=(input_dim,))\n"
   ]
  },
  {
   "cell_type": "code",
   "execution_count": null,
   "metadata": {},
   "outputs": [],
   "source": [
    "autoencoder.fit(X_train_ae, X_train_ae, epochs=100, batch_size=32, shuffle=True, validation_data=(X_test_ae, X_test_ae))"
   ]
  },
  {
   "cell_type": "code",
   "execution_count": null,
   "metadata": {},
   "outputs": [],
   "source": [
    "autoencoder_s.fit(Xs_train_ae, Xs_train_ae, epochs=100, batch_size=32, shuffle=True, validation_data=(Xs_test_ae, Xs_test_ae))"
   ]
  },
  {
   "cell_type": "code",
   "execution_count": null,
   "metadata": {},
   "outputs": [],
   "source": [
    "# Use encoder part of the autoencoder for feature selection\n",
    "encoder = Model(inputs=autoencoder.input, outputs=autoencoder.layers[1].output)\n",
    "encoder_s = Model(inputs=autoencoder_s.input, outputs=autoencoder_s.layers[1].output)\n",
    "\n",
    "encoded_features_train = encoder.predict(X_train_ae)\n",
    "encoded_features_test = encoder.predict(X_test_ae)\n",
    "\n",
    "encoded_features_train_s = encoder_s.predict(Xs_train_ae)\n",
    "encoded_features_test_s = encoder_s.predict(Xs_test_ae)\n",
    "\n",
    "# Display the shape of extracted features\n",
    "print(\"Encoded Features Shape (Train):\", encoded_features_train.shape)\n",
    "print(\"Encoded Features Shape (Test):\", encoded_features_test.shape)\n",
    "\n",
    "print(\"S Encoded Features Shape (Train):\", encoded_features_train_s.shape)\n",
    "print(\"S Encoded Features Shape (Test):\", encoded_features_test_s.shape)"
   ]
  },
  {
   "cell_type": "code",
   "execution_count": null,
   "metadata": {},
   "outputs": [],
   "source": [
    "# Fit a logistic regression model using the selected features\n",
    "ae_model = LinearRegression()\n",
    "ae_model.fit(encoded_features_train, Y_train_ae)\n",
    "\n",
    "ae_model_s = LinearRegression()\n",
    "ae_model_s.fit(encoded_features_train_s, Y_train_ae)\n",
    "\n",
    "# Make predictions on the test set\n",
    "y_pred = ae_model.predict(encoded_features_test)\n",
    "ys_pred = ae_model_s.predict(encoded_features_test_s)\n",
    "\n",
    "# Calculate accuracy\n",
    "rmse = mean_squared_error(Y_test, y_pred, squared=False)\n",
    "rmse_s = mean_squared_error(Y_test, ys_pred, squared=False)\n",
    "\n",
    "mae = mean_absolute_error(Y_test, ys_pred)\n",
    "mae_s = mean_absolute_error(Y_test, ys_pred)\n",
    "\n",
    "r2 = r2_score(Y_test, ys_pred)\n",
    "r2_s = r2_score(Y_test, ys_pred)\n",
    "\n",
    "print('With Next Time of Arrival in Train Dataset:')\n",
    "print(f'RMSE: {rmse}')\n",
    "print(f'R^2: {r2}')\n",
    "print(f'MAE: {mae}')\n",
    "\n",
    "print('WithOUT Next Time of Arrival in Train Dataset:')\n",
    "print(f'RMSE: {rmse_s}')\n",
    "print(f'R^2: {r2_s}')\n",
    "print(f'MAE: {mae_s}')\n",
    "\n"
   ]
  }
 ],
 "metadata": {
  "kernelspec": {
   "display_name": "Python 3",
   "language": "python",
   "name": "python3"
  },
  "language_info": {
   "codemirror_mode": {
    "name": "ipython",
    "version": 3
   },
   "file_extension": ".py",
   "mimetype": "text/x-python",
   "name": "python",
   "nbconvert_exporter": "python",
   "pygments_lexer": "ipython3",
   "version": "3.10.0"
  },
  "orig_nbformat": 4
 },
 "nbformat": 4,
 "nbformat_minor": 2
}
